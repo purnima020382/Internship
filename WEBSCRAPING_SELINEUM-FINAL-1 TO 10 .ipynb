{
 "cells": [
  {
   "cell_type": "markdown",
   "id": "47c62bff",
   "metadata": {},
   "source": [
    "#Write a python program to scrape data for “Data Analyst” Job position in “Bangalore” location. You have to scrape the job-title, job-location, company_name, experience_required. You have to scrape first 10 jobs data.  \n",
    "This task will be done in following steps:  \n",
    "1.First get the webpage https://www.naukri.com/  \n",
    "2.Enter “Data Analyst” in “Skill, Designations, Companies” field and enter “Bangalore” in “enter the location” field.  \n",
    "3.Then click the search button.  \n",
    "4.Then scrape the data for the first 10 jobs results you get.  \n",
    "5.Finally create a dataframe of the scraped data.  \n",
    "Note: All of the above steps have to be done in code. No step is to be done manually. \n"
   ]
  },
  {
   "cell_type": "code",
   "execution_count": 5,
   "id": "39e8b0af",
   "metadata": {},
   "outputs": [
    {
     "name": "stdout",
     "output_type": "stream",
     "text": [
      "Requirement already satisfied: selenium in c:\\users\\pravat\\anaconda3\\lib\\site-packages (4.1.0)\n",
      "Requirement already satisfied: trio-websocket~=0.9 in c:\\users\\pravat\\anaconda3\\lib\\site-packages (from selenium) (0.9.2)\n",
      "Requirement already satisfied: trio~=0.17 in c:\\users\\pravat\\anaconda3\\lib\\site-packages (from selenium) (0.19.0)\n",
      "Requirement already satisfied: urllib3[secure]~=1.26 in c:\\users\\pravat\\anaconda3\\lib\\site-packages (from selenium) (1.26.4)\n",
      "Requirement already satisfied: idna in c:\\users\\pravat\\anaconda3\\lib\\site-packages (from trio~=0.17->selenium) (2.10)\n",
      "Requirement already satisfied: sortedcontainers in c:\\users\\pravat\\anaconda3\\lib\\site-packages (from trio~=0.17->selenium) (2.3.0)\n",
      "Requirement already satisfied: sniffio in c:\\users\\pravat\\anaconda3\\lib\\site-packages (from trio~=0.17->selenium) (1.2.0)\n",
      "Requirement already satisfied: attrs>=19.2.0 in c:\\users\\pravat\\anaconda3\\lib\\site-packages (from trio~=0.17->selenium) (20.3.0)\n",
      "Requirement already satisfied: async-generator>=1.9 in c:\\users\\pravat\\anaconda3\\lib\\site-packages (from trio~=0.17->selenium) (1.10)\n",
      "Requirement already satisfied: cffi>=1.14 in c:\\users\\pravat\\anaconda3\\lib\\site-packages (from trio~=0.17->selenium) (1.14.5)\n",
      "Requirement already satisfied: outcome in c:\\users\\pravat\\anaconda3\\lib\\site-packages (from trio~=0.17->selenium) (1.1.0)\n",
      "Requirement already satisfied: pycparser in c:\\users\\pravat\\anaconda3\\lib\\site-packages (from cffi>=1.14->trio~=0.17->selenium) (2.20)\n",
      "Requirement already satisfied: wsproto>=0.14 in c:\\users\\pravat\\anaconda3\\lib\\site-packages (from trio-websocket~=0.9->selenium) (1.0.0)\n",
      "Requirement already satisfied: certifi in c:\\users\\pravat\\anaconda3\\lib\\site-packages (from urllib3[secure]~=1.26->selenium) (2020.12.5)\n",
      "Requirement already satisfied: cryptography>=1.3.4 in c:\\users\\pravat\\anaconda3\\lib\\site-packages (from urllib3[secure]~=1.26->selenium) (3.4.7)\n",
      "Requirement already satisfied: pyOpenSSL>=0.14 in c:\\users\\pravat\\anaconda3\\lib\\site-packages (from urllib3[secure]~=1.26->selenium) (20.0.1)\n",
      "Requirement already satisfied: six>=1.5.2 in c:\\users\\pravat\\anaconda3\\lib\\site-packages (from pyOpenSSL>=0.14->urllib3[secure]~=1.26->selenium) (1.15.0)\n",
      "Requirement already satisfied: h11<1,>=0.9.0 in c:\\users\\pravat\\anaconda3\\lib\\site-packages (from wsproto>=0.14->trio-websocket~=0.9->selenium) (0.12.0)\n"
     ]
    }
   ],
   "source": [
    "! pip install selenium"
   ]
  },
  {
   "cell_type": "code",
   "execution_count": 6,
   "id": "2f849265",
   "metadata": {},
   "outputs": [],
   "source": [
    "import selenium \n",
    "import pandas as pd\n",
    "from selenium import webdriver\n",
    "import warnings\n",
    "warnings.filterwarnings(\"ignore\")"
   ]
  },
  {
   "cell_type": "code",
   "execution_count": 7,
   "id": "1898da21",
   "metadata": {},
   "outputs": [],
   "source": [
    "driver=webdriver.Chrome(r\"C:/Users/pravat/Downloads/chromedriver_win32/chromedriver.exe\")\n",
    "warnings.filterwarnings(\"ignore\")"
   ]
  },
  {
   "cell_type": "markdown",
   "id": "a9a37efd",
   "metadata": {},
   "source": [
    "GET THE WEB PAGE NAUKRI.COM"
   ]
  },
  {
   "cell_type": "code",
   "execution_count": 8,
   "id": "fb102f39",
   "metadata": {},
   "outputs": [],
   "source": [
    "driver.get('https://www.naukri.com/')"
   ]
  },
  {
   "cell_type": "code",
   "execution_count": 9,
   "id": "ddf5b525",
   "metadata": {},
   "outputs": [],
   "source": [
    "search_job = driver.find_element_by_id(\"qsb-keyword-sugg\")\n",
    "search_job.send_keys(\"Data Analyst\")\n",
    "search_loc = driver.find_element_by_xpath(\"//input[@id='qsb-location-sugg']\")\n",
    "search_loc.send_keys(\"Bangalore/Bengaluru\")"
   ]
  },
  {
   "cell_type": "code",
   "execution_count": 10,
   "id": "a8e1c66e",
   "metadata": {},
   "outputs": [],
   "source": [
    "search_btn = driver.find_element_by_xpath(\"//div[@class='search-btn']/button\")\n",
    "search_btn.click()"
   ]
  },
  {
   "cell_type": "code",
   "execution_count": 11,
   "id": "7fe15572",
   "metadata": {},
   "outputs": [],
   "source": [
    "url=\"https://www.naukri.com/data-analyst-jobs-in-bangalore-bengaluru?k=data%20analyst&l=bangalore%2Fbengaluru\""
   ]
  },
  {
   "cell_type": "code",
   "execution_count": 12,
   "id": "1d89b455",
   "metadata": {},
   "outputs": [],
   "source": [
    "driver.get(url)"
   ]
  },
  {
   "cell_type": "code",
   "execution_count": 13,
   "id": "b32c5de9",
   "metadata": {},
   "outputs": [],
   "source": [
    "job_title=[]\n",
    "company_names=[]\n",
    "locations_list=[]\n",
    "experience_list=[]"
   ]
  },
  {
   "cell_type": "code",
   "execution_count": 14,
   "id": "b696272a",
   "metadata": {},
   "outputs": [
    {
     "data": {
      "text/plain": [
       "[<selenium.webdriver.remote.webelement.WebElement (session=\"a6e2cbe104cdcb08f8ebcc401b95c828\", element=\"c3114d6f-0d92-4a7c-a4b7-e6a1476faa44\")>,\n",
       " <selenium.webdriver.remote.webelement.WebElement (session=\"a6e2cbe104cdcb08f8ebcc401b95c828\", element=\"b4a0332b-fe6e-4a60-9dd9-3d3a8ff2e657\")>,\n",
       " <selenium.webdriver.remote.webelement.WebElement (session=\"a6e2cbe104cdcb08f8ebcc401b95c828\", element=\"f9ce81f1-f89e-41cc-9ce2-2dd003f5cf47\")>,\n",
       " <selenium.webdriver.remote.webelement.WebElement (session=\"a6e2cbe104cdcb08f8ebcc401b95c828\", element=\"d1026d69-6adb-4bbb-8953-b02aaca9e152\")>,\n",
       " <selenium.webdriver.remote.webelement.WebElement (session=\"a6e2cbe104cdcb08f8ebcc401b95c828\", element=\"1ff7044c-da5e-49ea-82e0-ec5af9d4c3a8\")>,\n",
       " <selenium.webdriver.remote.webelement.WebElement (session=\"a6e2cbe104cdcb08f8ebcc401b95c828\", element=\"73f63893-1e50-495d-9e32-f908fa4343ed\")>,\n",
       " <selenium.webdriver.remote.webelement.WebElement (session=\"a6e2cbe104cdcb08f8ebcc401b95c828\", element=\"ac0ee5b0-358a-4f05-80d8-9c9039195ce0\")>,\n",
       " <selenium.webdriver.remote.webelement.WebElement (session=\"a6e2cbe104cdcb08f8ebcc401b95c828\", element=\"f4229443-f984-425f-9519-7d5473d176a5\")>,\n",
       " <selenium.webdriver.remote.webelement.WebElement (session=\"a6e2cbe104cdcb08f8ebcc401b95c828\", element=\"23a7a29a-0473-4600-8146-1f32af2fe10c\")>,\n",
       " <selenium.webdriver.remote.webelement.WebElement (session=\"a6e2cbe104cdcb08f8ebcc401b95c828\", element=\"bb1ccf58-6e47-42ad-8e29-d52934262216\")>]"
      ]
     },
     "execution_count": 14,
     "metadata": {},
     "output_type": "execute_result"
    }
   ],
   "source": [
    "titles_tags=driver.find_elements_by_xpath(\"//a[@class='title fw500 ellipsis']\")\n",
    "titles_tags[0:10]"
   ]
  },
  {
   "cell_type": "markdown",
   "id": "0efeabf9",
   "metadata": {},
   "source": [
    "# JOB TITLES"
   ]
  },
  {
   "cell_type": "code",
   "execution_count": 66,
   "id": "0452edb9",
   "metadata": {},
   "outputs": [
    {
     "data": {
      "text/plain": [
       "['Assistant/deputy Manager - Geo-spatial Data Analyst',\n",
       " 'Senior Data Analyst',\n",
       " 'Senior Data Analyst',\n",
       " 'SENIOR ASSOCIATE ENGINEER - SCM - DATA ANALYST',\n",
       " 'Senior Data Analyst',\n",
       " 'Data Analyst',\n",
       " 'Data Analyst / Engineer',\n",
       " 'Data Analyst (On Contract)',\n",
       " 'Senior Data Analyst',\n",
       " 'Senior Data Analyst for HANA Platform']"
      ]
     },
     "execution_count": 66,
     "metadata": {},
     "output_type": "execute_result"
    }
   ],
   "source": [
    "for i in titles_tags:\n",
    "    title=i.text\n",
    "    job_title.append(title)\n",
    "job_title[0:10]"
   ]
  },
  {
   "cell_type": "markdown",
   "id": "004c08cf",
   "metadata": {},
   "source": [
    "# COMPANY NAMES"
   ]
  },
  {
   "cell_type": "code",
   "execution_count": 67,
   "id": "206a0f2f",
   "metadata": {},
   "outputs": [
    {
     "data": {
      "text/plain": [
       "[<selenium.webdriver.remote.webelement.WebElement (session=\"cfb2f33f4557aceb996ac63d9ee76b8a\", element=\"42acc24c-e229-494d-9060-5ff0042c97d5\")>,\n",
       " <selenium.webdriver.remote.webelement.WebElement (session=\"cfb2f33f4557aceb996ac63d9ee76b8a\", element=\"5d3de579-d2cb-48af-802d-653eb4628a1f\")>,\n",
       " <selenium.webdriver.remote.webelement.WebElement (session=\"cfb2f33f4557aceb996ac63d9ee76b8a\", element=\"adeb6d0b-26aa-480b-b7f8-ce863ab4f4b8\")>,\n",
       " <selenium.webdriver.remote.webelement.WebElement (session=\"cfb2f33f4557aceb996ac63d9ee76b8a\", element=\"e9596c3f-83e5-4c11-9bed-224291419204\")>,\n",
       " <selenium.webdriver.remote.webelement.WebElement (session=\"cfb2f33f4557aceb996ac63d9ee76b8a\", element=\"c172a1c7-36c8-4e3f-9971-cce4ca556c44\")>,\n",
       " <selenium.webdriver.remote.webelement.WebElement (session=\"cfb2f33f4557aceb996ac63d9ee76b8a\", element=\"d03698dd-9cae-4950-af77-6f6572c4e6d0\")>,\n",
       " <selenium.webdriver.remote.webelement.WebElement (session=\"cfb2f33f4557aceb996ac63d9ee76b8a\", element=\"af69aaa4-bd58-4008-8194-13abf4e31576\")>,\n",
       " <selenium.webdriver.remote.webelement.WebElement (session=\"cfb2f33f4557aceb996ac63d9ee76b8a\", element=\"2d3825b1-120d-4449-8e12-6c5751f171bb\")>,\n",
       " <selenium.webdriver.remote.webelement.WebElement (session=\"cfb2f33f4557aceb996ac63d9ee76b8a\", element=\"d2f86f0f-3d6a-43b9-ba31-2e271d2a26a5\")>,\n",
       " <selenium.webdriver.remote.webelement.WebElement (session=\"cfb2f33f4557aceb996ac63d9ee76b8a\", element=\"9230c0fe-83b5-4f3b-a91c-47dd83a58c1e\")>]"
      ]
     },
     "execution_count": 67,
     "metadata": {},
     "output_type": "execute_result"
    }
   ],
   "source": [
    "companies_tags=driver.find_elements_by_xpath(\"//a[@class='subTitle ellipsis fleft']\")\n",
    "companies_tags[0:10]"
   ]
  },
  {
   "cell_type": "code",
   "execution_count": 68,
   "id": "f92daaf1",
   "metadata": {},
   "outputs": [
    {
     "data": {
      "text/plain": [
       "['Maruti Suzuki India',\n",
       " 'Rapido',\n",
       " 'SYREN TECHNOLOGIES PRIVATE LIMITED',\n",
       " 'Collins Aerospace',\n",
       " 'Flipkart',\n",
       " 'GlaxoSmithKline Pharmaceuticals Limited',\n",
       " 'Animaker India Private Limited',\n",
       " 'Rupeek Fintech Pvt Ltd',\n",
       " 'Flipkart',\n",
       " 'Intel']"
      ]
     },
     "execution_count": 68,
     "metadata": {},
     "output_type": "execute_result"
    }
   ],
   "source": [
    "for i in companies_tags:\n",
    "    company_name=i.text\n",
    "    company_names.append(company_name)\n",
    "company_names[0:10]"
   ]
  },
  {
   "cell_type": "markdown",
   "id": "e5396d01",
   "metadata": {},
   "source": [
    "# EXPERIENCE REQUIRED"
   ]
  },
  {
   "cell_type": "code",
   "execution_count": 69,
   "id": "1fddca69",
   "metadata": {},
   "outputs": [
    {
     "data": {
      "text/plain": [
       "[<selenium.webdriver.remote.webelement.WebElement (session=\"cfb2f33f4557aceb996ac63d9ee76b8a\", element=\"3a04031e-44b3-4ff2-a6fb-c49b92cc55be\")>,\n",
       " <selenium.webdriver.remote.webelement.WebElement (session=\"cfb2f33f4557aceb996ac63d9ee76b8a\", element=\"d3383424-0644-47dd-8aae-18a72d1d1bc2\")>,\n",
       " <selenium.webdriver.remote.webelement.WebElement (session=\"cfb2f33f4557aceb996ac63d9ee76b8a\", element=\"2aec546b-cafe-4d62-a1bb-d329f366e66f\")>,\n",
       " <selenium.webdriver.remote.webelement.WebElement (session=\"cfb2f33f4557aceb996ac63d9ee76b8a\", element=\"7c0d92c3-5b35-4f47-be06-79540a3a44fc\")>,\n",
       " <selenium.webdriver.remote.webelement.WebElement (session=\"cfb2f33f4557aceb996ac63d9ee76b8a\", element=\"6341f5d9-389c-4dfb-82ef-11eeaef2d746\")>,\n",
       " <selenium.webdriver.remote.webelement.WebElement (session=\"cfb2f33f4557aceb996ac63d9ee76b8a\", element=\"ad8a6b4b-f27c-4a77-9973-9046de180904\")>,\n",
       " <selenium.webdriver.remote.webelement.WebElement (session=\"cfb2f33f4557aceb996ac63d9ee76b8a\", element=\"a8dc0344-e151-4ab6-ab0f-2fef14c6eda5\")>,\n",
       " <selenium.webdriver.remote.webelement.WebElement (session=\"cfb2f33f4557aceb996ac63d9ee76b8a\", element=\"49115282-df5f-4d03-b7a5-80fc45ef0d7d\")>,\n",
       " <selenium.webdriver.remote.webelement.WebElement (session=\"cfb2f33f4557aceb996ac63d9ee76b8a\", element=\"7ab624df-9de6-404c-a3b7-0d0d97727a7f\")>,\n",
       " <selenium.webdriver.remote.webelement.WebElement (session=\"cfb2f33f4557aceb996ac63d9ee76b8a\", element=\"d2a84c34-2875-41dd-92cf-6da3f11d477a\")>]"
      ]
     },
     "execution_count": 69,
     "metadata": {},
     "output_type": "execute_result"
    }
   ],
   "source": [
    "experience_tags=driver.find_elements_by_xpath(\"//li[@class='fleft grey-text br2 placeHolderLi experience']\")\n",
    "experience_tags[0:10]"
   ]
  },
  {
   "cell_type": "code",
   "execution_count": 70,
   "id": "ed46730a",
   "metadata": {},
   "outputs": [
    {
     "data": {
      "text/plain": [
       "['3-5 Yrs',\n",
       " '1-6 Yrs',\n",
       " '5-10 Yrs',\n",
       " '9-12 Yrs',\n",
       " '4-5 Yrs',\n",
       " '3-8 Yrs',\n",
       " '4-9 Yrs',\n",
       " '0-2 Yrs',\n",
       " '3-7 Yrs',\n",
       " '5-10 Yrs']"
      ]
     },
     "execution_count": 70,
     "metadata": {},
     "output_type": "execute_result"
    }
   ],
   "source": [
    "for i in experience_tags:\n",
    "    experience=i.text\n",
    "    experience_list.append(experience)\n",
    "experience_list[0:10]"
   ]
  },
  {
   "cell_type": "markdown",
   "id": "3f08c911",
   "metadata": {},
   "source": [
    "# LOCATION"
   ]
  },
  {
   "cell_type": "code",
   "execution_count": 71,
   "id": "05ecb45f",
   "metadata": {},
   "outputs": [
    {
     "data": {
      "text/plain": [
       "[<selenium.webdriver.remote.webelement.WebElement (session=\"cfb2f33f4557aceb996ac63d9ee76b8a\", element=\"52a1e5f4-670b-4830-a849-e185fbc2b31c\")>,\n",
       " <selenium.webdriver.remote.webelement.WebElement (session=\"cfb2f33f4557aceb996ac63d9ee76b8a\", element=\"15f86006-d0eb-486b-83ba-4829c05983ea\")>,\n",
       " <selenium.webdriver.remote.webelement.WebElement (session=\"cfb2f33f4557aceb996ac63d9ee76b8a\", element=\"15fa6a4b-69e5-4078-baa5-7db6edbed7d3\")>,\n",
       " <selenium.webdriver.remote.webelement.WebElement (session=\"cfb2f33f4557aceb996ac63d9ee76b8a\", element=\"5746053b-3e5e-4acb-97bb-791f8d5b4f1c\")>,\n",
       " <selenium.webdriver.remote.webelement.WebElement (session=\"cfb2f33f4557aceb996ac63d9ee76b8a\", element=\"4e5d3f8b-be5f-4675-b79c-e7b1c148f36e\")>,\n",
       " <selenium.webdriver.remote.webelement.WebElement (session=\"cfb2f33f4557aceb996ac63d9ee76b8a\", element=\"f5a0f86a-60ae-4956-893b-f294baaa5f1c\")>,\n",
       " <selenium.webdriver.remote.webelement.WebElement (session=\"cfb2f33f4557aceb996ac63d9ee76b8a\", element=\"22592bd6-232a-4dcc-899c-2c7678b98308\")>,\n",
       " <selenium.webdriver.remote.webelement.WebElement (session=\"cfb2f33f4557aceb996ac63d9ee76b8a\", element=\"c5404f00-c521-4bc9-ada8-2f455acf1ea8\")>,\n",
       " <selenium.webdriver.remote.webelement.WebElement (session=\"cfb2f33f4557aceb996ac63d9ee76b8a\", element=\"b83db880-65a3-4afc-9942-2b9ace4a1e63\")>,\n",
       " <selenium.webdriver.remote.webelement.WebElement (session=\"cfb2f33f4557aceb996ac63d9ee76b8a\", element=\"480665bd-cf89-489d-a3dc-ee4c840289f9\")>]"
      ]
     },
     "execution_count": 71,
     "metadata": {},
     "output_type": "execute_result"
    }
   ],
   "source": [
    "locations_tags=driver.find_elements_by_xpath(\"//li[@class='fleft grey-text br2 placeHolderLi location']/span[1]\")\n",
    "locations_tags[0:10]"
   ]
  },
  {
   "cell_type": "code",
   "execution_count": 72,
   "id": "475c2bcc",
   "metadata": {},
   "outputs": [
    {
     "data": {
      "text/plain": [
       "['Gurgaon/Gurugram, bangalore',\n",
       " 'Bangalore/Bengaluru',\n",
       " 'Kolkata, Hyderabad/Secunderabad, Pune, Ahmedabad, Chennai, Bangalore/Bengaluru, Delhi / NCR, Mumbai (All Areas)',\n",
       " 'Bangalore/Bengaluru',\n",
       " 'Bengaluru/Bangalore',\n",
       " 'Bangalore/Bengaluru',\n",
       " 'Chennai, Bangalore/Bengaluru',\n",
       " 'Bangalore/Bengaluru',\n",
       " 'Bangalore/Bengaluru',\n",
       " 'Bangalore/Bengaluru']"
      ]
     },
     "execution_count": 72,
     "metadata": {},
     "output_type": "execute_result"
    }
   ],
   "source": [
    "for i in locations_tags :\n",
    "    location=i.text\n",
    "    locations_list.append(location)\n",
    "locations_list[0:10]"
   ]
  },
  {
   "cell_type": "code",
   "execution_count": 73,
   "id": "eb642ebd",
   "metadata": {},
   "outputs": [
    {
     "name": "stdout",
     "output_type": "stream",
     "text": [
      "20 20 20 20\n"
     ]
    }
   ],
   "source": [
    "print(len(job_title),len(company_names),len(experience_list),len(locations_list))"
   ]
  },
  {
   "cell_type": "code",
   "execution_count": 74,
   "id": "197633c5",
   "metadata": {},
   "outputs": [
    {
     "data": {
      "text/html": [
       "<div>\n",
       "<style scoped>\n",
       "    .dataframe tbody tr th:only-of-type {\n",
       "        vertical-align: middle;\n",
       "    }\n",
       "\n",
       "    .dataframe tbody tr th {\n",
       "        vertical-align: top;\n",
       "    }\n",
       "\n",
       "    .dataframe thead th {\n",
       "        text-align: right;\n",
       "    }\n",
       "</style>\n",
       "<table border=\"1\" class=\"dataframe\">\n",
       "  <thead>\n",
       "    <tr style=\"text-align: right;\">\n",
       "      <th></th>\n",
       "      <th>Titles</th>\n",
       "      <th>Location</th>\n",
       "      <th>Company Name</th>\n",
       "      <th>Experience Required</th>\n",
       "    </tr>\n",
       "  </thead>\n",
       "  <tbody>\n",
       "    <tr>\n",
       "      <th>0</th>\n",
       "      <td>Assistant/deputy Manager - Geo-spatial Data An...</td>\n",
       "      <td>Gurgaon/Gurugram, bangalore</td>\n",
       "      <td>Maruti Suzuki India</td>\n",
       "      <td>3-5 Yrs</td>\n",
       "    </tr>\n",
       "    <tr>\n",
       "      <th>1</th>\n",
       "      <td>Senior Data Analyst</td>\n",
       "      <td>Bangalore/Bengaluru</td>\n",
       "      <td>Rapido</td>\n",
       "      <td>1-6 Yrs</td>\n",
       "    </tr>\n",
       "    <tr>\n",
       "      <th>2</th>\n",
       "      <td>Senior Data Analyst</td>\n",
       "      <td>Kolkata, Hyderabad/Secunderabad, Pune, Ahmedab...</td>\n",
       "      <td>SYREN TECHNOLOGIES PRIVATE LIMITED</td>\n",
       "      <td>5-10 Yrs</td>\n",
       "    </tr>\n",
       "    <tr>\n",
       "      <th>3</th>\n",
       "      <td>SENIOR ASSOCIATE ENGINEER - SCM - DATA ANALYST</td>\n",
       "      <td>Bangalore/Bengaluru</td>\n",
       "      <td>Collins Aerospace</td>\n",
       "      <td>9-12 Yrs</td>\n",
       "    </tr>\n",
       "    <tr>\n",
       "      <th>4</th>\n",
       "      <td>Senior Data Analyst</td>\n",
       "      <td>Bengaluru/Bangalore</td>\n",
       "      <td>Flipkart</td>\n",
       "      <td>4-5 Yrs</td>\n",
       "    </tr>\n",
       "    <tr>\n",
       "      <th>5</th>\n",
       "      <td>Data Analyst</td>\n",
       "      <td>Bangalore/Bengaluru</td>\n",
       "      <td>GlaxoSmithKline Pharmaceuticals Limited</td>\n",
       "      <td>3-8 Yrs</td>\n",
       "    </tr>\n",
       "    <tr>\n",
       "      <th>6</th>\n",
       "      <td>Data Analyst / Engineer</td>\n",
       "      <td>Chennai, Bangalore/Bengaluru</td>\n",
       "      <td>Animaker India Private Limited</td>\n",
       "      <td>4-9 Yrs</td>\n",
       "    </tr>\n",
       "    <tr>\n",
       "      <th>7</th>\n",
       "      <td>Data Analyst (On Contract)</td>\n",
       "      <td>Bangalore/Bengaluru</td>\n",
       "      <td>Rupeek Fintech Pvt Ltd</td>\n",
       "      <td>0-2 Yrs</td>\n",
       "    </tr>\n",
       "    <tr>\n",
       "      <th>8</th>\n",
       "      <td>Senior Data Analyst</td>\n",
       "      <td>Bangalore/Bengaluru</td>\n",
       "      <td>Flipkart</td>\n",
       "      <td>3-7 Yrs</td>\n",
       "    </tr>\n",
       "    <tr>\n",
       "      <th>9</th>\n",
       "      <td>Senior Data Analyst for HANA Platform</td>\n",
       "      <td>Bangalore/Bengaluru</td>\n",
       "      <td>Intel</td>\n",
       "      <td>5-10 Yrs</td>\n",
       "    </tr>\n",
       "    <tr>\n",
       "      <th>10</th>\n",
       "      <td>Data Analyst</td>\n",
       "      <td>Bangalore/Bengaluru</td>\n",
       "      <td>NetraDyne Technology India Private Limited</td>\n",
       "      <td>2-5 Yrs</td>\n",
       "    </tr>\n",
       "    <tr>\n",
       "      <th>11</th>\n",
       "      <td>Supervisor Role, Data Analyst, six sigma, Anal...</td>\n",
       "      <td>Bangalore/Bengaluru</td>\n",
       "      <td>Concentrix Daksh Services</td>\n",
       "      <td>3-6 Yrs</td>\n",
       "    </tr>\n",
       "    <tr>\n",
       "      <th>12</th>\n",
       "      <td>Data Analyst</td>\n",
       "      <td>Bangalore/Bengaluru</td>\n",
       "      <td>Slice</td>\n",
       "      <td>0-2 Yrs</td>\n",
       "    </tr>\n",
       "    <tr>\n",
       "      <th>13</th>\n",
       "      <td>Jr . Data Analyst</td>\n",
       "      <td>Bangalore/Bengaluru</td>\n",
       "      <td>Armorblox</td>\n",
       "      <td>0-2 Yrs</td>\n",
       "    </tr>\n",
       "    <tr>\n",
       "      <th>14</th>\n",
       "      <td>Hiring Business Data Analyst +ETL- Tech Mahind...</td>\n",
       "      <td>Bangalore/Bengaluru</td>\n",
       "      <td>Tech Mahindra</td>\n",
       "      <td>6-10 Yrs</td>\n",
       "    </tr>\n",
       "    <tr>\n",
       "      <th>15</th>\n",
       "      <td>Business Analyst / Data Analyst</td>\n",
       "      <td>Bangalore/Bengaluru</td>\n",
       "      <td>GetSimpl</td>\n",
       "      <td>2-4 Yrs</td>\n",
       "    </tr>\n",
       "    <tr>\n",
       "      <th>16</th>\n",
       "      <td>Job Opportunity For Clinical Data Analyst - CDM</td>\n",
       "      <td>Kolkata, Hyderabad/Secunderabad, Pune, Chennai...</td>\n",
       "      <td>Paradigm IT</td>\n",
       "      <td>3-8 Yrs</td>\n",
       "    </tr>\n",
       "    <tr>\n",
       "      <th>17</th>\n",
       "      <td>Data Analyst</td>\n",
       "      <td>Bangalore/Bengaluru</td>\n",
       "      <td>Ola Cabs</td>\n",
       "      <td>1-3 Yrs</td>\n",
       "    </tr>\n",
       "    <tr>\n",
       "      <th>18</th>\n",
       "      <td>Financial Data Analyst</td>\n",
       "      <td>Hyderabad/Secunderabad, Chennai, Bangalore/Ben...</td>\n",
       "      <td>UnitedLex</td>\n",
       "      <td>2-5 Yrs</td>\n",
       "    </tr>\n",
       "    <tr>\n",
       "      <th>19</th>\n",
       "      <td>Manager - Data Analyst</td>\n",
       "      <td>Bangalore/Bengaluru</td>\n",
       "      <td>Genpact</td>\n",
       "      <td>5-10 Yrs</td>\n",
       "    </tr>\n",
       "  </tbody>\n",
       "</table>\n",
       "</div>"
      ],
      "text/plain": [
       "                                               Titles  \\\n",
       "0   Assistant/deputy Manager - Geo-spatial Data An...   \n",
       "1                                 Senior Data Analyst   \n",
       "2                                 Senior Data Analyst   \n",
       "3      SENIOR ASSOCIATE ENGINEER - SCM - DATA ANALYST   \n",
       "4                                 Senior Data Analyst   \n",
       "5                                        Data Analyst   \n",
       "6                             Data Analyst / Engineer   \n",
       "7                          Data Analyst (On Contract)   \n",
       "8                                 Senior Data Analyst   \n",
       "9               Senior Data Analyst for HANA Platform   \n",
       "10                                       Data Analyst   \n",
       "11  Supervisor Role, Data Analyst, six sigma, Anal...   \n",
       "12                                       Data Analyst   \n",
       "13                                  Jr . Data Analyst   \n",
       "14  Hiring Business Data Analyst +ETL- Tech Mahind...   \n",
       "15                    Business Analyst / Data Analyst   \n",
       "16    Job Opportunity For Clinical Data Analyst - CDM   \n",
       "17                                       Data Analyst   \n",
       "18                             Financial Data Analyst   \n",
       "19                             Manager - Data Analyst   \n",
       "\n",
       "                                             Location  \\\n",
       "0                         Gurgaon/Gurugram, bangalore   \n",
       "1                                 Bangalore/Bengaluru   \n",
       "2   Kolkata, Hyderabad/Secunderabad, Pune, Ahmedab...   \n",
       "3                                 Bangalore/Bengaluru   \n",
       "4                                 Bengaluru/Bangalore   \n",
       "5                                 Bangalore/Bengaluru   \n",
       "6                        Chennai, Bangalore/Bengaluru   \n",
       "7                                 Bangalore/Bengaluru   \n",
       "8                                 Bangalore/Bengaluru   \n",
       "9                                 Bangalore/Bengaluru   \n",
       "10                                Bangalore/Bengaluru   \n",
       "11                                Bangalore/Bengaluru   \n",
       "12                                Bangalore/Bengaluru   \n",
       "13                                Bangalore/Bengaluru   \n",
       "14                                Bangalore/Bengaluru   \n",
       "15                                Bangalore/Bengaluru   \n",
       "16  Kolkata, Hyderabad/Secunderabad, Pune, Chennai...   \n",
       "17                                Bangalore/Bengaluru   \n",
       "18  Hyderabad/Secunderabad, Chennai, Bangalore/Ben...   \n",
       "19                                Bangalore/Bengaluru   \n",
       "\n",
       "                                  Company Name Experience Required  \n",
       "0                          Maruti Suzuki India             3-5 Yrs  \n",
       "1                                       Rapido             1-6 Yrs  \n",
       "2           SYREN TECHNOLOGIES PRIVATE LIMITED            5-10 Yrs  \n",
       "3                            Collins Aerospace            9-12 Yrs  \n",
       "4                                     Flipkart             4-5 Yrs  \n",
       "5      GlaxoSmithKline Pharmaceuticals Limited             3-8 Yrs  \n",
       "6               Animaker India Private Limited             4-9 Yrs  \n",
       "7                       Rupeek Fintech Pvt Ltd             0-2 Yrs  \n",
       "8                                     Flipkart             3-7 Yrs  \n",
       "9                                        Intel            5-10 Yrs  \n",
       "10  NetraDyne Technology India Private Limited             2-5 Yrs  \n",
       "11                   Concentrix Daksh Services             3-6 Yrs  \n",
       "12                                       Slice             0-2 Yrs  \n",
       "13                                   Armorblox             0-2 Yrs  \n",
       "14                               Tech Mahindra            6-10 Yrs  \n",
       "15                                    GetSimpl             2-4 Yrs  \n",
       "16                                 Paradigm IT             3-8 Yrs  \n",
       "17                                    Ola Cabs             1-3 Yrs  \n",
       "18                                   UnitedLex             2-5 Yrs  \n",
       "19                                     Genpact            5-10 Yrs  "
      ]
     },
     "execution_count": 74,
     "metadata": {},
     "output_type": "execute_result"
    }
   ],
   "source": [
    "df = pd.DataFrame({'Titles': job_title,'Location':locations_list ,'Company Name':company_names,'Experience Required':experience_list})\n",
    "df"
   ]
  },
  {
   "cell_type": "markdown",
   "id": "8f8f905a",
   "metadata": {},
   "source": [
    "Q2.Write a python program to scrape data for “Data Scientist” Job position in “Bangalore” location. You have to scrape the job-title, job-location, company_name. You have to scrape first 10 jobs data.  \n",
    "This task will be done in following steps:  \n",
    "1.First get the webpage https://www.naukri.com/  \n",
    "2.Enter “Data Scientist” in “Skill, Designations, Companies” field and enter “Bangalore” in “enter the location” field.  \n",
    "3.Then click the search button.  \n",
    "4.Then scrape the data for the first 10 jobs results you get.  \n",
    "5.Finally create a dataframe of the scraped data.  \n"
   ]
  },
  {
   "cell_type": "code",
   "execution_count": 24,
   "id": "4562a58f",
   "metadata": {},
   "outputs": [
    {
     "name": "stdout",
     "output_type": "stream",
     "text": [
      "Requirement already satisfied: selenium in c:\\users\\pravat\\anaconda3\\lib\\site-packages (4.1.0)\n",
      "Requirement already satisfied: trio~=0.17 in c:\\users\\pravat\\anaconda3\\lib\\site-packages (from selenium) (0.19.0)\n",
      "Requirement already satisfied: urllib3[secure]~=1.26 in c:\\users\\pravat\\anaconda3\\lib\\site-packages (from selenium) (1.26.4)\n",
      "Requirement already satisfied: trio-websocket~=0.9 in c:\\users\\pravat\\anaconda3\\lib\\site-packages (from selenium) (0.9.2)\n",
      "Requirement already satisfied: cffi>=1.14 in c:\\users\\pravat\\anaconda3\\lib\\site-packages (from trio~=0.17->selenium) (1.14.5)\n",
      "Requirement already satisfied: attrs>=19.2.0 in c:\\users\\pravat\\anaconda3\\lib\\site-packages (from trio~=0.17->selenium) (20.3.0)\n",
      "Requirement already satisfied: async-generator>=1.9 in c:\\users\\pravat\\anaconda3\\lib\\site-packages (from trio~=0.17->selenium) (1.10)\n",
      "Requirement already satisfied: sortedcontainers in c:\\users\\pravat\\anaconda3\\lib\\site-packages (from trio~=0.17->selenium) (2.3.0)\n",
      "Requirement already satisfied: sniffio in c:\\users\\pravat\\anaconda3\\lib\\site-packages (from trio~=0.17->selenium) (1.2.0)\n",
      "Requirement already satisfied: outcome in c:\\users\\pravat\\anaconda3\\lib\\site-packages (from trio~=0.17->selenium) (1.1.0)\n",
      "Requirement already satisfied: idna in c:\\users\\pravat\\anaconda3\\lib\\site-packages (from trio~=0.17->selenium) (2.10)\n",
      "Requirement already satisfied: pycparser in c:\\users\\pravat\\anaconda3\\lib\\site-packages (from cffi>=1.14->trio~=0.17->selenium) (2.20)\n",
      "Requirement already satisfied: wsproto>=0.14 in c:\\users\\pravat\\anaconda3\\lib\\site-packages (from trio-websocket~=0.9->selenium) (1.0.0)\n",
      "Requirement already satisfied: pyOpenSSL>=0.14 in c:\\users\\pravat\\anaconda3\\lib\\site-packages (from urllib3[secure]~=1.26->selenium) (20.0.1)\n",
      "Requirement already satisfied: certifi in c:\\users\\pravat\\anaconda3\\lib\\site-packages (from urllib3[secure]~=1.26->selenium) (2020.12.5)\n",
      "Requirement already satisfied: cryptography>=1.3.4 in c:\\users\\pravat\\anaconda3\\lib\\site-packages (from urllib3[secure]~=1.26->selenium) (3.4.7)\n",
      "Requirement already satisfied: six>=1.5.2 in c:\\users\\pravat\\anaconda3\\lib\\site-packages (from pyOpenSSL>=0.14->urllib3[secure]~=1.26->selenium) (1.15.0)\n",
      "Requirement already satisfied: h11<1,>=0.9.0 in c:\\users\\pravat\\anaconda3\\lib\\site-packages (from wsproto>=0.14->trio-websocket~=0.9->selenium) (0.12.0)\n"
     ]
    }
   ],
   "source": [
    "! pip install selenium\n",
    "import selenium \n",
    "import pandas as pd\n",
    "from selenium import webdriver\n",
    "import warnings\n",
    "warnings.filterwarnings(\"ignore\")\n",
    "driver=webdriver.Chrome(r\"C:/Users/pravat/Downloads/chromedriver_win32/chromedriver.exe\")\n",
    "warnings.filterwarnings(\"ignore\")\n",
    "driver.get('https://www.naukri.com/')"
   ]
  },
  {
   "cell_type": "code",
   "execution_count": 25,
   "id": "8bf1c357",
   "metadata": {},
   "outputs": [],
   "source": [
    "search_job = driver.find_element_by_id(\"qsb-keyword-sugg\")\n",
    "search_job.send_keys(\"Data Scientist\")\n",
    "search_loc = driver.find_element_by_xpath(\"//input[@id='qsb-location-sugg']\")\n",
    "search_loc.send_keys(\"Bangalore/Bengaluru\")"
   ]
  },
  {
   "cell_type": "code",
   "execution_count": 26,
   "id": "09ce1ade",
   "metadata": {},
   "outputs": [],
   "source": [
    "url=\"https://www.naukri.com/data-scientist-data-scientist-jobs-in-bangalore-bengaluru?k=data%20scientist%2C%20data%20scientist&l=bangalore%2Fbengaluru\""
   ]
  },
  {
   "cell_type": "code",
   "execution_count": 27,
   "id": "f0d73e60",
   "metadata": {},
   "outputs": [],
   "source": [
    "driver.get(url)\n",
    "job_title=[]\n",
    "company_names=[]\n",
    "locations_list=[]\n",
    "experience_list=[]"
   ]
  },
  {
   "cell_type": "markdown",
   "id": "76405ef6",
   "metadata": {},
   "source": [
    "# JOB TITLE"
   ]
  },
  {
   "cell_type": "code",
   "execution_count": 28,
   "id": "97aa83b7",
   "metadata": {},
   "outputs": [
    {
     "data": {
      "text/plain": [
       "[<selenium.webdriver.remote.webelement.WebElement (session=\"118ffda9f655b3c63ce5aff4dddf98db\", element=\"cb374879-a3b2-49c7-8308-b17762de0f70\")>,\n",
       " <selenium.webdriver.remote.webelement.WebElement (session=\"118ffda9f655b3c63ce5aff4dddf98db\", element=\"2523f953-dea4-45ae-967b-4f7924d2c9ed\")>,\n",
       " <selenium.webdriver.remote.webelement.WebElement (session=\"118ffda9f655b3c63ce5aff4dddf98db\", element=\"c84a8c9e-a547-444f-bee5-43731ee45da1\")>,\n",
       " <selenium.webdriver.remote.webelement.WebElement (session=\"118ffda9f655b3c63ce5aff4dddf98db\", element=\"5d8e565c-871f-47a2-9fb6-1a32fb63cb75\")>,\n",
       " <selenium.webdriver.remote.webelement.WebElement (session=\"118ffda9f655b3c63ce5aff4dddf98db\", element=\"9f9dd666-8ff9-43b8-a6cb-9c51876cac2f\")>,\n",
       " <selenium.webdriver.remote.webelement.WebElement (session=\"118ffda9f655b3c63ce5aff4dddf98db\", element=\"2bb48169-b3b2-45ad-9cf2-b3a626768314\")>,\n",
       " <selenium.webdriver.remote.webelement.WebElement (session=\"118ffda9f655b3c63ce5aff4dddf98db\", element=\"2050591f-ded3-409f-9b93-1d95f2fadf24\")>,\n",
       " <selenium.webdriver.remote.webelement.WebElement (session=\"118ffda9f655b3c63ce5aff4dddf98db\", element=\"b9b7788a-21aa-475c-bd90-f4afb73d60fb\")>,\n",
       " <selenium.webdriver.remote.webelement.WebElement (session=\"118ffda9f655b3c63ce5aff4dddf98db\", element=\"c220f34e-e89d-4290-a799-91ab37dda823\")>,\n",
       " <selenium.webdriver.remote.webelement.WebElement (session=\"118ffda9f655b3c63ce5aff4dddf98db\", element=\"05325689-b188-4a74-a29b-965cc54b890c\")>]"
      ]
     },
     "execution_count": 28,
     "metadata": {},
     "output_type": "execute_result"
    }
   ],
   "source": [
    "titles_tags=driver.find_elements_by_xpath(\"//a[@class='title fw500 ellipsis']\")\n",
    "titles_tags[0:10]"
   ]
  },
  {
   "cell_type": "code",
   "execution_count": 29,
   "id": "b70550b0",
   "metadata": {},
   "outputs": [
    {
     "data": {
      "text/plain": [
       "['Lead / Principal Data Scientist',\n",
       " 'Data Scientist - Credit Risk',\n",
       " 'Data Scientist',\n",
       " 'Data Scientist 2',\n",
       " 'Machine Learning AI Data Scientist',\n",
       " 'Senior Data Scientist / Data Scientist',\n",
       " 'Senior Data Scientist',\n",
       " 'Data Scientist /Senior Data Science Executive',\n",
       " 'Hiring For \"Data Scientist\" For leading Big 4 Consulting firm',\n",
       " 'Data Scientist']"
      ]
     },
     "execution_count": 29,
     "metadata": {},
     "output_type": "execute_result"
    }
   ],
   "source": [
    "for i in titles_tags:\n",
    "    title=i.text\n",
    "    job_title.append(title)\n",
    "job_title[0:10]"
   ]
  },
  {
   "cell_type": "markdown",
   "id": "b8f0f422",
   "metadata": {},
   "source": [
    "# COMPANY NAMES"
   ]
  },
  {
   "cell_type": "code",
   "execution_count": 30,
   "id": "ff1fbe3f",
   "metadata": {},
   "outputs": [
    {
     "data": {
      "text/plain": [
       "[<selenium.webdriver.remote.webelement.WebElement (session=\"118ffda9f655b3c63ce5aff4dddf98db\", element=\"9fe4d376-c41f-452b-afbd-0549046c33a9\")>,\n",
       " <selenium.webdriver.remote.webelement.WebElement (session=\"118ffda9f655b3c63ce5aff4dddf98db\", element=\"18bbf1a9-3ddc-476e-95ed-ecd2392bb797\")>,\n",
       " <selenium.webdriver.remote.webelement.WebElement (session=\"118ffda9f655b3c63ce5aff4dddf98db\", element=\"ad3a4ce0-d105-4c3a-840b-77f2ae5bb79b\")>,\n",
       " <selenium.webdriver.remote.webelement.WebElement (session=\"118ffda9f655b3c63ce5aff4dddf98db\", element=\"060fb344-be5a-45a0-81be-f53a32742c1c\")>,\n",
       " <selenium.webdriver.remote.webelement.WebElement (session=\"118ffda9f655b3c63ce5aff4dddf98db\", element=\"1fbbbd9c-2139-4077-9085-c25a328cc6e1\")>,\n",
       " <selenium.webdriver.remote.webelement.WebElement (session=\"118ffda9f655b3c63ce5aff4dddf98db\", element=\"aebc0fc5-67cd-4ee9-b782-09bded388401\")>,\n",
       " <selenium.webdriver.remote.webelement.WebElement (session=\"118ffda9f655b3c63ce5aff4dddf98db\", element=\"65523891-0318-435d-ad19-dc34519548bd\")>,\n",
       " <selenium.webdriver.remote.webelement.WebElement (session=\"118ffda9f655b3c63ce5aff4dddf98db\", element=\"a13ad2a8-e812-4070-9afc-3357bc15163f\")>,\n",
       " <selenium.webdriver.remote.webelement.WebElement (session=\"118ffda9f655b3c63ce5aff4dddf98db\", element=\"5ed5d00a-8412-4c23-baa4-6225d7d14ae4\")>,\n",
       " <selenium.webdriver.remote.webelement.WebElement (session=\"118ffda9f655b3c63ce5aff4dddf98db\", element=\"2d00625e-fc7e-49e4-8d57-5160ddce16ec\")>]"
      ]
     },
     "execution_count": 30,
     "metadata": {},
     "output_type": "execute_result"
    }
   ],
   "source": [
    "companies_tags=driver.find_elements_by_xpath(\"//a[@class='subTitle ellipsis fleft']\")\n",
    "companies_tags[0:10]"
   ]
  },
  {
   "cell_type": "code",
   "execution_count": 31,
   "id": "d3ca360f",
   "metadata": {},
   "outputs": [
    {
     "data": {
      "text/plain": [
       "['Aviso Inc',\n",
       " 'Scienaptic Systems',\n",
       " 'Snaphunt',\n",
       " 'ANI Technologies Pvt. Ltd.',\n",
       " 'EKO Infomatics Solutions Private Limited',\n",
       " 'Superior Group',\n",
       " 'Ally-Executive',\n",
       " 'Sejal Consulting Hub',\n",
       " 'LIVE CONNECTIONS PLACEMENTS PRIVATE LIMITED',\n",
       " 'PERSOLKELLY INDIA PRIVATE LIMITED']"
      ]
     },
     "execution_count": 31,
     "metadata": {},
     "output_type": "execute_result"
    }
   ],
   "source": [
    "for i in companies_tags:\n",
    "    company_name=i.text\n",
    "    company_names.append(company_name)\n",
    "company_names[0:10]"
   ]
  },
  {
   "cell_type": "markdown",
   "id": "595cd858",
   "metadata": {},
   "source": [
    "# EXPERIENCE REQUIRED"
   ]
  },
  {
   "cell_type": "code",
   "execution_count": 32,
   "id": "f8cd8338",
   "metadata": {},
   "outputs": [
    {
     "data": {
      "text/plain": [
       "[<selenium.webdriver.remote.webelement.WebElement (session=\"118ffda9f655b3c63ce5aff4dddf98db\", element=\"402b8f71-89e9-469a-b0b3-57a3cde9a370\")>,\n",
       " <selenium.webdriver.remote.webelement.WebElement (session=\"118ffda9f655b3c63ce5aff4dddf98db\", element=\"9802605e-b30f-4ca7-8a8c-43fc58821475\")>,\n",
       " <selenium.webdriver.remote.webelement.WebElement (session=\"118ffda9f655b3c63ce5aff4dddf98db\", element=\"28165051-7af0-4138-a822-f0acd62492cf\")>,\n",
       " <selenium.webdriver.remote.webelement.WebElement (session=\"118ffda9f655b3c63ce5aff4dddf98db\", element=\"3b35e7a1-365f-49b3-b2fe-24fe3ea21526\")>,\n",
       " <selenium.webdriver.remote.webelement.WebElement (session=\"118ffda9f655b3c63ce5aff4dddf98db\", element=\"c7ef4c7e-5b36-4b5b-8166-e6be0b5eac7c\")>,\n",
       " <selenium.webdriver.remote.webelement.WebElement (session=\"118ffda9f655b3c63ce5aff4dddf98db\", element=\"a0addf01-fde9-4062-84d8-512331ade877\")>,\n",
       " <selenium.webdriver.remote.webelement.WebElement (session=\"118ffda9f655b3c63ce5aff4dddf98db\", element=\"33b4f995-b283-492e-975b-34bc137734bb\")>,\n",
       " <selenium.webdriver.remote.webelement.WebElement (session=\"118ffda9f655b3c63ce5aff4dddf98db\", element=\"f195a479-107d-483e-a279-c9c59677905f\")>,\n",
       " <selenium.webdriver.remote.webelement.WebElement (session=\"118ffda9f655b3c63ce5aff4dddf98db\", element=\"959c5d97-836e-47d3-82d9-6e3d824a93e9\")>,\n",
       " <selenium.webdriver.remote.webelement.WebElement (session=\"118ffda9f655b3c63ce5aff4dddf98db\", element=\"567b86cc-7baf-4a36-bab7-d7c18a37ba1f\")>]"
      ]
     },
     "execution_count": 32,
     "metadata": {},
     "output_type": "execute_result"
    }
   ],
   "source": [
    "experience_tags=driver.find_elements_by_xpath(\"//li[@class='fleft grey-text br2 placeHolderLi experience']\")\n",
    "experience_tags[0:10]"
   ]
  },
  {
   "cell_type": "code",
   "execution_count": 33,
   "id": "100be148",
   "metadata": {},
   "outputs": [
    {
     "data": {
      "text/plain": [
       "['8-13 Yrs',\n",
       " '3-8 Yrs',\n",
       " '0-2 Yrs',\n",
       " '5-10 Yrs',\n",
       " '2-5 Yrs',\n",
       " '4-8 Yrs',\n",
       " '5-8 Yrs',\n",
       " '3-7 Yrs',\n",
       " '7-12 Yrs',\n",
       " '5-10 Yrs']"
      ]
     },
     "execution_count": 33,
     "metadata": {},
     "output_type": "execute_result"
    }
   ],
   "source": [
    "for i in experience_tags:\n",
    "    experience=i.text\n",
    "    experience_list.append(experience)\n",
    "experience_list[0:10]"
   ]
  },
  {
   "cell_type": "markdown",
   "id": "379ab627",
   "metadata": {},
   "source": [
    "# LOCATION"
   ]
  },
  {
   "cell_type": "code",
   "execution_count": 34,
   "id": "4869453a",
   "metadata": {},
   "outputs": [
    {
     "data": {
      "text/plain": [
       "[<selenium.webdriver.remote.webelement.WebElement (session=\"118ffda9f655b3c63ce5aff4dddf98db\", element=\"e447470c-2880-4479-8853-f06f8e763d62\")>,\n",
       " <selenium.webdriver.remote.webelement.WebElement (session=\"118ffda9f655b3c63ce5aff4dddf98db\", element=\"fbef40ad-f4a5-4176-8f38-1978bb631ae7\")>,\n",
       " <selenium.webdriver.remote.webelement.WebElement (session=\"118ffda9f655b3c63ce5aff4dddf98db\", element=\"e78be891-bc37-4037-b3e5-2f7015251015\")>,\n",
       " <selenium.webdriver.remote.webelement.WebElement (session=\"118ffda9f655b3c63ce5aff4dddf98db\", element=\"870bc333-5849-475b-b737-aee7e1aee37f\")>,\n",
       " <selenium.webdriver.remote.webelement.WebElement (session=\"118ffda9f655b3c63ce5aff4dddf98db\", element=\"b067268c-bef5-4a05-b2b9-9edc1c02f6e6\")>,\n",
       " <selenium.webdriver.remote.webelement.WebElement (session=\"118ffda9f655b3c63ce5aff4dddf98db\", element=\"76daea10-cccb-4c58-9293-0da5bfc47929\")>,\n",
       " <selenium.webdriver.remote.webelement.WebElement (session=\"118ffda9f655b3c63ce5aff4dddf98db\", element=\"6a5128b1-7bec-4dcc-9116-8f6b3d954324\")>,\n",
       " <selenium.webdriver.remote.webelement.WebElement (session=\"118ffda9f655b3c63ce5aff4dddf98db\", element=\"aebd0a65-bf8e-4259-a9f8-883b4859b098\")>,\n",
       " <selenium.webdriver.remote.webelement.WebElement (session=\"118ffda9f655b3c63ce5aff4dddf98db\", element=\"f2478beb-fe86-46bc-9807-2fa1753451ce\")>,\n",
       " <selenium.webdriver.remote.webelement.WebElement (session=\"118ffda9f655b3c63ce5aff4dddf98db\", element=\"5534b455-fb5f-42be-a77d-0ce6065021ad\")>]"
      ]
     },
     "execution_count": 34,
     "metadata": {},
     "output_type": "execute_result"
    }
   ],
   "source": [
    "locations_tags=driver.find_elements_by_xpath(\"//li[@class='fleft grey-text br2 placeHolderLi location']/span[1]\")\n",
    "locations_tags[0:10]"
   ]
  },
  {
   "cell_type": "code",
   "execution_count": 35,
   "id": "c3dcc483",
   "metadata": {},
   "outputs": [
    {
     "data": {
      "text/plain": [
       "['Mumbai, Hyderabad/Secunderabad, Pune, Delhi / NCR, Bangalore/Bengaluru',\n",
       " 'Bangalore/Bengaluru',\n",
       " 'Bangalore/Bengaluru',\n",
       " 'Bangalore/Bengaluru',\n",
       " 'Bangalore/Bengaluru',\n",
       " 'Bangalore/Bengaluru',\n",
       " 'Bangalore/Bengaluru',\n",
       " 'Kolkata, Mumbai, Bangalore/Bengaluru',\n",
       " 'Bangalore/Bengaluru, Mumbai (All Areas)',\n",
       " 'Bangalore/Bengaluru']"
      ]
     },
     "execution_count": 35,
     "metadata": {},
     "output_type": "execute_result"
    }
   ],
   "source": [
    "for i in locations_tags :\n",
    "    location=i.text\n",
    "    locations_list.append(location)\n",
    "locations_list[0:10]"
   ]
  },
  {
   "cell_type": "code",
   "execution_count": 36,
   "id": "69c0b9e3",
   "metadata": {},
   "outputs": [
    {
     "name": "stdout",
     "output_type": "stream",
     "text": [
      "20 20 20 20\n"
     ]
    }
   ],
   "source": [
    "print(len(job_title),len(company_names),len(experience_list),len(locations_list))"
   ]
  },
  {
   "cell_type": "code",
   "execution_count": 37,
   "id": "2581252c",
   "metadata": {},
   "outputs": [
    {
     "data": {
      "text/html": [
       "<div>\n",
       "<style scoped>\n",
       "    .dataframe tbody tr th:only-of-type {\n",
       "        vertical-align: middle;\n",
       "    }\n",
       "\n",
       "    .dataframe tbody tr th {\n",
       "        vertical-align: top;\n",
       "    }\n",
       "\n",
       "    .dataframe thead th {\n",
       "        text-align: right;\n",
       "    }\n",
       "</style>\n",
       "<table border=\"1\" class=\"dataframe\">\n",
       "  <thead>\n",
       "    <tr style=\"text-align: right;\">\n",
       "      <th></th>\n",
       "      <th>Titles</th>\n",
       "      <th>Location</th>\n",
       "      <th>Company Name</th>\n",
       "      <th>Experience Required</th>\n",
       "    </tr>\n",
       "  </thead>\n",
       "  <tbody>\n",
       "    <tr>\n",
       "      <th>0</th>\n",
       "      <td>Lead / Principal Data Scientist</td>\n",
       "      <td>Mumbai, Hyderabad/Secunderabad, Pune, Delhi / ...</td>\n",
       "      <td>Aviso Inc</td>\n",
       "      <td>8-13 Yrs</td>\n",
       "    </tr>\n",
       "    <tr>\n",
       "      <th>1</th>\n",
       "      <td>Data Scientist - Credit Risk</td>\n",
       "      <td>Bangalore/Bengaluru</td>\n",
       "      <td>Scienaptic Systems</td>\n",
       "      <td>3-8 Yrs</td>\n",
       "    </tr>\n",
       "    <tr>\n",
       "      <th>2</th>\n",
       "      <td>Data Scientist</td>\n",
       "      <td>Bangalore/Bengaluru</td>\n",
       "      <td>Snaphunt</td>\n",
       "      <td>0-2 Yrs</td>\n",
       "    </tr>\n",
       "    <tr>\n",
       "      <th>3</th>\n",
       "      <td>Data Scientist 2</td>\n",
       "      <td>Bangalore/Bengaluru</td>\n",
       "      <td>ANI Technologies Pvt. Ltd.</td>\n",
       "      <td>5-10 Yrs</td>\n",
       "    </tr>\n",
       "    <tr>\n",
       "      <th>4</th>\n",
       "      <td>Machine Learning AI Data Scientist</td>\n",
       "      <td>Bangalore/Bengaluru</td>\n",
       "      <td>EKO Infomatics Solutions Private Limited</td>\n",
       "      <td>2-5 Yrs</td>\n",
       "    </tr>\n",
       "    <tr>\n",
       "      <th>5</th>\n",
       "      <td>Senior Data Scientist / Data Scientist</td>\n",
       "      <td>Bangalore/Bengaluru</td>\n",
       "      <td>Superior Group</td>\n",
       "      <td>4-8 Yrs</td>\n",
       "    </tr>\n",
       "    <tr>\n",
       "      <th>6</th>\n",
       "      <td>Senior Data Scientist</td>\n",
       "      <td>Bangalore/Bengaluru</td>\n",
       "      <td>Ally-Executive</td>\n",
       "      <td>5-8 Yrs</td>\n",
       "    </tr>\n",
       "    <tr>\n",
       "      <th>7</th>\n",
       "      <td>Data Scientist /Senior Data Science Executive</td>\n",
       "      <td>Kolkata, Mumbai, Bangalore/Bengaluru</td>\n",
       "      <td>Sejal Consulting Hub</td>\n",
       "      <td>3-7 Yrs</td>\n",
       "    </tr>\n",
       "    <tr>\n",
       "      <th>8</th>\n",
       "      <td>Hiring For \"Data Scientist\" For leading Big 4 ...</td>\n",
       "      <td>Bangalore/Bengaluru, Mumbai (All Areas)</td>\n",
       "      <td>LIVE CONNECTIONS PLACEMENTS PRIVATE LIMITED</td>\n",
       "      <td>7-12 Yrs</td>\n",
       "    </tr>\n",
       "    <tr>\n",
       "      <th>9</th>\n",
       "      <td>Data Scientist</td>\n",
       "      <td>Bangalore/Bengaluru</td>\n",
       "      <td>PERSOLKELLY INDIA PRIVATE LIMITED</td>\n",
       "      <td>5-10 Yrs</td>\n",
       "    </tr>\n",
       "    <tr>\n",
       "      <th>10</th>\n",
       "      <td>Advanced Analytics Expert - Data Scientist</td>\n",
       "      <td>Bangalore/Bengaluru, Bangalore</td>\n",
       "      <td>Hewlett-Packard</td>\n",
       "      <td>8-13 Yrs</td>\n",
       "    </tr>\n",
       "    <tr>\n",
       "      <th>11</th>\n",
       "      <td>Data Science - Senior Data Scientist</td>\n",
       "      <td>Noida, Bangalore/Bengaluru</td>\n",
       "      <td>Paytm</td>\n",
       "      <td>2-4 Yrs</td>\n",
       "    </tr>\n",
       "    <tr>\n",
       "      <th>12</th>\n",
       "      <td>Data Scientist</td>\n",
       "      <td>Bangalore/Bengaluru</td>\n",
       "      <td>Truecaller</td>\n",
       "      <td>4-7 Yrs</td>\n",
       "    </tr>\n",
       "    <tr>\n",
       "      <th>13</th>\n",
       "      <td>Data Scientist</td>\n",
       "      <td>Bangalore/Bengaluru</td>\n",
       "      <td>Slice</td>\n",
       "      <td>1-3 Yrs</td>\n",
       "    </tr>\n",
       "    <tr>\n",
       "      <th>14</th>\n",
       "      <td>Data Scientist: Advanced Analytics</td>\n",
       "      <td>Bengaluru/Bangalore</td>\n",
       "      <td>IBM India Pvt. Limited</td>\n",
       "      <td>5-7 Yrs</td>\n",
       "    </tr>\n",
       "    <tr>\n",
       "      <th>15</th>\n",
       "      <td>Data Scientist - Risk Platform</td>\n",
       "      <td>Bangalore/Bengaluru</td>\n",
       "      <td>Gojek Tech</td>\n",
       "      <td>3-6 Yrs</td>\n",
       "    </tr>\n",
       "    <tr>\n",
       "      <th>16</th>\n",
       "      <td>Data Scientist - Risk Platform</td>\n",
       "      <td>Bangalore/Bengaluru</td>\n",
       "      <td>GO-JEK India</td>\n",
       "      <td>4-8 Yrs</td>\n",
       "    </tr>\n",
       "    <tr>\n",
       "      <th>17</th>\n",
       "      <td>Data scientist</td>\n",
       "      <td>Bangalore/Bengaluru</td>\n",
       "      <td>Superior Group</td>\n",
       "      <td>5-10 Yrs</td>\n",
       "    </tr>\n",
       "    <tr>\n",
       "      <th>18</th>\n",
       "      <td>Data Scientist</td>\n",
       "      <td>Bangalore/Bengaluru</td>\n",
       "      <td>Twilio</td>\n",
       "      <td>3-7 Yrs</td>\n",
       "    </tr>\n",
       "    <tr>\n",
       "      <th>19</th>\n",
       "      <td>Data Scientist</td>\n",
       "      <td>Bangalore/Bengaluru</td>\n",
       "      <td>Thoucentric Technology Pvt ltd</td>\n",
       "      <td>1-6 Yrs</td>\n",
       "    </tr>\n",
       "  </tbody>\n",
       "</table>\n",
       "</div>"
      ],
      "text/plain": [
       "                                               Titles  \\\n",
       "0                     Lead / Principal Data Scientist   \n",
       "1                        Data Scientist - Credit Risk   \n",
       "2                                      Data Scientist   \n",
       "3                                    Data Scientist 2   \n",
       "4                  Machine Learning AI Data Scientist   \n",
       "5              Senior Data Scientist / Data Scientist   \n",
       "6                               Senior Data Scientist   \n",
       "7       Data Scientist /Senior Data Science Executive   \n",
       "8   Hiring For \"Data Scientist\" For leading Big 4 ...   \n",
       "9                                      Data Scientist   \n",
       "10         Advanced Analytics Expert - Data Scientist   \n",
       "11               Data Science - Senior Data Scientist   \n",
       "12                                     Data Scientist   \n",
       "13                                     Data Scientist   \n",
       "14                 Data Scientist: Advanced Analytics   \n",
       "15                     Data Scientist - Risk Platform   \n",
       "16                     Data Scientist - Risk Platform   \n",
       "17                                     Data scientist   \n",
       "18                                     Data Scientist   \n",
       "19                                     Data Scientist   \n",
       "\n",
       "                                             Location  \\\n",
       "0   Mumbai, Hyderabad/Secunderabad, Pune, Delhi / ...   \n",
       "1                                 Bangalore/Bengaluru   \n",
       "2                                 Bangalore/Bengaluru   \n",
       "3                                 Bangalore/Bengaluru   \n",
       "4                                 Bangalore/Bengaluru   \n",
       "5                                 Bangalore/Bengaluru   \n",
       "6                                 Bangalore/Bengaluru   \n",
       "7                Kolkata, Mumbai, Bangalore/Bengaluru   \n",
       "8             Bangalore/Bengaluru, Mumbai (All Areas)   \n",
       "9                                 Bangalore/Bengaluru   \n",
       "10                     Bangalore/Bengaluru, Bangalore   \n",
       "11                         Noida, Bangalore/Bengaluru   \n",
       "12                                Bangalore/Bengaluru   \n",
       "13                                Bangalore/Bengaluru   \n",
       "14                                Bengaluru/Bangalore   \n",
       "15                                Bangalore/Bengaluru   \n",
       "16                                Bangalore/Bengaluru   \n",
       "17                                Bangalore/Bengaluru   \n",
       "18                                Bangalore/Bengaluru   \n",
       "19                                Bangalore/Bengaluru   \n",
       "\n",
       "                                   Company Name Experience Required  \n",
       "0                                     Aviso Inc            8-13 Yrs  \n",
       "1                            Scienaptic Systems             3-8 Yrs  \n",
       "2                                      Snaphunt             0-2 Yrs  \n",
       "3                    ANI Technologies Pvt. Ltd.            5-10 Yrs  \n",
       "4      EKO Infomatics Solutions Private Limited             2-5 Yrs  \n",
       "5                                Superior Group             4-8 Yrs  \n",
       "6                                Ally-Executive             5-8 Yrs  \n",
       "7                          Sejal Consulting Hub             3-7 Yrs  \n",
       "8   LIVE CONNECTIONS PLACEMENTS PRIVATE LIMITED            7-12 Yrs  \n",
       "9             PERSOLKELLY INDIA PRIVATE LIMITED            5-10 Yrs  \n",
       "10                              Hewlett-Packard            8-13 Yrs  \n",
       "11                                        Paytm             2-4 Yrs  \n",
       "12                                   Truecaller             4-7 Yrs  \n",
       "13                                        Slice             1-3 Yrs  \n",
       "14                       IBM India Pvt. Limited             5-7 Yrs  \n",
       "15                                   Gojek Tech             3-6 Yrs  \n",
       "16                                 GO-JEK India             4-8 Yrs  \n",
       "17                               Superior Group            5-10 Yrs  \n",
       "18                                       Twilio             3-7 Yrs  \n",
       "19               Thoucentric Technology Pvt ltd             1-6 Yrs  "
      ]
     },
     "execution_count": 37,
     "metadata": {},
     "output_type": "execute_result"
    }
   ],
   "source": [
    "df = pd.DataFrame({'Titles': job_title,'Location':locations_list ,'Company Name':company_names,'Experience Required':experience_list})\n",
    "df"
   ]
  },
  {
   "cell_type": "markdown",
   "id": "46089a9f",
   "metadata": {},
   "source": [
    "Q3.In this question you have to scrape data using the filters available on the webpage as shown below:\n",
    "You have to use the location and salary filter. \n",
    "You have to scrape data for “Data Scientist” designation for first 10 job results. \n",
    "You have to scrape the job-title, job-location, company name, experience required. \n",
    "The location filter to be used is “Delhi/NCR” The salary filter to be used is “3-6” lakhs \n",
    " \n",
    "The task will be done as shown in the below steps: \n",
    "1.\tfirst get the webpage https://www.naukri.com/ \n",
    "2.\tEnter “Data Scientist” in “Skill, Designations, and Companies” field. \n",
    "3.\tThen click the search button. \n",
    "4.\tThen apply the location filter and salary filter by checking the respective boxes 5. Then scrape the data for the first 10 jobs results you get. \n",
    "6.\tFinally create a dataframe of the scraped data. \n"
   ]
  },
  {
   "cell_type": "code",
   "execution_count": 38,
   "id": "a72a1a92",
   "metadata": {},
   "outputs": [
    {
     "name": "stdout",
     "output_type": "stream",
     "text": [
      "Requirement already satisfied: selenium in c:\\users\\pravat\\anaconda3\\lib\\site-packages (4.1.0)\n",
      "Requirement already satisfied: urllib3[secure]~=1.26 in c:\\users\\pravat\\anaconda3\\lib\\site-packages (from selenium) (1.26.4)\n",
      "Requirement already satisfied: trio-websocket~=0.9 in c:\\users\\pravat\\anaconda3\\lib\\site-packages (from selenium) (0.9.2)\n",
      "Requirement already satisfied: trio~=0.17 in c:\\users\\pravat\\anaconda3\\lib\\site-packages (from selenium) (0.19.0)\n",
      "Requirement already satisfied: sortedcontainers in c:\\users\\pravat\\anaconda3\\lib\\site-packages (from trio~=0.17->selenium) (2.3.0)\n",
      "Requirement already satisfied: outcome in c:\\users\\pravat\\anaconda3\\lib\\site-packages (from trio~=0.17->selenium) (1.1.0)\n",
      "Requirement already satisfied: attrs>=19.2.0 in c:\\users\\pravat\\anaconda3\\lib\\site-packages (from trio~=0.17->selenium) (20.3.0)\n",
      "Requirement already satisfied: cffi>=1.14 in c:\\users\\pravat\\anaconda3\\lib\\site-packages (from trio~=0.17->selenium) (1.14.5)\n",
      "Requirement already satisfied: idna in c:\\users\\pravat\\anaconda3\\lib\\site-packages (from trio~=0.17->selenium) (2.10)\n",
      "Requirement already satisfied: sniffio in c:\\users\\pravat\\anaconda3\\lib\\site-packages (from trio~=0.17->selenium) (1.2.0)\n",
      "Requirement already satisfied: async-generator>=1.9 in c:\\users\\pravat\\anaconda3\\lib\\site-packages (from trio~=0.17->selenium) (1.10)\n",
      "Requirement already satisfied: pycparser in c:\\users\\pravat\\anaconda3\\lib\\site-packages (from cffi>=1.14->trio~=0.17->selenium) (2.20)\n",
      "Requirement already satisfied: wsproto>=0.14 in c:\\users\\pravat\\anaconda3\\lib\\site-packages (from trio-websocket~=0.9->selenium) (1.0.0)\n",
      "Requirement already satisfied: cryptography>=1.3.4 in c:\\users\\pravat\\anaconda3\\lib\\site-packages (from urllib3[secure]~=1.26->selenium) (3.4.7)\n",
      "Requirement already satisfied: certifi in c:\\users\\pravat\\anaconda3\\lib\\site-packages (from urllib3[secure]~=1.26->selenium) (2020.12.5)\n",
      "Requirement already satisfied: pyOpenSSL>=0.14 in c:\\users\\pravat\\anaconda3\\lib\\site-packages (from urllib3[secure]~=1.26->selenium) (20.0.1)\n",
      "Requirement already satisfied: six>=1.5.2 in c:\\users\\pravat\\anaconda3\\lib\\site-packages (from pyOpenSSL>=0.14->urllib3[secure]~=1.26->selenium) (1.15.0)\n",
      "Requirement already satisfied: h11<1,>=0.9.0 in c:\\users\\pravat\\anaconda3\\lib\\site-packages (from wsproto>=0.14->trio-websocket~=0.9->selenium) (0.12.0)\n"
     ]
    }
   ],
   "source": [
    "! pip install selenium\n",
    "import selenium \n",
    "import pandas as pd\n",
    "from selenium import webdriver\n",
    "import warnings\n",
    "warnings.filterwarnings(\"ignore\")\n",
    "driver=webdriver.Chrome(r\"C:/Users/pravat/Downloads/chromedriver_win32/chromedriver.exe\")\n",
    "warnings.filterwarnings(\"ignore\")\n",
    "driver.get('https://www.naukri.com/')"
   ]
  },
  {
   "cell_type": "code",
   "execution_count": 40,
   "id": "57f2cdcd",
   "metadata": {},
   "outputs": [],
   "source": [
    "search_job = driver.find_element_by_id(\"qsb-keyword-sugg\")\n",
    "search_job.send_keys(\"Data Scientist\")\n",
    "search_loc = driver.find_element_by_xpath(\"//input[@id='qsb-location-sugg']\")\n",
    "search_loc.send_keys(\"Delhi\")"
   ]
  },
  {
   "cell_type": "code",
   "execution_count": 41,
   "id": "23e92f4a",
   "metadata": {},
   "outputs": [],
   "source": [
    "search_btn = driver.find_element_by_xpath(\"//div[@class='search-btn']/button\")\n",
    "search_btn.click()"
   ]
  },
  {
   "cell_type": "code",
   "execution_count": 42,
   "id": "597c4f9c",
   "metadata": {},
   "outputs": [],
   "source": [
    "url=\"https://www.naukri.com/data-scientist-jobs-in-delhi-ncr?k=data%20scientist&l=delhi%2Fncr\""
   ]
  },
  {
   "cell_type": "code",
   "execution_count": 43,
   "id": "4ea75f27",
   "metadata": {},
   "outputs": [],
   "source": [
    "driver.get(url)\n",
    "job_title=[]\n",
    "company_names=[]\n",
    "locations_list=[]\n",
    "salary_box=[]"
   ]
  },
  {
   "cell_type": "markdown",
   "id": "f66559e2",
   "metadata": {},
   "source": [
    "# JOB TITLE"
   ]
  },
  {
   "cell_type": "code",
   "execution_count": 44,
   "id": "1a7c5eca",
   "metadata": {},
   "outputs": [
    {
     "data": {
      "text/plain": [
       "[<selenium.webdriver.remote.webelement.WebElement (session=\"58d915ec43fab3a9e1da9ccbc928842e\", element=\"b73017a3-358f-4cda-bd47-ca60fbcccf10\")>,\n",
       " <selenium.webdriver.remote.webelement.WebElement (session=\"58d915ec43fab3a9e1da9ccbc928842e\", element=\"d7192494-c3f5-4d82-9ab4-4701774b712b\")>,\n",
       " <selenium.webdriver.remote.webelement.WebElement (session=\"58d915ec43fab3a9e1da9ccbc928842e\", element=\"a4b5f270-9d72-4c73-86e9-547278f0e5df\")>,\n",
       " <selenium.webdriver.remote.webelement.WebElement (session=\"58d915ec43fab3a9e1da9ccbc928842e\", element=\"24cebb44-9558-404d-816f-daed74a66370\")>,\n",
       " <selenium.webdriver.remote.webelement.WebElement (session=\"58d915ec43fab3a9e1da9ccbc928842e\", element=\"164e6af1-4b27-4892-8542-6f5e4cacf441\")>,\n",
       " <selenium.webdriver.remote.webelement.WebElement (session=\"58d915ec43fab3a9e1da9ccbc928842e\", element=\"b28a7ec8-b05e-4027-9ce3-05aebac42125\")>,\n",
       " <selenium.webdriver.remote.webelement.WebElement (session=\"58d915ec43fab3a9e1da9ccbc928842e\", element=\"a5081e09-c1e2-4349-b8d1-57c1236a3a50\")>,\n",
       " <selenium.webdriver.remote.webelement.WebElement (session=\"58d915ec43fab3a9e1da9ccbc928842e\", element=\"a585a510-425a-4c16-8beb-57e863be5586\")>,\n",
       " <selenium.webdriver.remote.webelement.WebElement (session=\"58d915ec43fab3a9e1da9ccbc928842e\", element=\"5f96496e-4bc2-430e-9aa0-3e2ed5f6c44e\")>,\n",
       " <selenium.webdriver.remote.webelement.WebElement (session=\"58d915ec43fab3a9e1da9ccbc928842e\", element=\"579271da-7b41-457a-9cab-3844a6234ee8\")>]"
      ]
     },
     "execution_count": 44,
     "metadata": {},
     "output_type": "execute_result"
    }
   ],
   "source": [
    "titles_tags=driver.find_elements_by_xpath(\"//a[@class='title fw500 ellipsis']\")\n",
    "titles_tags[0:10]"
   ]
  },
  {
   "cell_type": "code",
   "execution_count": 45,
   "id": "701bcb3f",
   "metadata": {},
   "outputs": [
    {
     "data": {
      "text/plain": [
       "['Lead / Principal Data Scientist',\n",
       " 'Data Scientist: Advanced Analytics',\n",
       " 'Data Science - Senior Data Scientist',\n",
       " 'Senior Data Scientist',\n",
       " 'Senior Data Scientist',\n",
       " 'Data Scientist: Advanced Analytics',\n",
       " 'Data Scientist | Senior Data Scientist',\n",
       " 'Sr Data Scientist',\n",
       " 'Data Scientist',\n",
       " 'Data Scientist']"
      ]
     },
     "execution_count": 45,
     "metadata": {},
     "output_type": "execute_result"
    }
   ],
   "source": [
    "for i in titles_tags:\n",
    "    title=i.text\n",
    "    job_title.append(title)\n",
    "job_title[0:10]"
   ]
  },
  {
   "cell_type": "markdown",
   "id": "e3f9d0cf",
   "metadata": {},
   "source": [
    "# COMPANY NAMES"
   ]
  },
  {
   "cell_type": "code",
   "execution_count": 46,
   "id": "9f17d013",
   "metadata": {},
   "outputs": [
    {
     "data": {
      "text/plain": [
       "[<selenium.webdriver.remote.webelement.WebElement (session=\"58d915ec43fab3a9e1da9ccbc928842e\", element=\"63c96fd9-a299-42dd-9a58-fb33738a62e2\")>,\n",
       " <selenium.webdriver.remote.webelement.WebElement (session=\"58d915ec43fab3a9e1da9ccbc928842e\", element=\"fa2cd2bf-cdf6-4f56-843f-34c10e216ce3\")>,\n",
       " <selenium.webdriver.remote.webelement.WebElement (session=\"58d915ec43fab3a9e1da9ccbc928842e\", element=\"b4b2fb5b-b6b7-4560-bc8d-96916506674a\")>,\n",
       " <selenium.webdriver.remote.webelement.WebElement (session=\"58d915ec43fab3a9e1da9ccbc928842e\", element=\"631a1d84-d41f-48f8-a17d-d6c0c3c4545f\")>,\n",
       " <selenium.webdriver.remote.webelement.WebElement (session=\"58d915ec43fab3a9e1da9ccbc928842e\", element=\"271767c2-7a6b-466b-9a52-0649321dacce\")>,\n",
       " <selenium.webdriver.remote.webelement.WebElement (session=\"58d915ec43fab3a9e1da9ccbc928842e\", element=\"1647ebe1-a844-4660-8126-76f4b0940eac\")>,\n",
       " <selenium.webdriver.remote.webelement.WebElement (session=\"58d915ec43fab3a9e1da9ccbc928842e\", element=\"d00370ba-4dab-466d-9ef0-034a6b18dcee\")>,\n",
       " <selenium.webdriver.remote.webelement.WebElement (session=\"58d915ec43fab3a9e1da9ccbc928842e\", element=\"b2fc2ef2-3f68-4c97-a938-d6a269ef9249\")>,\n",
       " <selenium.webdriver.remote.webelement.WebElement (session=\"58d915ec43fab3a9e1da9ccbc928842e\", element=\"4167640c-d915-44d7-8fc9-b94d435fe6c8\")>,\n",
       " <selenium.webdriver.remote.webelement.WebElement (session=\"58d915ec43fab3a9e1da9ccbc928842e\", element=\"3b55ec3a-1eca-4867-b45a-6ce3aaa7041d\")>]"
      ]
     },
     "execution_count": 46,
     "metadata": {},
     "output_type": "execute_result"
    }
   ],
   "source": [
    "companies_tags=driver.find_elements_by_xpath(\"//a[@class='subTitle ellipsis fleft']\")\n",
    "companies_tags[0:10]"
   ]
  },
  {
   "cell_type": "code",
   "execution_count": 47,
   "id": "03cd5e6e",
   "metadata": {},
   "outputs": [
    {
     "data": {
      "text/plain": [
       "['Aviso Inc',\n",
       " 'IBM India Pvt. Limited',\n",
       " 'Paytm',\n",
       " 'Wipro',\n",
       " 'Wipro',\n",
       " 'IBM India Pvt. Limited',\n",
       " '4bell Technology',\n",
       " 'Talent Integrators',\n",
       " 'LG Electronics India Pvt. Ltd.',\n",
       " 'Navikenz India Pvt Ltd']"
      ]
     },
     "execution_count": 47,
     "metadata": {},
     "output_type": "execute_result"
    }
   ],
   "source": [
    "for i in companies_tags:\n",
    "    company_name=i.text\n",
    "    company_names.append(company_name)\n",
    "company_names[0:10]"
   ]
  },
  {
   "cell_type": "markdown",
   "id": "643933b6",
   "metadata": {},
   "source": [
    "# LOCATION\n"
   ]
  },
  {
   "cell_type": "code",
   "execution_count": 48,
   "id": "f3bb5c48",
   "metadata": {},
   "outputs": [
    {
     "data": {
      "text/plain": [
       "[<selenium.webdriver.remote.webelement.WebElement (session=\"58d915ec43fab3a9e1da9ccbc928842e\", element=\"0c542bfa-cdf1-464c-aefe-3f2361116745\")>,\n",
       " <selenium.webdriver.remote.webelement.WebElement (session=\"58d915ec43fab3a9e1da9ccbc928842e\", element=\"f161bf16-8107-4478-b148-13acc28e5c63\")>,\n",
       " <selenium.webdriver.remote.webelement.WebElement (session=\"58d915ec43fab3a9e1da9ccbc928842e\", element=\"22ccd420-2ec2-462d-88b7-24136cb42a78\")>,\n",
       " <selenium.webdriver.remote.webelement.WebElement (session=\"58d915ec43fab3a9e1da9ccbc928842e\", element=\"77665985-c807-4a8f-b167-5dae2f58446b\")>,\n",
       " <selenium.webdriver.remote.webelement.WebElement (session=\"58d915ec43fab3a9e1da9ccbc928842e\", element=\"6d480303-27c1-4a99-9196-2164a7a2aa92\")>,\n",
       " <selenium.webdriver.remote.webelement.WebElement (session=\"58d915ec43fab3a9e1da9ccbc928842e\", element=\"d8cca864-fe8f-4059-8b9e-a0e4d0d69c99\")>,\n",
       " <selenium.webdriver.remote.webelement.WebElement (session=\"58d915ec43fab3a9e1da9ccbc928842e\", element=\"6cbb8064-d486-4382-9266-08b1ae9b2c0b\")>,\n",
       " <selenium.webdriver.remote.webelement.WebElement (session=\"58d915ec43fab3a9e1da9ccbc928842e\", element=\"93a8cbdf-94ea-437c-b70d-7dbc839002b1\")>,\n",
       " <selenium.webdriver.remote.webelement.WebElement (session=\"58d915ec43fab3a9e1da9ccbc928842e\", element=\"605d635d-b37f-44d4-a1f9-c7c2807a78e1\")>,\n",
       " <selenium.webdriver.remote.webelement.WebElement (session=\"58d915ec43fab3a9e1da9ccbc928842e\", element=\"62fa20c6-259a-4c1d-98cf-d0b8b10da1ce\")>]"
      ]
     },
     "execution_count": 48,
     "metadata": {},
     "output_type": "execute_result"
    }
   ],
   "source": [
    "locations_tags=driver.find_elements_by_xpath(\"//li[@class='fleft grey-text br2 placeHolderLi location']/span[1]\")\n",
    "locations_tags[0:10]"
   ]
  },
  {
   "cell_type": "code",
   "execution_count": 49,
   "id": "93306d29",
   "metadata": {},
   "outputs": [
    {
     "data": {
      "text/plain": [
       "['Mumbai, Hyderabad/Secunderabad, Pune, Delhi / NCR, Bangalore/Bengaluru',\n",
       " 'Gurgaon/Gurugram',\n",
       " 'Noida, Bangalore/Bengaluru',\n",
       " 'Pune, Bangalore/Bengaluru, Delhi / NCR',\n",
       " 'Kolkata, Hyderabad/Secunderabad, Pune, Chennai, Bangalore/Bengaluru, Delhi / NCR, Mumbai (All Areas)',\n",
       " 'Delhi / NCR',\n",
       " 'Delhi / NCR, DelhiNCR',\n",
       " 'Gurgaon/Gurugram',\n",
       " 'Noida, New Delhi, Faridabad, Gurgaon/Gurugram, Delhi / NCR',\n",
       " 'Noida, Nodia']"
      ]
     },
     "execution_count": 49,
     "metadata": {},
     "output_type": "execute_result"
    }
   ],
   "source": [
    "for i in locations_tags :\n",
    "    location=i.text\n",
    "    locations_list.append(location)\n",
    "locations_list[0:10]"
   ]
  },
  {
   "cell_type": "markdown",
   "id": "417c23b1",
   "metadata": {},
   "source": [
    "# SALARY\n"
   ]
  },
  {
   "cell_type": "code",
   "execution_count": 50,
   "id": "6ed54186",
   "metadata": {},
   "outputs": [
    {
     "data": {
      "text/plain": [
       "[<selenium.webdriver.remote.webelement.WebElement (session=\"58d915ec43fab3a9e1da9ccbc928842e\", element=\"b9744c1c-26de-4844-8113-09065be0ea64\")>]"
      ]
     },
     "execution_count": 50,
     "metadata": {},
     "output_type": "execute_result"
    }
   ],
   "source": [
    "salary_tags=driver.find_elements_by_xpath(\"/html/body/div[1]/div[3]/div[2]/section[1]/div[2]/div[3]/div[2]/div[2]/label/p\")\n",
    "salary_tags[0:10]"
   ]
  },
  {
   "cell_type": "code",
   "execution_count": 51,
   "id": "9962854e",
   "metadata": {},
   "outputs": [
    {
     "data": {
      "text/plain": [
       "['Delhi / NCR\\n(2398)']"
      ]
     },
     "execution_count": 51,
     "metadata": {},
     "output_type": "execute_result"
    }
   ],
   "source": [
    "for i in salary_tags:\n",
    "    salary=i.text\n",
    "    salary_box.append(salary)\n",
    "salary_box[0:10]"
   ]
  },
  {
   "cell_type": "code",
   "execution_count": 52,
   "id": "41290fd0",
   "metadata": {},
   "outputs": [
    {
     "name": "stdout",
     "output_type": "stream",
     "text": [
      "20 20 20\n"
     ]
    }
   ],
   "source": [
    "print(len(job_title),len(company_names),len(locations_list))"
   ]
  },
  {
   "cell_type": "code",
   "execution_count": 53,
   "id": "84ba3418",
   "metadata": {},
   "outputs": [
    {
     "data": {
      "text/html": [
       "<div>\n",
       "<style scoped>\n",
       "    .dataframe tbody tr th:only-of-type {\n",
       "        vertical-align: middle;\n",
       "    }\n",
       "\n",
       "    .dataframe tbody tr th {\n",
       "        vertical-align: top;\n",
       "    }\n",
       "\n",
       "    .dataframe thead th {\n",
       "        text-align: right;\n",
       "    }\n",
       "</style>\n",
       "<table border=\"1\" class=\"dataframe\">\n",
       "  <thead>\n",
       "    <tr style=\"text-align: right;\">\n",
       "      <th></th>\n",
       "      <th>Titles</th>\n",
       "      <th>Company Name</th>\n",
       "      <th>Location</th>\n",
       "    </tr>\n",
       "  </thead>\n",
       "  <tbody>\n",
       "    <tr>\n",
       "      <th>0</th>\n",
       "      <td>Lead / Principal Data Scientist</td>\n",
       "      <td>Aviso Inc</td>\n",
       "      <td>Mumbai, Hyderabad/Secunderabad, Pune, Delhi / ...</td>\n",
       "    </tr>\n",
       "    <tr>\n",
       "      <th>1</th>\n",
       "      <td>Data Scientist: Advanced Analytics</td>\n",
       "      <td>IBM India Pvt. Limited</td>\n",
       "      <td>Gurgaon/Gurugram</td>\n",
       "    </tr>\n",
       "    <tr>\n",
       "      <th>2</th>\n",
       "      <td>Data Science - Senior Data Scientist</td>\n",
       "      <td>Paytm</td>\n",
       "      <td>Noida, Bangalore/Bengaluru</td>\n",
       "    </tr>\n",
       "    <tr>\n",
       "      <th>3</th>\n",
       "      <td>Senior Data Scientist</td>\n",
       "      <td>Wipro</td>\n",
       "      <td>Pune, Bangalore/Bengaluru, Delhi / NCR</td>\n",
       "    </tr>\n",
       "    <tr>\n",
       "      <th>4</th>\n",
       "      <td>Senior Data Scientist</td>\n",
       "      <td>Wipro</td>\n",
       "      <td>Kolkata, Hyderabad/Secunderabad, Pune, Chennai...</td>\n",
       "    </tr>\n",
       "    <tr>\n",
       "      <th>5</th>\n",
       "      <td>Data Scientist: Advanced Analytics</td>\n",
       "      <td>IBM India Pvt. Limited</td>\n",
       "      <td>Delhi / NCR</td>\n",
       "    </tr>\n",
       "    <tr>\n",
       "      <th>6</th>\n",
       "      <td>Data Scientist | Senior Data Scientist</td>\n",
       "      <td>4bell Technology</td>\n",
       "      <td>Delhi / NCR, DelhiNCR</td>\n",
       "    </tr>\n",
       "    <tr>\n",
       "      <th>7</th>\n",
       "      <td>Sr Data Scientist</td>\n",
       "      <td>Talent Integrators</td>\n",
       "      <td>Gurgaon/Gurugram</td>\n",
       "    </tr>\n",
       "    <tr>\n",
       "      <th>8</th>\n",
       "      <td>Data Scientist</td>\n",
       "      <td>LG Electronics India Pvt. Ltd.</td>\n",
       "      <td>Noida, New Delhi, Faridabad, Gurgaon/Gurugram,...</td>\n",
       "    </tr>\n",
       "    <tr>\n",
       "      <th>9</th>\n",
       "      <td>Data Scientist</td>\n",
       "      <td>Navikenz India Pvt Ltd</td>\n",
       "      <td>Noida, Nodia</td>\n",
       "    </tr>\n",
       "    <tr>\n",
       "      <th>10</th>\n",
       "      <td>Hiring Data Scientist || Cians Analytics</td>\n",
       "      <td>Cians Analytics Pvt. Ltd.</td>\n",
       "      <td>Gurgaon/Gurugram</td>\n",
       "    </tr>\n",
       "    <tr>\n",
       "      <th>11</th>\n",
       "      <td>Data Scientist</td>\n",
       "      <td>CK Birla Healthcare Private Limited</td>\n",
       "      <td>Gurgaon/Gurugram</td>\n",
       "    </tr>\n",
       "    <tr>\n",
       "      <th>12</th>\n",
       "      <td>Data Scientist: Artificial Intelligence</td>\n",
       "      <td>IBM India Pvt. Limited</td>\n",
       "      <td>Gurgaon/Gurugram</td>\n",
       "    </tr>\n",
       "    <tr>\n",
       "      <th>13</th>\n",
       "      <td>Data Scientist</td>\n",
       "      <td>First Employer</td>\n",
       "      <td>Delhi / NCR</td>\n",
       "    </tr>\n",
       "    <tr>\n",
       "      <th>14</th>\n",
       "      <td>AVP- Data Scientist</td>\n",
       "      <td>MyLoanCare Ventures Private Limited</td>\n",
       "      <td>Gurgaon/Gurugram, Bangalore/Bengaluru</td>\n",
       "    </tr>\n",
       "    <tr>\n",
       "      <th>15</th>\n",
       "      <td>Data Scientist/ Sr Data Scientist</td>\n",
       "      <td>Connexions</td>\n",
       "      <td>Gurgaon/Gurugram</td>\n",
       "    </tr>\n",
       "    <tr>\n",
       "      <th>16</th>\n",
       "      <td>Senior / Lead Data Scientist</td>\n",
       "      <td>Armour Corporate Services</td>\n",
       "      <td>Gurgaon/Gurugram</td>\n",
       "    </tr>\n",
       "    <tr>\n",
       "      <th>17</th>\n",
       "      <td>Data Scientist Opportunity With Fluentgrid Lim...</td>\n",
       "      <td>Fluentgrid Limited</td>\n",
       "      <td>New Delhi</td>\n",
       "    </tr>\n",
       "    <tr>\n",
       "      <th>18</th>\n",
       "      <td>Data Scientist/Senior Scientist - Python/Spark...</td>\n",
       "      <td>Connexions</td>\n",
       "      <td>Gurgaon/Gurugram</td>\n",
       "    </tr>\n",
       "    <tr>\n",
       "      <th>19</th>\n",
       "      <td>Data Scientist</td>\n",
       "      <td>GM Analytics Solutions</td>\n",
       "      <td>Gurgaon/Gurugram(Cyber City)</td>\n",
       "    </tr>\n",
       "  </tbody>\n",
       "</table>\n",
       "</div>"
      ],
      "text/plain": [
       "                                               Titles  \\\n",
       "0                     Lead / Principal Data Scientist   \n",
       "1                  Data Scientist: Advanced Analytics   \n",
       "2                Data Science - Senior Data Scientist   \n",
       "3                               Senior Data Scientist   \n",
       "4                               Senior Data Scientist   \n",
       "5                  Data Scientist: Advanced Analytics   \n",
       "6              Data Scientist | Senior Data Scientist   \n",
       "7                                   Sr Data Scientist   \n",
       "8                                      Data Scientist   \n",
       "9                                      Data Scientist   \n",
       "10           Hiring Data Scientist || Cians Analytics   \n",
       "11                                     Data Scientist   \n",
       "12            Data Scientist: Artificial Intelligence   \n",
       "13                                     Data Scientist   \n",
       "14                                AVP- Data Scientist   \n",
       "15                  Data Scientist/ Sr Data Scientist   \n",
       "16                       Senior / Lead Data Scientist   \n",
       "17  Data Scientist Opportunity With Fluentgrid Lim...   \n",
       "18  Data Scientist/Senior Scientist - Python/Spark...   \n",
       "19                                     Data Scientist   \n",
       "\n",
       "                           Company Name  \\\n",
       "0                             Aviso Inc   \n",
       "1                IBM India Pvt. Limited   \n",
       "2                                 Paytm   \n",
       "3                                 Wipro   \n",
       "4                                 Wipro   \n",
       "5                IBM India Pvt. Limited   \n",
       "6                      4bell Technology   \n",
       "7                    Talent Integrators   \n",
       "8        LG Electronics India Pvt. Ltd.   \n",
       "9                Navikenz India Pvt Ltd   \n",
       "10            Cians Analytics Pvt. Ltd.   \n",
       "11  CK Birla Healthcare Private Limited   \n",
       "12               IBM India Pvt. Limited   \n",
       "13                       First Employer   \n",
       "14  MyLoanCare Ventures Private Limited   \n",
       "15                           Connexions   \n",
       "16            Armour Corporate Services   \n",
       "17                   Fluentgrid Limited   \n",
       "18                           Connexions   \n",
       "19               GM Analytics Solutions   \n",
       "\n",
       "                                             Location  \n",
       "0   Mumbai, Hyderabad/Secunderabad, Pune, Delhi / ...  \n",
       "1                                    Gurgaon/Gurugram  \n",
       "2                          Noida, Bangalore/Bengaluru  \n",
       "3              Pune, Bangalore/Bengaluru, Delhi / NCR  \n",
       "4   Kolkata, Hyderabad/Secunderabad, Pune, Chennai...  \n",
       "5                                         Delhi / NCR  \n",
       "6                               Delhi / NCR, DelhiNCR  \n",
       "7                                    Gurgaon/Gurugram  \n",
       "8   Noida, New Delhi, Faridabad, Gurgaon/Gurugram,...  \n",
       "9                                        Noida, Nodia  \n",
       "10                                   Gurgaon/Gurugram  \n",
       "11                                   Gurgaon/Gurugram  \n",
       "12                                   Gurgaon/Gurugram  \n",
       "13                                        Delhi / NCR  \n",
       "14              Gurgaon/Gurugram, Bangalore/Bengaluru  \n",
       "15                                   Gurgaon/Gurugram  \n",
       "16                                   Gurgaon/Gurugram  \n",
       "17                                          New Delhi  \n",
       "18                                   Gurgaon/Gurugram  \n",
       "19                       Gurgaon/Gurugram(Cyber City)  "
      ]
     },
     "execution_count": 53,
     "metadata": {},
     "output_type": "execute_result"
    }
   ],
   "source": [
    "df = pd.DataFrame({'Titles': job_title,'Company Name':company_names,'Location':locations_list })\n",
    "df"
   ]
  },
  {
   "cell_type": "markdown",
   "id": "b594d6f8",
   "metadata": {},
   "source": [
    "#Q4: Scrape data of first 100 sunglasses listings on flipkart.com. You have to scrape four attributes: \n",
    "1.Brand \n",
    "2.Product Description \n",
    "3.Price \n",
    "The attributes which you have to scrape is ticked marked in the below image. \n",
    " \n",
    " \n",
    "To scrape the data you have to go through following steps: \n",
    "1.Go to Flipkart webpage by url : https://www.flipkart.com/ \n",
    "2.Enter “sunglasses” in the search field where “search for products, brands and more” is written and click the search icon \n",
    "3.After that you will reach to the page having a lot of sunglasses. From this page you can scrap the required data as usual. \n",
    " \n",
    " \n",
    "4.After scraping data from the first page, go to the “Next” Button at the bottom of the page , then click on it. \n",
    "5.Now scrape data from this page as usual \n",
    "6.Repeat this until you get data for 100 sunglasses. \n",
    "Note:  That all of the above steps have to be done by coding only and not manually. \n"
   ]
  },
  {
   "cell_type": "code",
   "execution_count": 63,
   "id": "ad0b2b7e",
   "metadata": {},
   "outputs": [
    {
     "name": "stdout",
     "output_type": "stream",
     "text": [
      "Requirement already satisfied: selenium in c:\\users\\pravat\\anaconda3\\lib\\site-packages (4.1.0)\n",
      "Requirement already satisfied: urllib3[secure]~=1.26 in c:\\users\\pravat\\anaconda3\\lib\\site-packages (from selenium) (1.26.4)\n",
      "Requirement already satisfied: trio~=0.17 in c:\\users\\pravat\\anaconda3\\lib\\site-packages (from selenium) (0.19.0)\n",
      "Requirement already satisfied: trio-websocket~=0.9 in c:\\users\\pravat\\anaconda3\\lib\\site-packages (from selenium) (0.9.2)\n",
      "Requirement already satisfied: cffi>=1.14 in c:\\users\\pravat\\anaconda3\\lib\\site-packages (from trio~=0.17->selenium) (1.14.5)\n",
      "Requirement already satisfied: sortedcontainers in c:\\users\\pravat\\anaconda3\\lib\\site-packages (from trio~=0.17->selenium) (2.3.0)\n",
      "Requirement already satisfied: idna in c:\\users\\pravat\\anaconda3\\lib\\site-packages (from trio~=0.17->selenium) (2.10)\n",
      "Requirement already satisfied: async-generator>=1.9 in c:\\users\\pravat\\anaconda3\\lib\\site-packages (from trio~=0.17->selenium) (1.10)\n",
      "Requirement already satisfied: attrs>=19.2.0 in c:\\users\\pravat\\anaconda3\\lib\\site-packages (from trio~=0.17->selenium) (20.3.0)\n",
      "Requirement already satisfied: sniffio in c:\\users\\pravat\\anaconda3\\lib\\site-packages (from trio~=0.17->selenium) (1.2.0)\n",
      "Requirement already satisfied: outcome in c:\\users\\pravat\\anaconda3\\lib\\site-packages (from trio~=0.17->selenium) (1.1.0)\n",
      "Requirement already satisfied: pycparser in c:\\users\\pravat\\anaconda3\\lib\\site-packages (from cffi>=1.14->trio~=0.17->selenium) (2.20)\n",
      "Requirement already satisfied: wsproto>=0.14 in c:\\users\\pravat\\anaconda3\\lib\\site-packages (from trio-websocket~=0.9->selenium) (1.0.0)\n",
      "Requirement already satisfied: cryptography>=1.3.4 in c:\\users\\pravat\\anaconda3\\lib\\site-packages (from urllib3[secure]~=1.26->selenium) (3.4.7)\n",
      "Requirement already satisfied: pyOpenSSL>=0.14 in c:\\users\\pravat\\anaconda3\\lib\\site-packages (from urllib3[secure]~=1.26->selenium) (20.0.1)\n",
      "Requirement already satisfied: certifi in c:\\users\\pravat\\anaconda3\\lib\\site-packages (from urllib3[secure]~=1.26->selenium) (2020.12.5)\n",
      "Requirement already satisfied: six>=1.5.2 in c:\\users\\pravat\\anaconda3\\lib\\site-packages (from pyOpenSSL>=0.14->urllib3[secure]~=1.26->selenium) (1.15.0)\n",
      "Requirement already satisfied: h11<1,>=0.9.0 in c:\\users\\pravat\\anaconda3\\lib\\site-packages (from wsproto>=0.14->trio-websocket~=0.9->selenium) (0.12.0)\n"
     ]
    }
   ],
   "source": [
    "! pip install selenium\n",
    "import selenium \n",
    "import pandas as pd\n",
    "from selenium import webdriver\n",
    "import warnings\n",
    "warnings.filterwarnings(\"ignore\")\n",
    "driver=webdriver.Chrome(r\"C:/Users/pravat/Downloads/chromedriver_win32/chromedriver.exe\")\n",
    "warnings.filterwarnings(\"ignore\")\n"
   ]
  },
  {
   "cell_type": "code",
   "execution_count": 65,
   "id": "e70bb73f",
   "metadata": {},
   "outputs": [],
   "source": [
    "driver.get('https://www.flipkart.com/')\n",
    "search_product = driver.find_element_by_xpath(\"//input[@class='_3704LK']\")\n",
    "search_product.send_keys(\"sunglasses\")"
   ]
  },
  {
   "cell_type": "code",
   "execution_count": null,
   "id": "9ec4105c",
   "metadata": {},
   "outputs": [],
   "source": [
    "url=\"https://www.flipkart.com/search?q=sunglasses&as=on&as-show=on&otracker=AS_Query_OrganicAutoSuggest_3_10_na_na_na&otracker1=AS_Query_OrganicAutoSuggest_3_10_na_na_na&as-pos=3&as-type=RECENT&suggestionId=sunglasses&requestId=2fd26d8d-5e2c-4eff-80b8-ae17c16879e9&as-searchtext=sunglasses\""
   ]
  },
  {
   "cell_type": "code",
   "execution_count": 66,
   "id": "86e736b2",
   "metadata": {},
   "outputs": [],
   "source": [
    "driver.get(url)"
   ]
  },
  {
   "cell_type": "code",
   "execution_count": 67,
   "id": "5e89544e",
   "metadata": {},
   "outputs": [],
   "source": [
    "driver.get(url)\n",
    "brand_title=[]\n",
    "product_desc=[]\n",
    "price_list=[]"
   ]
  },
  {
   "cell_type": "markdown",
   "id": "0d5ea40c",
   "metadata": {},
   "source": [
    "# DESCRIPTION"
   ]
  },
  {
   "cell_type": "code",
   "execution_count": 74,
   "id": "76e42b50",
   "metadata": {},
   "outputs": [
    {
     "data": {
      "text/plain": [
       "[<selenium.webdriver.remote.webelement.WebElement (session=\"81f89f7715716166cd0176c0ca29bac0\", element=\"68f3a9e1-3550-4832-a99c-15c698f2eaeb\")>,\n",
       " <selenium.webdriver.remote.webelement.WebElement (session=\"81f89f7715716166cd0176c0ca29bac0\", element=\"6f7c9fa8-d557-4712-9808-9b6832263c1c\")>,\n",
       " <selenium.webdriver.remote.webelement.WebElement (session=\"81f89f7715716166cd0176c0ca29bac0\", element=\"32cb146f-4acb-4721-ae7f-fc1ebd67ad7c\")>,\n",
       " <selenium.webdriver.remote.webelement.WebElement (session=\"81f89f7715716166cd0176c0ca29bac0\", element=\"e0bf8a10-78d5-4bce-87d7-98a0913c8eba\")>,\n",
       " <selenium.webdriver.remote.webelement.WebElement (session=\"81f89f7715716166cd0176c0ca29bac0\", element=\"7e4f9251-ea06-4a99-8a36-b62f951dcd59\")>,\n",
       " <selenium.webdriver.remote.webelement.WebElement (session=\"81f89f7715716166cd0176c0ca29bac0\", element=\"1fb5f29d-838a-40f3-af26-e65b83b3f526\")>,\n",
       " <selenium.webdriver.remote.webelement.WebElement (session=\"81f89f7715716166cd0176c0ca29bac0\", element=\"b3456652-95a6-41bf-8686-dfb33fc68dd6\")>,\n",
       " <selenium.webdriver.remote.webelement.WebElement (session=\"81f89f7715716166cd0176c0ca29bac0\", element=\"e7f569bd-1109-4e94-a184-ccca3ca63c94\")>,\n",
       " <selenium.webdriver.remote.webelement.WebElement (session=\"81f89f7715716166cd0176c0ca29bac0\", element=\"4dfbeb27-ec8b-438b-bf49-ba97bf2307cc\")>,\n",
       " <selenium.webdriver.remote.webelement.WebElement (session=\"81f89f7715716166cd0176c0ca29bac0\", element=\"aeba670c-8f84-4c88-a84d-e888045ee841\")>,\n",
       " <selenium.webdriver.remote.webelement.WebElement (session=\"81f89f7715716166cd0176c0ca29bac0\", element=\"3d39a2cd-6d07-4f62-aafb-a4ec688b9f18\")>,\n",
       " <selenium.webdriver.remote.webelement.WebElement (session=\"81f89f7715716166cd0176c0ca29bac0\", element=\"97ec839a-2a6b-4300-936e-ba3c47215d63\")>,\n",
       " <selenium.webdriver.remote.webelement.WebElement (session=\"81f89f7715716166cd0176c0ca29bac0\", element=\"8ed0dd13-cf75-49c3-971c-72b19cbd7cad\")>,\n",
       " <selenium.webdriver.remote.webelement.WebElement (session=\"81f89f7715716166cd0176c0ca29bac0\", element=\"0e0b94c3-d721-4006-9cd4-f89e3d5b4f8d\")>,\n",
       " <selenium.webdriver.remote.webelement.WebElement (session=\"81f89f7715716166cd0176c0ca29bac0\", element=\"3be8bba4-598a-47de-8d4a-5e8c6ed79172\")>,\n",
       " <selenium.webdriver.remote.webelement.WebElement (session=\"81f89f7715716166cd0176c0ca29bac0\", element=\"652794d9-89c4-404a-9a5f-60e3e42db281\")>,\n",
       " <selenium.webdriver.remote.webelement.WebElement (session=\"81f89f7715716166cd0176c0ca29bac0\", element=\"b8e3a9f9-bace-498b-b97f-c67d21bef33f\")>,\n",
       " <selenium.webdriver.remote.webelement.WebElement (session=\"81f89f7715716166cd0176c0ca29bac0\", element=\"9b1b7cc6-2e64-46b6-9eae-55cc459ac16d\")>,\n",
       " <selenium.webdriver.remote.webelement.WebElement (session=\"81f89f7715716166cd0176c0ca29bac0\", element=\"1989f5c6-f225-4c27-81c6-5cc65e591bb4\")>,\n",
       " <selenium.webdriver.remote.webelement.WebElement (session=\"81f89f7715716166cd0176c0ca29bac0\", element=\"d23e92c1-2a4e-4dd6-804d-ea1d81e94fc9\")>,\n",
       " <selenium.webdriver.remote.webelement.WebElement (session=\"81f89f7715716166cd0176c0ca29bac0\", element=\"ae98e460-fd2b-4796-80a2-e870832adb8b\")>,\n",
       " <selenium.webdriver.remote.webelement.WebElement (session=\"81f89f7715716166cd0176c0ca29bac0\", element=\"438960a9-112a-436b-a6a5-e6125bb2420d\")>,\n",
       " <selenium.webdriver.remote.webelement.WebElement (session=\"81f89f7715716166cd0176c0ca29bac0\", element=\"f1f090ab-a3de-451b-83f0-5d83f62c2bbc\")>,\n",
       " <selenium.webdriver.remote.webelement.WebElement (session=\"81f89f7715716166cd0176c0ca29bac0\", element=\"6bd45623-38a1-42da-a6bb-ddbb7c679a79\")>,\n",
       " <selenium.webdriver.remote.webelement.WebElement (session=\"81f89f7715716166cd0176c0ca29bac0\", element=\"28e440ca-b4f9-4a5a-8935-32b7a4f6ad9a\")>,\n",
       " <selenium.webdriver.remote.webelement.WebElement (session=\"81f89f7715716166cd0176c0ca29bac0\", element=\"c4bb07a8-29ae-4da0-ae61-cc07ef1e3717\")>,\n",
       " <selenium.webdriver.remote.webelement.WebElement (session=\"81f89f7715716166cd0176c0ca29bac0\", element=\"2ccef516-33d7-40b1-8056-59b745edb7e9\")>,\n",
       " <selenium.webdriver.remote.webelement.WebElement (session=\"81f89f7715716166cd0176c0ca29bac0\", element=\"24aaa2a2-e801-4415-a9c5-eb9668cce27e\")>,\n",
       " <selenium.webdriver.remote.webelement.WebElement (session=\"81f89f7715716166cd0176c0ca29bac0\", element=\"15d5e8dd-fe10-403e-aa22-65c96088cd75\")>,\n",
       " <selenium.webdriver.remote.webelement.WebElement (session=\"81f89f7715716166cd0176c0ca29bac0\", element=\"2402513f-bf6c-4815-990b-9ba1ce49f234\")>,\n",
       " <selenium.webdriver.remote.webelement.WebElement (session=\"81f89f7715716166cd0176c0ca29bac0\", element=\"b6e3eb0a-3c45-4ee6-9c52-e0fba8dea3be\")>,\n",
       " <selenium.webdriver.remote.webelement.WebElement (session=\"81f89f7715716166cd0176c0ca29bac0\", element=\"bcdd1a05-ee35-466d-98ed-bc48e89a17d4\")>,\n",
       " <selenium.webdriver.remote.webelement.WebElement (session=\"81f89f7715716166cd0176c0ca29bac0\", element=\"be77a800-b189-4b10-93d4-a2905f3dd160\")>,\n",
       " <selenium.webdriver.remote.webelement.WebElement (session=\"81f89f7715716166cd0176c0ca29bac0\", element=\"ff11cdab-e7ec-4fa9-b2e7-c7c4756ed74e\")>,\n",
       " <selenium.webdriver.remote.webelement.WebElement (session=\"81f89f7715716166cd0176c0ca29bac0\", element=\"c43d6194-a797-433c-b4a6-3fb69357cdff\")>,\n",
       " <selenium.webdriver.remote.webelement.WebElement (session=\"81f89f7715716166cd0176c0ca29bac0\", element=\"338f62e8-9a60-425c-a377-673a645b3ae4\")>,\n",
       " <selenium.webdriver.remote.webelement.WebElement (session=\"81f89f7715716166cd0176c0ca29bac0\", element=\"86c68f2e-0e5d-4b27-9ca8-cebbfbd2b801\")>,\n",
       " <selenium.webdriver.remote.webelement.WebElement (session=\"81f89f7715716166cd0176c0ca29bac0\", element=\"ddaa5979-8204-4471-be12-474f0d37a278\")>,\n",
       " <selenium.webdriver.remote.webelement.WebElement (session=\"81f89f7715716166cd0176c0ca29bac0\", element=\"f7a9e805-344b-41f7-80b6-bfdb8b46aec5\")>,\n",
       " <selenium.webdriver.remote.webelement.WebElement (session=\"81f89f7715716166cd0176c0ca29bac0\", element=\"e878f238-19ed-422f-bd11-6380a946226c\")>]"
      ]
     },
     "execution_count": 74,
     "metadata": {},
     "output_type": "execute_result"
    }
   ],
   "source": [
    "desc_tags=driver.find_elements_by_xpath(\"//a[@class='_3bPFwb']\")\n",
    "desc_tags[0:100]"
   ]
  },
  {
   "cell_type": "code",
   "execution_count": 73,
   "id": "91799712",
   "metadata": {},
   "outputs": [
    {
     "data": {
      "text/plain": [
       "['₹1,415₹1,99929% off\\nFree delivery',\n",
       " '₹664₹1,99966% off\\nFree delivery',\n",
       " '₹188₹1,29985% off',\n",
       " '₹248₹2,49590% off',\n",
       " '₹259₹1,99987% off',\n",
       " '₹200₹1,59987% off',\n",
       " '₹699₹89922% off\\nFree delivery',\n",
       " '₹664₹1,99966% off\\nFree delivery',\n",
       " '₹274₹1,99986% off',\n",
       " '₹187₹1,59988% off',\n",
       " '₹189₹1,09982% off',\n",
       " '₹759₹1,99962% off\\nFree delivery',\n",
       " '₹170₹1,69989% off',\n",
       " '₹179₹1,59988% off',\n",
       " '₹383₹1,99980% off',\n",
       " '₹664₹1,99966% off\\nFree delivery',\n",
       " '₹187₹1,19984% off',\n",
       " '₹359₹1,49976% off',\n",
       " '₹474₹2,22578% off',\n",
       " '₹426₹1,99578% off',\n",
       " '₹271₹1,69984% off',\n",
       " '₹449₹1,49970% off',\n",
       " '₹259₹1,39981% off',\n",
       " '₹759₹1,99962% off\\nFree delivery',\n",
       " '₹426₹2,66584% off',\n",
       " '₹319₹1,99984% off',\n",
       " '₹187₹1,59988% off',\n",
       " '₹664₹1,99966% off\\nFree delivery',\n",
       " '₹181₹99981% off',\n",
       " '₹187₹1,59988% off',\n",
       " '₹194₹1,49987% off',\n",
       " '₹999₹2,50060% off\\nFree delivery',\n",
       " '₹299₹1,99985% off',\n",
       " '₹299₹2,59988% off',\n",
       " '₹175₹49964% off',\n",
       " '₹759₹1,99962% off\\nFree delivery',\n",
       " '₹196₹1,14982% off',\n",
       " '₹163₹49967% off',\n",
       " '₹287₹1,89984% off',\n",
       " '₹999₹1,99950% off\\nFree delivery',\n",
       " '₹1,415₹1,99929% off\\nFree delivery',\n",
       " '₹664₹1,99966% off\\nFree delivery',\n",
       " '₹188₹1,29985% off',\n",
       " '₹248₹2,49590% off',\n",
       " '₹259₹1,99987% off',\n",
       " '₹200₹1,59987% off',\n",
       " '₹699₹89922% off\\nFree delivery',\n",
       " '₹664₹1,99966% off\\nFree delivery',\n",
       " '₹274₹1,99986% off',\n",
       " '₹187₹1,59988% off',\n",
       " '₹189₹1,09982% off',\n",
       " '₹759₹1,99962% off\\nFree delivery',\n",
       " '₹170₹1,69989% off',\n",
       " '₹179₹1,59988% off',\n",
       " '₹383₹1,99980% off',\n",
       " '₹664₹1,99966% off\\nFree delivery',\n",
       " '₹187₹1,19984% off',\n",
       " '₹359₹1,49976% off',\n",
       " '₹474₹2,22578% off',\n",
       " '₹426₹1,99578% off',\n",
       " '₹271₹1,69984% off',\n",
       " '₹449₹1,49970% off',\n",
       " '₹259₹1,39981% off',\n",
       " '₹759₹1,99962% off\\nFree delivery',\n",
       " '₹426₹2,66584% off',\n",
       " '₹319₹1,99984% off',\n",
       " '₹187₹1,59988% off',\n",
       " '₹664₹1,99966% off\\nFree delivery',\n",
       " '₹181₹99981% off',\n",
       " '₹187₹1,59988% off',\n",
       " '₹194₹1,49987% off',\n",
       " '₹999₹2,50060% off\\nFree delivery',\n",
       " '₹299₹1,99985% off',\n",
       " '₹299₹2,59988% off',\n",
       " '₹175₹49964% off',\n",
       " '₹759₹1,99962% off\\nFree delivery',\n",
       " '₹196₹1,14982% off',\n",
       " '₹163₹49967% off',\n",
       " '₹287₹1,89984% off',\n",
       " '₹999₹1,99950% off\\nFree delivery',\n",
       " 'VINCENT CHASE\\nby Lenskart Polarized, UV Protection Wayfarer Sunglasse...\\n₹1,415₹1,99929% off\\nSize Free Size',\n",
       " 'ROYAL SON\\nUV Protection Round Sunglasses (54)\\n₹664₹1,99966% off\\nFree delivery',\n",
       " 'SRPM\\nUV Protection Wayfarer Sunglasses (56)\\n₹188₹1,29985% off',\n",
       " 'Elligator\\nUV Protection Round Sunglasses (54)\\n₹248₹2,49590% off',\n",
       " 'New Specs\\nUV Protection Rectangular Sunglasses (Free Size)\\n₹259₹1,99987% off\\nSize Free Size',\n",
       " 'PIRASO\\nUV Protection Aviator Sunglasses (54)\\n₹200₹1,59987% off\\nSize Small, Medium',\n",
       " 'Fastrack\\nUV Protection Wayfarer Sunglasses (Free Size)\\n₹699₹89922% off\\nFree delivery',\n",
       " 'ROYAL SON\\nUV Protection Retro Square Sunglasses (49)\\n₹664₹1,99966% off\\nFree delivery',\n",
       " 'kingsunglasses\\nMirrored, UV Protection Wayfarer Sunglasses (53)\\n₹274₹1,99986% off',\n",
       " 'PIRASO\\nUV Protection Aviator Sunglasses (54)\\n₹187₹1,59988% off',\n",
       " 'kingsunglasses\\nUV Protection Round Sunglasses (54)\\n₹189₹1,09982% off',\n",
       " 'ROYAL SON\\nPolarized, UV Protection Aviator Sunglasses (58)\\n₹759₹1,99962% off\\nFree delivery',\n",
       " 'SHAAH COLLECTIONS\\nUV Protection, Polarized, Mirrored Rectangular Sunglass...\\n₹170₹1,69989% off',\n",
       " 'PIRASO\\nUV Protection Aviator Sunglasses (55)\\n₹179₹1,59988% off',\n",
       " 'ROZZETTA CRAFT\\nUV Protection, Gradient Rectangular Sunglasses (Free Si...\\n₹383₹1,99980% off',\n",
       " 'ROYAL SON\\nUV Protection, Gradient Butterfly Sunglasses (60)\\n₹664₹1,99966% off\\nFree delivery',\n",
       " 'kingsunglasses\\nUV Protection, Riding Glasses, Mirrored Wayfarer Sungla...\\n₹187₹1,19984% off',\n",
       " 'ROYAL SON\\nMirrored Aviator Sunglasses (55)\\n₹359₹1,49976% off',\n",
       " 'ROZZETTA CRAFT\\nUV Protection Retro Square Sunglasses (Free Size)\\n₹474₹2,22578% off',\n",
       " 'ROZZETTA CRAFT\\nGradient, UV Protection Round Sunglasses (Free Size)\\n₹426₹1,99578% off']"
      ]
     },
     "execution_count": 73,
     "metadata": {},
     "output_type": "execute_result"
    }
   ],
   "source": [
    "for i in desc_tags:\n",
    "    desc=i.text\n",
    "    product_desc.append(desc)\n",
    "product_desc[0:100]"
   ]
  },
  {
   "cell_type": "markdown",
   "id": "8def67bb",
   "metadata": {},
   "source": [
    "Q5.Scrape 100 reviews data from flipkart.com for iphone11 phone. You have to go the link: https://www.flipkart.com/apple-iphone-11-black-64-gb-includes- earpods-power- adapter/p/itm0f37c2240b217?pid=MOBFKCTSVZAXUHGR&lid=LSTMOBFKC TSVZAXUHGREPBFGI&marketplace. \n",
    "When you will open the above link you will reach to the below shown webpage . \n",
    " \n",
    " \n",
    "As shown in the above page you have to scrape the tick marked attributes. These are: \n",
    "1.\tRating \n",
    "2.\tReview_summary \n",
    "3.\tFull review \n",
    "4.\tYou have to scrape this data for first 100 reviews. \n",
    "Note: All the steps required during scraping should be done through code only and not manually.\n"
   ]
  },
  {
   "cell_type": "code",
   "execution_count": 76,
   "id": "ce967e6c",
   "metadata": {},
   "outputs": [
    {
     "name": "stdout",
     "output_type": "stream",
     "text": [
      "Requirement already satisfied: selenium in c:\\users\\pravat\\anaconda3\\lib\\site-packages (4.1.0)\n",
      "Requirement already satisfied: urllib3[secure]~=1.26 in c:\\users\\pravat\\anaconda3\\lib\\site-packages (from selenium) (1.26.4)\n",
      "Requirement already satisfied: trio-websocket~=0.9 in c:\\users\\pravat\\anaconda3\\lib\\site-packages (from selenium) (0.9.2)\n",
      "Requirement already satisfied: trio~=0.17 in c:\\users\\pravat\\anaconda3\\lib\\site-packages (from selenium) (0.19.0)\n",
      "Requirement already satisfied: sniffio in c:\\users\\pravat\\anaconda3\\lib\\site-packages (from trio~=0.17->selenium) (1.2.0)\n",
      "Requirement already satisfied: outcome in c:\\users\\pravat\\anaconda3\\lib\\site-packages (from trio~=0.17->selenium) (1.1.0)\n",
      "Requirement already satisfied: cffi>=1.14 in c:\\users\\pravat\\anaconda3\\lib\\site-packages (from trio~=0.17->selenium) (1.14.5)\n",
      "Requirement already satisfied: idna in c:\\users\\pravat\\anaconda3\\lib\\site-packages (from trio~=0.17->selenium) (2.10)\n",
      "Requirement already satisfied: async-generator>=1.9 in c:\\users\\pravat\\anaconda3\\lib\\site-packages (from trio~=0.17->selenium) (1.10)\n",
      "Requirement already satisfied: attrs>=19.2.0 in c:\\users\\pravat\\anaconda3\\lib\\site-packages (from trio~=0.17->selenium) (20.3.0)\n",
      "Requirement already satisfied: sortedcontainers in c:\\users\\pravat\\anaconda3\\lib\\site-packages (from trio~=0.17->selenium) (2.3.0)\n",
      "Requirement already satisfied: pycparser in c:\\users\\pravat\\anaconda3\\lib\\site-packages (from cffi>=1.14->trio~=0.17->selenium) (2.20)\n",
      "Requirement already satisfied: wsproto>=0.14 in c:\\users\\pravat\\anaconda3\\lib\\site-packages (from trio-websocket~=0.9->selenium) (1.0.0)\n",
      "Requirement already satisfied: certifi in c:\\users\\pravat\\anaconda3\\lib\\site-packages (from urllib3[secure]~=1.26->selenium) (2020.12.5)\n",
      "Requirement already satisfied: cryptography>=1.3.4 in c:\\users\\pravat\\anaconda3\\lib\\site-packages (from urllib3[secure]~=1.26->selenium) (3.4.7)\n",
      "Requirement already satisfied: pyOpenSSL>=0.14 in c:\\users\\pravat\\anaconda3\\lib\\site-packages (from urllib3[secure]~=1.26->selenium) (20.0.1)\n",
      "Requirement already satisfied: six>=1.5.2 in c:\\users\\pravat\\anaconda3\\lib\\site-packages (from pyOpenSSL>=0.14->urllib3[secure]~=1.26->selenium) (1.15.0)\n",
      "Requirement already satisfied: h11<1,>=0.9.0 in c:\\users\\pravat\\anaconda3\\lib\\site-packages (from wsproto>=0.14->trio-websocket~=0.9->selenium) (0.12.0)\n"
     ]
    }
   ],
   "source": [
    "! pip install selenium\n",
    "import selenium \n",
    "import pandas as pd\n",
    "from selenium import webdriver\n",
    "import warnings\n",
    "warnings.filterwarnings(\"ignore\")\n",
    "driver=webdriver.Chrome(r\"C:/Users/pravat/Downloads/chromedriver_win32/chromedriver.exe\")\n",
    "warnings.filterwarnings(\"ignore\")\n",
    "driver.get('https://www.flipkart.com/')"
   ]
  },
  {
   "cell_type": "code",
   "execution_count": 79,
   "id": "a1c6f6e5",
   "metadata": {},
   "outputs": [],
   "source": [
    "search_product = driver.find_element_by_xpath(\"//input[@class='_3704LK']\")\n",
    "search_product.send_keys(\"iphone11\")\n"
   ]
  },
  {
   "cell_type": "code",
   "execution_count": 81,
   "id": "3f702454",
   "metadata": {},
   "outputs": [],
   "source": [
    "search_btn = driver.find_element_by_xpath(\"//button[@class='L0Z3Pu']\")\n",
    "search_btn.click()"
   ]
  },
  {
   "cell_type": "code",
   "execution_count": 82,
   "id": "8afe65ee",
   "metadata": {},
   "outputs": [],
   "source": [
    "url=\"https://www.flipkart.com/apple-iphone-11-black-64-gb-includes- earpods-power- adapter/p/itm0f37c2240b217?pid=MOBFKCTSVZAXUHGR&lid=LSTMOBFKC TSVZAXUHGREPBFGI&marketplace\""
   ]
  },
  {
   "cell_type": "code",
   "execution_count": 83,
   "id": "f6ee7daa",
   "metadata": {},
   "outputs": [],
   "source": [
    "driver.get(url)"
   ]
  },
  {
   "cell_type": "code",
   "execution_count": 84,
   "id": "e0859329",
   "metadata": {},
   "outputs": [],
   "source": [
    "product_clsss= '_4rR01T'\n",
    "next_button=driver.find_element_by_xpath(\"//input[@class='_3704LK']\")"
   ]
  },
  {
   "cell_type": "code",
   "execution_count": 85,
   "id": "c4f8cf45",
   "metadata": {},
   "outputs": [
    {
     "name": "stdout",
     "output_type": "stream",
     "text": [
      "Scraping page  1\n"
     ]
    },
    {
     "ename": "TypeError",
     "evalue": "'WebElement' object is not iterable",
     "output_type": "error",
     "traceback": [
      "\u001b[1;31m---------------------------------------------------------------------------\u001b[0m",
      "\u001b[1;31mTypeError\u001b[0m                                 Traceback (most recent call last)",
      "\u001b[1;32m<ipython-input-85-befd2be32a42>\u001b[0m in \u001b[0;36m<module>\u001b[1;34m\u001b[0m\n\u001b[0;32m      3\u001b[0m     \u001b[0mprint\u001b[0m\u001b[1;33m(\u001b[0m\u001b[1;34m'Scraping page '\u001b[0m\u001b[1;33m,\u001b[0m \u001b[0mi\u001b[0m\u001b[1;33m+\u001b[0m\u001b[1;36m1\u001b[0m\u001b[1;33m)\u001b[0m\u001b[1;33m\u001b[0m\u001b[1;33m\u001b[0m\u001b[0m\n\u001b[0;32m      4\u001b[0m     \u001b[0mproduct\u001b[0m\u001b[1;33m=\u001b[0m\u001b[0mdriver\u001b[0m\u001b[1;33m.\u001b[0m\u001b[0mfind_element_by_xpath\u001b[0m\u001b[1;33m(\u001b[0m\u001b[1;34m\"//span[@class='B_NuCI']\"\u001b[0m\u001b[1;33m)\u001b[0m\u001b[1;33m\u001b[0m\u001b[1;33m\u001b[0m\u001b[0m\n\u001b[1;32m----> 5\u001b[1;33m     \u001b[1;32mfor\u001b[0m \u001b[0mp\u001b[0m \u001b[1;32min\u001b[0m \u001b[0mproduct\u001b[0m\u001b[1;33m:\u001b[0m\u001b[1;33m\u001b[0m\u001b[1;33m\u001b[0m\u001b[0m\n\u001b[0m\u001b[0;32m      6\u001b[0m         \u001b[0mproducts\u001b[0m\u001b[1;33m.\u001b[0m\u001b[0mappend\u001b[0m\u001b[1;33m(\u001b[0m\u001b[0mp\u001b[0m\u001b[1;33m.\u001b[0m\u001b[0mtext\u001b[0m\u001b[1;33m)\u001b[0m\u001b[1;33m\u001b[0m\u001b[1;33m\u001b[0m\u001b[0m\n\u001b[0;32m      7\u001b[0m     \u001b[0mnext_button\u001b[0m \u001b[1;33m=\u001b[0m \u001b[0mbrowser\u001b[0m\u001b[1;33m.\u001b[0m\u001b[0mfind_element_by_xpath\u001b[0m\u001b[1;33m(\u001b[0m\u001b[1;34m\"//div[@class='_1AtVbE col-12-12']/div\"\u001b[0m\u001b[1;33m)\u001b[0m\u001b[1;33m\u001b[0m\u001b[1;33m\u001b[0m\u001b[0m\n",
      "\u001b[1;31mTypeError\u001b[0m: 'WebElement' object is not iterable"
     ]
    }
   ],
   "source": [
    "products = []\n",
    "for i in range (10):\n",
    "    print('Scraping page ', i+1)\n",
    "    product=driver.find_element_by_xpath(\"//span[@class='B_NuCI']\")\n",
    "    for p in product:\n",
    "        products.append(p.text)\n",
    "    next_button = browser.find_element_by_xpath(\"//div[@class='_1AtVbE col-12-12']/div\")\n",
    "    next_button.click()\n",
    "    sleep(1)\n"
   ]
  },
  {
   "cell_type": "markdown",
   "id": "0c550835",
   "metadata": {},
   "source": [
    "# RE - WORKING ON Q5\n",
    "Q5.Scrape 100 reviews data from flipkart.com for iphone11 phone. You have to go the link: https://www.flipkart.com/apple-iphone-11-black-64-gb-includes- earpods-power- adapter/p/itm0f37c2240b217?pid=MOBFKCTSVZAXUHGR&lid=LSTMOBFKC TSVZAXUHGREPBFGI&marketplace. \n",
    "When you will open the above link you will reach to the below shown webpage . \n",
    " \n",
    " \n",
    "As shown in the above page you have to scrape the tick marked attributes. These are: \n",
    "1.\tRating \n",
    "2.\tReview_summary \n",
    "3.\tFull review \n",
    "4.\tYou have to scrape this data for first 100 reviews. \n",
    "Note: All the steps required during scraping should be done through code only and not manually.\n"
   ]
  },
  {
   "cell_type": "code",
   "execution_count": 115,
   "id": "b192a629",
   "metadata": {},
   "outputs": [
    {
     "name": "stdout",
     "output_type": "stream",
     "text": [
      "Requirement already satisfied: selenium in c:\\users\\pravat\\anaconda3\\lib\\site-packages (4.1.0)\n",
      "Requirement already satisfied: urllib3[secure]~=1.26 in c:\\users\\pravat\\anaconda3\\lib\\site-packages (from selenium) (1.26.4)\n",
      "Requirement already satisfied: trio-websocket~=0.9 in c:\\users\\pravat\\anaconda3\\lib\\site-packages (from selenium) (0.9.2)\n",
      "Requirement already satisfied: trio~=0.17 in c:\\users\\pravat\\anaconda3\\lib\\site-packages (from selenium) (0.19.0)\n",
      "Requirement already satisfied: idna in c:\\users\\pravat\\anaconda3\\lib\\site-packages (from trio~=0.17->selenium) (2.10)\n",
      "Requirement already satisfied: outcome in c:\\users\\pravat\\anaconda3\\lib\\site-packages (from trio~=0.17->selenium) (1.1.0)\n",
      "Requirement already satisfied: attrs>=19.2.0 in c:\\users\\pravat\\anaconda3\\lib\\site-packages (from trio~=0.17->selenium) (20.3.0)\n",
      "Requirement already satisfied: sniffio in c:\\users\\pravat\\anaconda3\\lib\\site-packages (from trio~=0.17->selenium) (1.2.0)\n",
      "Requirement already satisfied: cffi>=1.14 in c:\\users\\pravat\\anaconda3\\lib\\site-packages (from trio~=0.17->selenium) (1.14.5)\n",
      "Requirement already satisfied: sortedcontainers in c:\\users\\pravat\\anaconda3\\lib\\site-packages (from trio~=0.17->selenium) (2.3.0)\n",
      "Requirement already satisfied: async-generator>=1.9 in c:\\users\\pravat\\anaconda3\\lib\\site-packages (from trio~=0.17->selenium) (1.10)\n",
      "Requirement already satisfied: pycparser in c:\\users\\pravat\\anaconda3\\lib\\site-packages (from cffi>=1.14->trio~=0.17->selenium) (2.20)\n",
      "Requirement already satisfied: wsproto>=0.14 in c:\\users\\pravat\\anaconda3\\lib\\site-packages (from trio-websocket~=0.9->selenium) (1.0.0)\n",
      "Requirement already satisfied: pyOpenSSL>=0.14 in c:\\users\\pravat\\anaconda3\\lib\\site-packages (from urllib3[secure]~=1.26->selenium) (20.0.1)\n",
      "Requirement already satisfied: cryptography>=1.3.4 in c:\\users\\pravat\\anaconda3\\lib\\site-packages (from urllib3[secure]~=1.26->selenium) (3.4.7)\n",
      "Requirement already satisfied: certifi in c:\\users\\pravat\\anaconda3\\lib\\site-packages (from urllib3[secure]~=1.26->selenium) (2020.12.5)\n",
      "Requirement already satisfied: six>=1.5.2 in c:\\users\\pravat\\anaconda3\\lib\\site-packages (from pyOpenSSL>=0.14->urllib3[secure]~=1.26->selenium) (1.15.0)\n",
      "Requirement already satisfied: h11<1,>=0.9.0 in c:\\users\\pravat\\anaconda3\\lib\\site-packages (from wsproto>=0.14->trio-websocket~=0.9->selenium) (0.12.0)\n"
     ]
    }
   ],
   "source": [
    "! pip install selenium\n",
    "import selenium \n",
    "import pandas as pd\n",
    "from selenium import webdriver\n",
    "import warnings\n",
    "warnings.filterwarnings(\"ignore\")\n"
   ]
  },
  {
   "cell_type": "code",
   "execution_count": 116,
   "id": "de6b5818",
   "metadata": {},
   "outputs": [],
   "source": [
    "driver=webdriver.Chrome(r\"C:/Users/pravat/Downloads/chromedriver_win32/chromedriver.exe\")\n",
    "warnings.filterwarnings(\"ignore\")"
   ]
  },
  {
   "cell_type": "code",
   "execution_count": 117,
   "id": "7ce62a6c",
   "metadata": {},
   "outputs": [],
   "source": [
    "driver.get('https://www.flipkart.com/')"
   ]
  },
  {
   "cell_type": "code",
   "execution_count": 118,
   "id": "6beac463",
   "metadata": {},
   "outputs": [],
   "source": [
    "search_product = driver.find_element_by_xpath(\"//input[@class='_3704LK']\")\n",
    "search_product.send_keys(\"iphone11\")"
   ]
  },
  {
   "cell_type": "code",
   "execution_count": 119,
   "id": "5d290e19",
   "metadata": {},
   "outputs": [],
   "source": [
    "url=\"https://www.flipkart.com/apple-iphone-11-black-64-gb-includes- earpods-power- adapter/p/itm0f37c2240b217?pid=MOBFKCTSVZAXUHGR&lid=LSTMOBFKC TSVZAXUHGREPBFGI&marketplace\""
   ]
  },
  {
   "cell_type": "code",
   "execution_count": 120,
   "id": "2a25bb40",
   "metadata": {},
   "outputs": [],
   "source": [
    "driver.get(url)"
   ]
  },
  {
   "cell_type": "code",
   "execution_count": 121,
   "id": "a5113068",
   "metadata": {},
   "outputs": [],
   "source": [
    "rating_iphone=[]\n",
    "review_iphone=[]\n",
    "fullreview_iphone=[]"
   ]
  },
  {
   "cell_type": "markdown",
   "id": "0a23fb78",
   "metadata": {},
   "source": [
    "# PRODUCT RATING"
   ]
  },
  {
   "cell_type": "code",
   "execution_count": 132,
   "id": "b72580e5",
   "metadata": {},
   "outputs": [
    {
     "data": {
      "text/plain": [
       "[<selenium.webdriver.remote.webelement.WebElement (session=\"d6509417eb7861f62d0531d666f28fd8\", element=\"3e5a6e6f-322b-4aea-8874-cc76fe9d7c9c\")>]"
      ]
     },
     "execution_count": 132,
     "metadata": {},
     "output_type": "execute_result"
    }
   ],
   "source": [
    "rating_tags=driver.find_elements_by_xpath(\"//span[@class='_1lRcqv']\")\n",
    "rating_tags[0:100]"
   ]
  },
  {
   "cell_type": "code",
   "execution_count": 131,
   "id": "b9b4d255",
   "metadata": {},
   "outputs": [
    {
     "data": {
      "text/plain": [
       "['4.6', '4.6', '4.6', '4.6', '4.6', '4.6']"
      ]
     },
     "execution_count": 131,
     "metadata": {},
     "output_type": "execute_result"
    }
   ],
   "source": [
    "for i in rating_tags:\n",
    "    rating=i.text\n",
    "    rating_iphone.append(rating)\n",
    "rating_iphone[0:100]"
   ]
  },
  {
   "cell_type": "markdown",
   "id": "33366fa3",
   "metadata": {},
   "source": [
    "# PRODUCT REVIEW"
   ]
  },
  {
   "cell_type": "code",
   "execution_count": 129,
   "id": "6243016b",
   "metadata": {},
   "outputs": [
    {
     "data": {
      "text/plain": [
       "[<selenium.webdriver.remote.webelement.WebElement (session=\"d6509417eb7861f62d0531d666f28fd8\", element=\"a1e66fec-3105-480e-9529-894220143531\")>,\n",
       " <selenium.webdriver.remote.webelement.WebElement (session=\"d6509417eb7861f62d0531d666f28fd8\", element=\"0437f3bf-c7e2-47c4-9e00-cb3c884793ff\")>,\n",
       " <selenium.webdriver.remote.webelement.WebElement (session=\"d6509417eb7861f62d0531d666f28fd8\", element=\"48152229-ab82-45e5-b9cf-e225f7db74f4\")>,\n",
       " <selenium.webdriver.remote.webelement.WebElement (session=\"d6509417eb7861f62d0531d666f28fd8\", element=\"644bd97e-72e5-4e98-8b47-e38959c0419e\")>,\n",
       " <selenium.webdriver.remote.webelement.WebElement (session=\"d6509417eb7861f62d0531d666f28fd8\", element=\"b0f8209b-8b02-4bd2-9c6f-f586c09fc641\")>,\n",
       " <selenium.webdriver.remote.webelement.WebElement (session=\"d6509417eb7861f62d0531d666f28fd8\", element=\"8ddda871-11e7-4822-9f52-4c4ffd3d1e22\")>,\n",
       " <selenium.webdriver.remote.webelement.WebElement (session=\"d6509417eb7861f62d0531d666f28fd8\", element=\"ec68ed3d-167c-4377-960c-7bce159acd2b\")>,\n",
       " <selenium.webdriver.remote.webelement.WebElement (session=\"d6509417eb7861f62d0531d666f28fd8\", element=\"031097ab-bac4-46e3-aca2-0a0e064f80bb\")>,\n",
       " <selenium.webdriver.remote.webelement.WebElement (session=\"d6509417eb7861f62d0531d666f28fd8\", element=\"ae87a1cc-0e34-4971-b2e2-462742752ded\")>,\n",
       " <selenium.webdriver.remote.webelement.WebElement (session=\"d6509417eb7861f62d0531d666f28fd8\", element=\"8a17538b-e550-48a2-bc64-e2a1510fc13a\")>]"
      ]
     },
     "execution_count": 129,
     "metadata": {},
     "output_type": "execute_result"
    }
   ],
   "source": [
    "review_tags=driver.find_elements_by_xpath(\"//div[@class='t-ZTKy']\")\n",
    "review_tags[0:100]"
   ]
  },
  {
   "cell_type": "code",
   "execution_count": 133,
   "id": "cbdace65",
   "metadata": {},
   "outputs": [
    {
     "data": {
      "text/plain": [
       "[<selenium.webdriver.remote.webelement.WebElement (session=\"d6509417eb7861f62d0531d666f28fd8\", element=\"a1e66fec-3105-480e-9529-894220143531\")>,\n",
       " <selenium.webdriver.remote.webelement.WebElement (session=\"d6509417eb7861f62d0531d666f28fd8\", element=\"0437f3bf-c7e2-47c4-9e00-cb3c884793ff\")>,\n",
       " <selenium.webdriver.remote.webelement.WebElement (session=\"d6509417eb7861f62d0531d666f28fd8\", element=\"48152229-ab82-45e5-b9cf-e225f7db74f4\")>,\n",
       " <selenium.webdriver.remote.webelement.WebElement (session=\"d6509417eb7861f62d0531d666f28fd8\", element=\"644bd97e-72e5-4e98-8b47-e38959c0419e\")>,\n",
       " <selenium.webdriver.remote.webelement.WebElement (session=\"d6509417eb7861f62d0531d666f28fd8\", element=\"b0f8209b-8b02-4bd2-9c6f-f586c09fc641\")>,\n",
       " <selenium.webdriver.remote.webelement.WebElement (session=\"d6509417eb7861f62d0531d666f28fd8\", element=\"8ddda871-11e7-4822-9f52-4c4ffd3d1e22\")>,\n",
       " <selenium.webdriver.remote.webelement.WebElement (session=\"d6509417eb7861f62d0531d666f28fd8\", element=\"ec68ed3d-167c-4377-960c-7bce159acd2b\")>,\n",
       " <selenium.webdriver.remote.webelement.WebElement (session=\"d6509417eb7861f62d0531d666f28fd8\", element=\"031097ab-bac4-46e3-aca2-0a0e064f80bb\")>,\n",
       " <selenium.webdriver.remote.webelement.WebElement (session=\"d6509417eb7861f62d0531d666f28fd8\", element=\"ae87a1cc-0e34-4971-b2e2-462742752ded\")>,\n",
       " <selenium.webdriver.remote.webelement.WebElement (session=\"d6509417eb7861f62d0531d666f28fd8\", element=\"8a17538b-e550-48a2-bc64-e2a1510fc13a\")>]"
      ]
     },
     "execution_count": 133,
     "metadata": {},
     "output_type": "execute_result"
    }
   ],
   "source": [
    "review_tags=driver.find_elements_by_xpath(\"//div[@t-ZTKyt-ZTKy='t-ZTKy']\")\n",
    "review_tags[0:100]"
   ]
  },
  {
   "cell_type": "code",
   "execution_count": 134,
   "id": "1fbd0b0b",
   "metadata": {},
   "outputs": [
    {
     "data": {
      "text/plain": [
       "['The Best Phone for the Money\\n\\nThe iPhone 11 offers superb cameras, a more durable design and excellent battery life for an affordable price.\\n\\nCompelling ultra-wide camera\\nNew Night mode is excellent\\nLong battery life',\n",
       " 'Really satisfied with the Product I received... It’s totally genuine and the packaging was also really good so if ur planning to buy just go for it.',\n",
       " 'Great iPhone very snappy experience as apple kind. Upgraded from iPhone 7.\\nPros\\n-Camera top class\\n- Battery top performed\\n-Chipset no need to say as apple kind\\n-Security as you expect from apple\\n- Display super bright industry leading colour\\naccuracy and super responsive\\n-Build quality as expect from apple sturdy\\npremium durable beautiful stylish.\\n-Os most stable os in smartphone industry\\n\\nCons\\n-No 5G\\n-Display is not based on OLED technology\\n-Charger headphones and 1 apple stic...\\nREAD MORE',\n",
       " '',\n",
       " '',\n",
       " '',\n",
       " '',\n",
       " '',\n",
       " '',\n",
       " '']"
      ]
     },
     "execution_count": 134,
     "metadata": {},
     "output_type": "execute_result"
    }
   ],
   "source": [
    "for i in review_tags:\n",
    "    review=i.text\n",
    "    review_iphone.append(review)\n",
    "review_iphone[0:100]"
   ]
  },
  {
   "cell_type": "code",
   "execution_count": 141,
   "id": "ff58c340",
   "metadata": {},
   "outputs": [
    {
     "data": {
      "text/plain": [
       "[<selenium.webdriver.remote.webelement.WebElement (session=\"d6509417eb7861f62d0531d666f28fd8\", element=\"a1e66fec-3105-480e-9529-894220143531\")>,\n",
       " <selenium.webdriver.remote.webelement.WebElement (session=\"d6509417eb7861f62d0531d666f28fd8\", element=\"0437f3bf-c7e2-47c4-9e00-cb3c884793ff\")>,\n",
       " <selenium.webdriver.remote.webelement.WebElement (session=\"d6509417eb7861f62d0531d666f28fd8\", element=\"48152229-ab82-45e5-b9cf-e225f7db74f4\")>,\n",
       " <selenium.webdriver.remote.webelement.WebElement (session=\"d6509417eb7861f62d0531d666f28fd8\", element=\"644bd97e-72e5-4e98-8b47-e38959c0419e\")>,\n",
       " <selenium.webdriver.remote.webelement.WebElement (session=\"d6509417eb7861f62d0531d666f28fd8\", element=\"b0f8209b-8b02-4bd2-9c6f-f586c09fc641\")>,\n",
       " <selenium.webdriver.remote.webelement.WebElement (session=\"d6509417eb7861f62d0531d666f28fd8\", element=\"8ddda871-11e7-4822-9f52-4c4ffd3d1e22\")>,\n",
       " <selenium.webdriver.remote.webelement.WebElement (session=\"d6509417eb7861f62d0531d666f28fd8\", element=\"ec68ed3d-167c-4377-960c-7bce159acd2b\")>,\n",
       " <selenium.webdriver.remote.webelement.WebElement (session=\"d6509417eb7861f62d0531d666f28fd8\", element=\"031097ab-bac4-46e3-aca2-0a0e064f80bb\")>,\n",
       " <selenium.webdriver.remote.webelement.WebElement (session=\"d6509417eb7861f62d0531d666f28fd8\", element=\"ae87a1cc-0e34-4971-b2e2-462742752ded\")>,\n",
       " <selenium.webdriver.remote.webelement.WebElement (session=\"d6509417eb7861f62d0531d666f28fd8\", element=\"8a17538b-e550-48a2-bc64-e2a1510fc13a\")>]"
      ]
     },
     "execution_count": 141,
     "metadata": {},
     "output_type": "execute_result"
    }
   ],
   "source": [
    "fullreview_tags=driver.find_elements_by_xpath(\"//div[@class='t-ZTKy']\")\n",
    "fullreview_tags[0:100]"
   ]
  },
  {
   "cell_type": "code",
   "execution_count": 142,
   "id": "ed53510b",
   "metadata": {},
   "outputs": [
    {
     "data": {
      "text/plain": [
       "['The Best Phone for the Money\\n\\nThe iPhone 11 offers superb cameras, a more durable design and excellent battery life for an affordable price.\\n\\nCompelling ultra-wide camera\\nNew Night mode is excellent\\nLong battery life',\n",
       " 'Really satisfied with the Product I received... It’s totally genuine and the packaging was also really good so if ur planning to buy just go for it.',\n",
       " 'Great iPhone very snappy experience as apple kind. Upgraded from iPhone 7.\\nPros\\n-Camera top class\\n- Battery top performed\\n-Chipset no need to say as apple kind\\n-Security as you expect from apple\\n- Display super bright industry leading colour\\naccuracy and super responsive\\n-Build quality as expect from apple sturdy\\npremium durable beautiful stylish.\\n-Os most stable os in smartphone industry\\n\\nCons\\n-No 5G\\n-Display is not based on OLED technology\\n-Charger headphones and 1 apple stic...\\nREAD MORE',\n",
       " '',\n",
       " '',\n",
       " '',\n",
       " '',\n",
       " '',\n",
       " '',\n",
       " '']"
      ]
     },
     "execution_count": 142,
     "metadata": {},
     "output_type": "execute_result"
    }
   ],
   "source": [
    "for i in fullreview_tags:\n",
    "    freview=i.text\n",
    "    fullreview_iphone.append(freview)\n",
    "fullreview_iphone[0:100]"
   ]
  },
  {
   "cell_type": "markdown",
   "id": "ee314805",
   "metadata": {},
   "source": [
    "Q6 Scrape data for first 100 sneakers you find when you visit flipkart.com and search for “sneakers” in the search field. \n",
    "You have to scrape 4 attributes of each sneaker: \n",
    "1.\tBrand \n",
    "2.\tProduct Description \n",
    "3.\tPrice \n",
    "As shown in the below image, you have to scrape the tick marked attributes. \n",
    " \n",
    " \n",
    "Note: All the steps required during scraping should be done through code only and not manually.\n"
   ]
  },
  {
   "cell_type": "code",
   "execution_count": 143,
   "id": "e6b2ba44",
   "metadata": {},
   "outputs": [
    {
     "name": "stdout",
     "output_type": "stream",
     "text": [
      "Requirement already satisfied: selenium in c:\\users\\pravat\\anaconda3\\lib\\site-packages (4.1.0)\n",
      "Requirement already satisfied: trio-websocket~=0.9 in c:\\users\\pravat\\anaconda3\\lib\\site-packages (from selenium) (0.9.2)\n",
      "Requirement already satisfied: urllib3[secure]~=1.26 in c:\\users\\pravat\\anaconda3\\lib\\site-packages (from selenium) (1.26.4)\n",
      "Requirement already satisfied: trio~=0.17 in c:\\users\\pravat\\anaconda3\\lib\\site-packages (from selenium) (0.19.0)\n",
      "Requirement already satisfied: outcome in c:\\users\\pravat\\anaconda3\\lib\\site-packages (from trio~=0.17->selenium) (1.1.0)\n",
      "Requirement already satisfied: sortedcontainers in c:\\users\\pravat\\anaconda3\\lib\\site-packages (from trio~=0.17->selenium) (2.3.0)\n",
      "Requirement already satisfied: async-generator>=1.9 in c:\\users\\pravat\\anaconda3\\lib\\site-packages (from trio~=0.17->selenium) (1.10)\n",
      "Requirement already satisfied: idna in c:\\users\\pravat\\anaconda3\\lib\\site-packages (from trio~=0.17->selenium) (2.10)\n",
      "Requirement already satisfied: attrs>=19.2.0 in c:\\users\\pravat\\anaconda3\\lib\\site-packages (from trio~=0.17->selenium) (20.3.0)\n",
      "Requirement already satisfied: sniffio in c:\\users\\pravat\\anaconda3\\lib\\site-packages (from trio~=0.17->selenium) (1.2.0)\n",
      "Requirement already satisfied: cffi>=1.14 in c:\\users\\pravat\\anaconda3\\lib\\site-packages (from trio~=0.17->selenium) (1.14.5)\n",
      "Requirement already satisfied: pycparser in c:\\users\\pravat\\anaconda3\\lib\\site-packages (from cffi>=1.14->trio~=0.17->selenium) (2.20)\n",
      "Requirement already satisfied: wsproto>=0.14 in c:\\users\\pravat\\anaconda3\\lib\\site-packages (from trio-websocket~=0.9->selenium) (1.0.0)\n",
      "Requirement already satisfied: cryptography>=1.3.4 in c:\\users\\pravat\\anaconda3\\lib\\site-packages (from urllib3[secure]~=1.26->selenium) (3.4.7)\n",
      "Requirement already satisfied: pyOpenSSL>=0.14 in c:\\users\\pravat\\anaconda3\\lib\\site-packages (from urllib3[secure]~=1.26->selenium) (20.0.1)\n",
      "Requirement already satisfied: certifi in c:\\users\\pravat\\anaconda3\\lib\\site-packages (from urllib3[secure]~=1.26->selenium) (2020.12.5)\n",
      "Requirement already satisfied: six>=1.5.2 in c:\\users\\pravat\\anaconda3\\lib\\site-packages (from pyOpenSSL>=0.14->urllib3[secure]~=1.26->selenium) (1.15.0)\n",
      "Requirement already satisfied: h11<1,>=0.9.0 in c:\\users\\pravat\\anaconda3\\lib\\site-packages (from wsproto>=0.14->trio-websocket~=0.9->selenium) (0.12.0)\n"
     ]
    }
   ],
   "source": [
    "! pip install selenium"
   ]
  },
  {
   "cell_type": "code",
   "execution_count": 144,
   "id": "7fee5b61",
   "metadata": {},
   "outputs": [],
   "source": [
    "import selenium \n",
    "import pandas as pd\n",
    "from selenium import webdriver\n",
    "import warnings\n",
    "warnings.filterwarnings(\"ignore\")"
   ]
  },
  {
   "cell_type": "code",
   "execution_count": 145,
   "id": "003c397b",
   "metadata": {},
   "outputs": [],
   "source": [
    "driver=webdriver.Chrome(r\"C:/Users/pravat/Downloads/chromedriver_win32/chromedriver.exe\")\n",
    "warnings.filterwarnings(\"ignore\")"
   ]
  },
  {
   "cell_type": "code",
   "execution_count": 146,
   "id": "d71573cc",
   "metadata": {},
   "outputs": [],
   "source": [
    "driver.get('https://www.flipkart.com/')"
   ]
  },
  {
   "cell_type": "code",
   "execution_count": 147,
   "id": "f93b96de",
   "metadata": {},
   "outputs": [],
   "source": [
    "search_product = driver.find_element_by_xpath(\"//input[@class='_3704LK']\")\n",
    "search_product.send_keys(\"sneakers\")"
   ]
  },
  {
   "cell_type": "code",
   "execution_count": 148,
   "id": "e7484098",
   "metadata": {},
   "outputs": [],
   "source": [
    "url=\"https://www.flipkart.com/search?q=sneakers&otracker=search&otracker1=search&marketplace=FLIPKART&as-show=on&as=off\""
   ]
  },
  {
   "cell_type": "code",
   "execution_count": 149,
   "id": "c1bc0cdd",
   "metadata": {},
   "outputs": [],
   "source": [
    "driver.get(url)"
   ]
  },
  {
   "cell_type": "code",
   "execution_count": 150,
   "id": "5bb3e638",
   "metadata": {},
   "outputs": [],
   "source": [
    "brand_sneakers=[]\n",
    "desc_sneakers=[]\n",
    "price_sneakers=[]\n",
    "offer_sneakers=[]"
   ]
  },
  {
   "cell_type": "markdown",
   "id": "81f42b81",
   "metadata": {},
   "source": [
    "# BRAND"
   ]
  },
  {
   "cell_type": "code",
   "execution_count": 151,
   "id": "3401abff",
   "metadata": {},
   "outputs": [
    {
     "data": {
      "text/plain": [
       "[<selenium.webdriver.remote.webelement.WebElement (session=\"ef1d682c6ac85831f1aaabfd3ba89875\", element=\"3e06c92b-004f-4a92-b7f1-fdf2b6761585\")>,\n",
       " <selenium.webdriver.remote.webelement.WebElement (session=\"ef1d682c6ac85831f1aaabfd3ba89875\", element=\"efe963df-61e0-4a12-9b8a-fa240de1469c\")>,\n",
       " <selenium.webdriver.remote.webelement.WebElement (session=\"ef1d682c6ac85831f1aaabfd3ba89875\", element=\"36403ed4-0562-4383-9cff-932f3fe610d8\")>,\n",
       " <selenium.webdriver.remote.webelement.WebElement (session=\"ef1d682c6ac85831f1aaabfd3ba89875\", element=\"a814d535-cfa8-4bd6-8af9-88b8031e228c\")>,\n",
       " <selenium.webdriver.remote.webelement.WebElement (session=\"ef1d682c6ac85831f1aaabfd3ba89875\", element=\"1d5ee92e-0f04-4c2e-90e6-78337541283a\")>,\n",
       " <selenium.webdriver.remote.webelement.WebElement (session=\"ef1d682c6ac85831f1aaabfd3ba89875\", element=\"545213c7-1264-47dc-962f-0abba74af223\")>,\n",
       " <selenium.webdriver.remote.webelement.WebElement (session=\"ef1d682c6ac85831f1aaabfd3ba89875\", element=\"f21e9423-df3e-44c4-8e3c-c2aca4be02ee\")>,\n",
       " <selenium.webdriver.remote.webelement.WebElement (session=\"ef1d682c6ac85831f1aaabfd3ba89875\", element=\"1a09d086-8e60-41a8-8f07-e742f100486d\")>,\n",
       " <selenium.webdriver.remote.webelement.WebElement (session=\"ef1d682c6ac85831f1aaabfd3ba89875\", element=\"648441e1-4a8f-4824-a6f4-6a78e93749ef\")>,\n",
       " <selenium.webdriver.remote.webelement.WebElement (session=\"ef1d682c6ac85831f1aaabfd3ba89875\", element=\"2cb17d0d-cd56-4915-b71e-df5874de1bcf\")>,\n",
       " <selenium.webdriver.remote.webelement.WebElement (session=\"ef1d682c6ac85831f1aaabfd3ba89875\", element=\"431a81e9-ea32-44c9-83a4-f398c8f3baec\")>,\n",
       " <selenium.webdriver.remote.webelement.WebElement (session=\"ef1d682c6ac85831f1aaabfd3ba89875\", element=\"0597a349-4f40-47b1-88dd-51faaaae5570\")>,\n",
       " <selenium.webdriver.remote.webelement.WebElement (session=\"ef1d682c6ac85831f1aaabfd3ba89875\", element=\"29b7921e-c903-4d83-8e54-b15482c37207\")>,\n",
       " <selenium.webdriver.remote.webelement.WebElement (session=\"ef1d682c6ac85831f1aaabfd3ba89875\", element=\"724dc463-c246-45c8-9f86-f00f3c327430\")>,\n",
       " <selenium.webdriver.remote.webelement.WebElement (session=\"ef1d682c6ac85831f1aaabfd3ba89875\", element=\"60035839-8ab8-407b-8b17-c85e0e23d4e3\")>,\n",
       " <selenium.webdriver.remote.webelement.WebElement (session=\"ef1d682c6ac85831f1aaabfd3ba89875\", element=\"a92de8aa-4621-48e1-a002-bb4ffbde5663\")>,\n",
       " <selenium.webdriver.remote.webelement.WebElement (session=\"ef1d682c6ac85831f1aaabfd3ba89875\", element=\"bfcdd904-2534-45a6-9d84-6935542ff8e5\")>,\n",
       " <selenium.webdriver.remote.webelement.WebElement (session=\"ef1d682c6ac85831f1aaabfd3ba89875\", element=\"b4b20d7d-e137-49cc-a480-44960886c58f\")>,\n",
       " <selenium.webdriver.remote.webelement.WebElement (session=\"ef1d682c6ac85831f1aaabfd3ba89875\", element=\"ddd44b24-e005-4630-aae4-2ee83aed20c5\")>,\n",
       " <selenium.webdriver.remote.webelement.WebElement (session=\"ef1d682c6ac85831f1aaabfd3ba89875\", element=\"d04362ca-eabb-4358-a36b-81cc6b7a31a5\")>,\n",
       " <selenium.webdriver.remote.webelement.WebElement (session=\"ef1d682c6ac85831f1aaabfd3ba89875\", element=\"1597d6a5-de95-4553-a1db-02e93af9f657\")>,\n",
       " <selenium.webdriver.remote.webelement.WebElement (session=\"ef1d682c6ac85831f1aaabfd3ba89875\", element=\"4976264e-8ef8-468b-85b6-9698fafce700\")>,\n",
       " <selenium.webdriver.remote.webelement.WebElement (session=\"ef1d682c6ac85831f1aaabfd3ba89875\", element=\"b9b7f067-fcfc-4e02-828c-5a90a6243548\")>,\n",
       " <selenium.webdriver.remote.webelement.WebElement (session=\"ef1d682c6ac85831f1aaabfd3ba89875\", element=\"bbbc1c40-9248-4fee-ba44-e001a677a6d3\")>,\n",
       " <selenium.webdriver.remote.webelement.WebElement (session=\"ef1d682c6ac85831f1aaabfd3ba89875\", element=\"9d8dc1b6-cf5e-4a28-af03-3878e35bc666\")>,\n",
       " <selenium.webdriver.remote.webelement.WebElement (session=\"ef1d682c6ac85831f1aaabfd3ba89875\", element=\"d0dee922-4b64-46f4-b168-b5990d7f007b\")>,\n",
       " <selenium.webdriver.remote.webelement.WebElement (session=\"ef1d682c6ac85831f1aaabfd3ba89875\", element=\"ffb98dd4-762d-4e4c-a7be-cca0699b063c\")>,\n",
       " <selenium.webdriver.remote.webelement.WebElement (session=\"ef1d682c6ac85831f1aaabfd3ba89875\", element=\"d136966d-cf7c-446d-9bc6-e25c4f87feb4\")>,\n",
       " <selenium.webdriver.remote.webelement.WebElement (session=\"ef1d682c6ac85831f1aaabfd3ba89875\", element=\"120cb523-b4d5-4d39-9e42-a359fb120cf8\")>,\n",
       " <selenium.webdriver.remote.webelement.WebElement (session=\"ef1d682c6ac85831f1aaabfd3ba89875\", element=\"aad8be88-2d95-4592-b6c2-42eaf8a9e58c\")>,\n",
       " <selenium.webdriver.remote.webelement.WebElement (session=\"ef1d682c6ac85831f1aaabfd3ba89875\", element=\"de8038be-46cd-4175-a22f-d18611cf40c1\")>,\n",
       " <selenium.webdriver.remote.webelement.WebElement (session=\"ef1d682c6ac85831f1aaabfd3ba89875\", element=\"a5d4d302-28c1-4af2-8a81-3d9bd68166e7\")>,\n",
       " <selenium.webdriver.remote.webelement.WebElement (session=\"ef1d682c6ac85831f1aaabfd3ba89875\", element=\"094bf578-c585-4248-a853-3a156548809b\")>,\n",
       " <selenium.webdriver.remote.webelement.WebElement (session=\"ef1d682c6ac85831f1aaabfd3ba89875\", element=\"cb6a990d-69e1-48d3-b0e6-6fbc6156377c\")>,\n",
       " <selenium.webdriver.remote.webelement.WebElement (session=\"ef1d682c6ac85831f1aaabfd3ba89875\", element=\"3e00b6c4-97e2-47ec-8fb8-99f8fd6fc704\")>,\n",
       " <selenium.webdriver.remote.webelement.WebElement (session=\"ef1d682c6ac85831f1aaabfd3ba89875\", element=\"259dca13-1ec1-414c-9759-41408fa88ff4\")>,\n",
       " <selenium.webdriver.remote.webelement.WebElement (session=\"ef1d682c6ac85831f1aaabfd3ba89875\", element=\"d120c368-39e4-43b0-b761-8aaab99b0910\")>,\n",
       " <selenium.webdriver.remote.webelement.WebElement (session=\"ef1d682c6ac85831f1aaabfd3ba89875\", element=\"21a5e658-1439-4352-ba92-317535a7100a\")>,\n",
       " <selenium.webdriver.remote.webelement.WebElement (session=\"ef1d682c6ac85831f1aaabfd3ba89875\", element=\"4d75b3c3-1b7b-438e-b5fc-601facd9622b\")>,\n",
       " <selenium.webdriver.remote.webelement.WebElement (session=\"ef1d682c6ac85831f1aaabfd3ba89875\", element=\"4fa82366-4cd0-48d8-884e-472fae2c313c\")>]"
      ]
     },
     "execution_count": 151,
     "metadata": {},
     "output_type": "execute_result"
    }
   ],
   "source": [
    "brand_tags=driver.find_elements_by_xpath(\"//div[@class='_2WkVRV']\")\n",
    "brand_tags[0:100]"
   ]
  },
  {
   "cell_type": "code",
   "execution_count": 152,
   "id": "9aea924d",
   "metadata": {},
   "outputs": [
    {
     "data": {
      "text/plain": [
       "['ADEEBA SHOES',\n",
       " 'LEE COOPER',\n",
       " 'URBANBOX',\n",
       " 'BRUTON',\n",
       " 'BIRDE',\n",
       " 'T-ROCK',\n",
       " 'Edoeviv',\n",
       " 'PUMA',\n",
       " 'Shoes Bank',\n",
       " 'Chevit',\n",
       " 'Numenzo',\n",
       " 'JACK & JONES',\n",
       " 'Rzisbo',\n",
       " 'Kraasa',\n",
       " 'BIRDE',\n",
       " 'LEE COOPER',\n",
       " 'SCATCHITE',\n",
       " 'ganpati traders',\n",
       " 'RapidBox',\n",
       " 'WROGN',\n",
       " 'Clymb',\n",
       " 'BIRDE',\n",
       " 'Numenzo',\n",
       " 'PUMA',\n",
       " 'BRUTON',\n",
       " 'URBANBOX',\n",
       " 'Robbie jones',\n",
       " 'PUMA',\n",
       " 'Numenzo',\n",
       " 'India hub',\n",
       " 'Robbie jones',\n",
       " 'PUMA',\n",
       " 'D-SNEAKERZ',\n",
       " 'Chevit',\n",
       " 'Extoes',\n",
       " 'JACK & JONES',\n",
       " 'ESSENCE',\n",
       " 'Chevit',\n",
       " 'aadi',\n",
       " 'LEE COOPER']"
      ]
     },
     "execution_count": 152,
     "metadata": {},
     "output_type": "execute_result"
    }
   ],
   "source": [
    "for i in brand_tags:\n",
    "    brands=i.text\n",
    "    brand_sneakers.append(brands)\n",
    "brand_sneakers[0:100]"
   ]
  },
  {
   "cell_type": "markdown",
   "id": "08ae8bc6",
   "metadata": {},
   "source": [
    "# PRICE\n"
   ]
  },
  {
   "cell_type": "code",
   "execution_count": 153,
   "id": "41e1f0c0",
   "metadata": {},
   "outputs": [
    {
     "data": {
      "text/plain": [
       "[<selenium.webdriver.remote.webelement.WebElement (session=\"ef1d682c6ac85831f1aaabfd3ba89875\", element=\"b6b9abca-dee8-4be0-bdc5-f30b8db1021e\")>,\n",
       " <selenium.webdriver.remote.webelement.WebElement (session=\"ef1d682c6ac85831f1aaabfd3ba89875\", element=\"03fe12c2-34d6-4cfc-a839-e0d969039914\")>,\n",
       " <selenium.webdriver.remote.webelement.WebElement (session=\"ef1d682c6ac85831f1aaabfd3ba89875\", element=\"5235f161-db92-4fe0-989d-d51302927555\")>,\n",
       " <selenium.webdriver.remote.webelement.WebElement (session=\"ef1d682c6ac85831f1aaabfd3ba89875\", element=\"6b47f0b2-5866-4e40-9a08-8fb5fd908211\")>,\n",
       " <selenium.webdriver.remote.webelement.WebElement (session=\"ef1d682c6ac85831f1aaabfd3ba89875\", element=\"2cbbc3d7-1c16-45e9-bd1c-597c5fe65e5a\")>,\n",
       " <selenium.webdriver.remote.webelement.WebElement (session=\"ef1d682c6ac85831f1aaabfd3ba89875\", element=\"e1e9208d-0580-44d1-a272-acca69b63f4a\")>,\n",
       " <selenium.webdriver.remote.webelement.WebElement (session=\"ef1d682c6ac85831f1aaabfd3ba89875\", element=\"0b7efa35-eac9-4958-a87a-91cf468c422a\")>,\n",
       " <selenium.webdriver.remote.webelement.WebElement (session=\"ef1d682c6ac85831f1aaabfd3ba89875\", element=\"e1256d5d-28ff-498f-8715-abcf65682bb6\")>,\n",
       " <selenium.webdriver.remote.webelement.WebElement (session=\"ef1d682c6ac85831f1aaabfd3ba89875\", element=\"48eafd72-fe0e-44b7-85bd-3f98a6d86285\")>,\n",
       " <selenium.webdriver.remote.webelement.WebElement (session=\"ef1d682c6ac85831f1aaabfd3ba89875\", element=\"46c6618d-a7ba-4e38-a6b2-0aab5c21e948\")>,\n",
       " <selenium.webdriver.remote.webelement.WebElement (session=\"ef1d682c6ac85831f1aaabfd3ba89875\", element=\"d549eb0c-be28-4eb5-a944-838306df5db6\")>,\n",
       " <selenium.webdriver.remote.webelement.WebElement (session=\"ef1d682c6ac85831f1aaabfd3ba89875\", element=\"54a938ad-0c63-41c1-b385-8052997263fa\")>,\n",
       " <selenium.webdriver.remote.webelement.WebElement (session=\"ef1d682c6ac85831f1aaabfd3ba89875\", element=\"007f6d54-f421-46c3-8754-b9d0d7fde13c\")>,\n",
       " <selenium.webdriver.remote.webelement.WebElement (session=\"ef1d682c6ac85831f1aaabfd3ba89875\", element=\"8ab78574-9413-44fb-88e3-824a7f419c4a\")>,\n",
       " <selenium.webdriver.remote.webelement.WebElement (session=\"ef1d682c6ac85831f1aaabfd3ba89875\", element=\"93fa1424-6162-404f-aa5f-1a427c94701f\")>,\n",
       " <selenium.webdriver.remote.webelement.WebElement (session=\"ef1d682c6ac85831f1aaabfd3ba89875\", element=\"2d945b36-f768-429e-808e-deb298b69f09\")>,\n",
       " <selenium.webdriver.remote.webelement.WebElement (session=\"ef1d682c6ac85831f1aaabfd3ba89875\", element=\"8ee6c42a-3ecb-4726-83ae-5b9e65141ea6\")>,\n",
       " <selenium.webdriver.remote.webelement.WebElement (session=\"ef1d682c6ac85831f1aaabfd3ba89875\", element=\"3cdbc0cd-3de2-4495-8ba4-c553a4560f4e\")>,\n",
       " <selenium.webdriver.remote.webelement.WebElement (session=\"ef1d682c6ac85831f1aaabfd3ba89875\", element=\"99cb180d-8b2b-4e86-897c-7c4a0c3ae349\")>,\n",
       " <selenium.webdriver.remote.webelement.WebElement (session=\"ef1d682c6ac85831f1aaabfd3ba89875\", element=\"71809915-ee27-4518-baad-7867c1edeb33\")>,\n",
       " <selenium.webdriver.remote.webelement.WebElement (session=\"ef1d682c6ac85831f1aaabfd3ba89875\", element=\"04996aa0-3d07-4b1f-8b94-1782db803f7e\")>,\n",
       " <selenium.webdriver.remote.webelement.WebElement (session=\"ef1d682c6ac85831f1aaabfd3ba89875\", element=\"e2da118c-d8bd-4e45-b5db-f77e26258468\")>,\n",
       " <selenium.webdriver.remote.webelement.WebElement (session=\"ef1d682c6ac85831f1aaabfd3ba89875\", element=\"9ccffab6-c4dc-4412-aa57-eebd13d22354\")>,\n",
       " <selenium.webdriver.remote.webelement.WebElement (session=\"ef1d682c6ac85831f1aaabfd3ba89875\", element=\"c52d2ac1-bb8f-4538-b246-c275e02cc47d\")>,\n",
       " <selenium.webdriver.remote.webelement.WebElement (session=\"ef1d682c6ac85831f1aaabfd3ba89875\", element=\"7305a76c-90dd-408a-9ea0-8ba0c785bfa3\")>,\n",
       " <selenium.webdriver.remote.webelement.WebElement (session=\"ef1d682c6ac85831f1aaabfd3ba89875\", element=\"c407834f-f3ca-4a34-8d08-12665709834b\")>,\n",
       " <selenium.webdriver.remote.webelement.WebElement (session=\"ef1d682c6ac85831f1aaabfd3ba89875\", element=\"c65580f6-9a85-48b5-8510-7952a4c84ab9\")>,\n",
       " <selenium.webdriver.remote.webelement.WebElement (session=\"ef1d682c6ac85831f1aaabfd3ba89875\", element=\"b6725ca9-ee8a-4d48-bbc4-2ef5be309e94\")>,\n",
       " <selenium.webdriver.remote.webelement.WebElement (session=\"ef1d682c6ac85831f1aaabfd3ba89875\", element=\"2a0956c1-5495-490f-b213-8b103347a8e4\")>,\n",
       " <selenium.webdriver.remote.webelement.WebElement (session=\"ef1d682c6ac85831f1aaabfd3ba89875\", element=\"9399a03c-c291-47ae-8db5-3cbf1682ce13\")>,\n",
       " <selenium.webdriver.remote.webelement.WebElement (session=\"ef1d682c6ac85831f1aaabfd3ba89875\", element=\"a7fe7721-d266-4bbc-9396-4bb1d6d313bc\")>,\n",
       " <selenium.webdriver.remote.webelement.WebElement (session=\"ef1d682c6ac85831f1aaabfd3ba89875\", element=\"69d7ccc6-0882-4231-8cab-c6f026eb5a37\")>,\n",
       " <selenium.webdriver.remote.webelement.WebElement (session=\"ef1d682c6ac85831f1aaabfd3ba89875\", element=\"b1a2ed47-af47-4f1c-9b30-f12990914aa3\")>,\n",
       " <selenium.webdriver.remote.webelement.WebElement (session=\"ef1d682c6ac85831f1aaabfd3ba89875\", element=\"f4c002fc-de41-4e1a-a5d5-30fa29426f4b\")>,\n",
       " <selenium.webdriver.remote.webelement.WebElement (session=\"ef1d682c6ac85831f1aaabfd3ba89875\", element=\"77e3390f-340d-446e-b8cf-be9d60cf01da\")>,\n",
       " <selenium.webdriver.remote.webelement.WebElement (session=\"ef1d682c6ac85831f1aaabfd3ba89875\", element=\"eabeccac-4168-4dd5-86e8-8c103bf84037\")>,\n",
       " <selenium.webdriver.remote.webelement.WebElement (session=\"ef1d682c6ac85831f1aaabfd3ba89875\", element=\"eede4cee-65da-4896-9feb-eb11dd9e647b\")>,\n",
       " <selenium.webdriver.remote.webelement.WebElement (session=\"ef1d682c6ac85831f1aaabfd3ba89875\", element=\"18176fff-cc24-414b-a4c7-5c5b28bcdd04\")>,\n",
       " <selenium.webdriver.remote.webelement.WebElement (session=\"ef1d682c6ac85831f1aaabfd3ba89875\", element=\"534721fd-da87-432e-af52-63bff0395b89\")>,\n",
       " <selenium.webdriver.remote.webelement.WebElement (session=\"ef1d682c6ac85831f1aaabfd3ba89875\", element=\"d32ab628-1620-4f91-ade5-d43caf934f48\")>]"
      ]
     },
     "execution_count": 153,
     "metadata": {},
     "output_type": "execute_result"
    }
   ],
   "source": [
    "price_tags=driver.find_elements_by_xpath(\"//div[@class='_30jeq3']\")\n",
    "price_tags[0:100]"
   ]
  },
  {
   "cell_type": "code",
   "execution_count": 154,
   "id": "0759ade3",
   "metadata": {},
   "outputs": [
    {
     "data": {
      "text/plain": [
       "['₹399',\n",
       " '₹1,374',\n",
       " '₹247',\n",
       " '₹299',\n",
       " '₹299',\n",
       " '₹379',\n",
       " '₹499',\n",
       " '₹1,749',\n",
       " '₹331',\n",
       " '₹536',\n",
       " '₹479',\n",
       " '₹999',\n",
       " '₹549',\n",
       " '₹444',\n",
       " '₹339',\n",
       " '₹1,484',\n",
       " '₹398',\n",
       " '₹183',\n",
       " '₹680',\n",
       " '₹719',\n",
       " '₹649',\n",
       " '₹422',\n",
       " '₹499',\n",
       " '₹2,799',\n",
       " '₹299',\n",
       " '₹220',\n",
       " '₹451',\n",
       " '₹5,399',\n",
       " '₹499',\n",
       " '₹449',\n",
       " '₹474',\n",
       " '₹1,799',\n",
       " '₹348',\n",
       " '₹420',\n",
       " '₹898',\n",
       " '₹1,199',\n",
       " '₹399',\n",
       " '₹299',\n",
       " '₹399',\n",
       " '₹1,484']"
      ]
     },
     "execution_count": 154,
     "metadata": {},
     "output_type": "execute_result"
    }
   ],
   "source": [
    "for i in price_tags:\n",
    "    price=i.text\n",
    "    price_sneakers.append(price)\n",
    "price_sneakers[0:100]"
   ]
  },
  {
   "cell_type": "markdown",
   "id": "fe09c431",
   "metadata": {},
   "source": [
    "# DESCRIPTION"
   ]
  },
  {
   "cell_type": "code",
   "execution_count": 155,
   "id": "d9688206",
   "metadata": {},
   "outputs": [
    {
     "data": {
      "text/plain": [
       "[<selenium.webdriver.remote.webelement.WebElement (session=\"ef1d682c6ac85831f1aaabfd3ba89875\", element=\"1d02abc2-1808-4751-b5d5-e862f3891058\")>,\n",
       " <selenium.webdriver.remote.webelement.WebElement (session=\"ef1d682c6ac85831f1aaabfd3ba89875\", element=\"623e9b63-e351-44c0-b315-aaed49cf52bc\")>,\n",
       " <selenium.webdriver.remote.webelement.WebElement (session=\"ef1d682c6ac85831f1aaabfd3ba89875\", element=\"cd6b1d0b-8f4b-49ba-a9ab-46b7465952ec\")>,\n",
       " <selenium.webdriver.remote.webelement.WebElement (session=\"ef1d682c6ac85831f1aaabfd3ba89875\", element=\"deca3031-096e-45a8-af7a-8a56bc92705f\")>,\n",
       " <selenium.webdriver.remote.webelement.WebElement (session=\"ef1d682c6ac85831f1aaabfd3ba89875\", element=\"beafbe84-bc56-4eae-878d-89c82092fa5e\")>,\n",
       " <selenium.webdriver.remote.webelement.WebElement (session=\"ef1d682c6ac85831f1aaabfd3ba89875\", element=\"391878a4-e7e0-495f-b50e-5608ddbbd656\")>,\n",
       " <selenium.webdriver.remote.webelement.WebElement (session=\"ef1d682c6ac85831f1aaabfd3ba89875\", element=\"4153d45e-77fe-44a9-a46a-cc95431fc619\")>,\n",
       " <selenium.webdriver.remote.webelement.WebElement (session=\"ef1d682c6ac85831f1aaabfd3ba89875\", element=\"fa75692d-e0ba-451b-93d1-84a78adf3cf7\")>,\n",
       " <selenium.webdriver.remote.webelement.WebElement (session=\"ef1d682c6ac85831f1aaabfd3ba89875\", element=\"68a1ff84-8191-4aef-a8a4-16a563dfd684\")>,\n",
       " <selenium.webdriver.remote.webelement.WebElement (session=\"ef1d682c6ac85831f1aaabfd3ba89875\", element=\"2a01181e-dfb1-4c39-ba63-1f0a38ab54ba\")>,\n",
       " <selenium.webdriver.remote.webelement.WebElement (session=\"ef1d682c6ac85831f1aaabfd3ba89875\", element=\"fc3690f3-24f0-4c06-b4ad-da963475e4cc\")>,\n",
       " <selenium.webdriver.remote.webelement.WebElement (session=\"ef1d682c6ac85831f1aaabfd3ba89875\", element=\"0b13d70b-39ba-4633-85ca-741d0bee6f1f\")>,\n",
       " <selenium.webdriver.remote.webelement.WebElement (session=\"ef1d682c6ac85831f1aaabfd3ba89875\", element=\"5e5cd87e-1084-4f6c-ac1b-a06db9d28f39\")>,\n",
       " <selenium.webdriver.remote.webelement.WebElement (session=\"ef1d682c6ac85831f1aaabfd3ba89875\", element=\"53186c0e-3f3e-45d0-9765-bf2179a996e4\")>,\n",
       " <selenium.webdriver.remote.webelement.WebElement (session=\"ef1d682c6ac85831f1aaabfd3ba89875\", element=\"b9cce278-fc45-4ed5-b9e8-c5b066532eae\")>,\n",
       " <selenium.webdriver.remote.webelement.WebElement (session=\"ef1d682c6ac85831f1aaabfd3ba89875\", element=\"587abf33-ced6-43fc-84a4-a1d390222142\")>,\n",
       " <selenium.webdriver.remote.webelement.WebElement (session=\"ef1d682c6ac85831f1aaabfd3ba89875\", element=\"24c20030-dcec-4319-94b2-4f005629acfb\")>,\n",
       " <selenium.webdriver.remote.webelement.WebElement (session=\"ef1d682c6ac85831f1aaabfd3ba89875\", element=\"e5ad957a-5211-4928-a3f2-00b5dda5ccb3\")>,\n",
       " <selenium.webdriver.remote.webelement.WebElement (session=\"ef1d682c6ac85831f1aaabfd3ba89875\", element=\"0ac12b64-cbb5-47bc-8cd7-f6ca5d2356a6\")>,\n",
       " <selenium.webdriver.remote.webelement.WebElement (session=\"ef1d682c6ac85831f1aaabfd3ba89875\", element=\"649150f5-58a0-45ad-a4bd-ac1ccbca2ed7\")>,\n",
       " <selenium.webdriver.remote.webelement.WebElement (session=\"ef1d682c6ac85831f1aaabfd3ba89875\", element=\"acacfa54-c626-4e7a-98b3-ddc530ed76bd\")>,\n",
       " <selenium.webdriver.remote.webelement.WebElement (session=\"ef1d682c6ac85831f1aaabfd3ba89875\", element=\"2d2acadb-ad1d-4b21-87cd-5444ab72350f\")>,\n",
       " <selenium.webdriver.remote.webelement.WebElement (session=\"ef1d682c6ac85831f1aaabfd3ba89875\", element=\"947303ab-220d-4a07-aaf1-f499983244dc\")>,\n",
       " <selenium.webdriver.remote.webelement.WebElement (session=\"ef1d682c6ac85831f1aaabfd3ba89875\", element=\"5c847eb1-bccf-4135-8717-e4b22b880b25\")>,\n",
       " <selenium.webdriver.remote.webelement.WebElement (session=\"ef1d682c6ac85831f1aaabfd3ba89875\", element=\"02c97f49-a27c-4847-ab1d-917094720e39\")>,\n",
       " <selenium.webdriver.remote.webelement.WebElement (session=\"ef1d682c6ac85831f1aaabfd3ba89875\", element=\"4a3d8d6a-5ef7-44df-8945-d45349450e11\")>,\n",
       " <selenium.webdriver.remote.webelement.WebElement (session=\"ef1d682c6ac85831f1aaabfd3ba89875\", element=\"cfc48c1f-2519-4342-a71b-1da387228601\")>,\n",
       " <selenium.webdriver.remote.webelement.WebElement (session=\"ef1d682c6ac85831f1aaabfd3ba89875\", element=\"8c9c4992-e6a4-4ac7-ba47-63b36a9c9230\")>,\n",
       " <selenium.webdriver.remote.webelement.WebElement (session=\"ef1d682c6ac85831f1aaabfd3ba89875\", element=\"93fdbbce-5696-4453-995c-b73ad997deac\")>,\n",
       " <selenium.webdriver.remote.webelement.WebElement (session=\"ef1d682c6ac85831f1aaabfd3ba89875\", element=\"66cfe7b7-535a-48a9-bb7d-d2941e12d57d\")>,\n",
       " <selenium.webdriver.remote.webelement.WebElement (session=\"ef1d682c6ac85831f1aaabfd3ba89875\", element=\"cbe2ae01-6104-4458-b9c2-c9e3ac295544\")>]"
      ]
     },
     "execution_count": 155,
     "metadata": {},
     "output_type": "execute_result"
    }
   ],
   "source": [
    "desc_tags=driver.find_elements_by_xpath(\"//a[@class='IRpwTa']\")\n",
    "desc_tags[0:100]"
   ]
  },
  {
   "cell_type": "code",
   "execution_count": 156,
   "id": "d34859cd",
   "metadata": {},
   "outputs": [
    {
     "data": {
      "text/plain": [
       "['Sneakers For Men',\n",
       " 'Modern Trendy Sneakers Shoes Sneakers For Men',\n",
       " 'Sports Running Shoes Sneakers For Men',\n",
       " 'Synthetic Leather Casual Partywear Wedding Sneakers Sho...',\n",
       " \"Luxury Branded Fashionable Men's Casual Walking Partywe...\",\n",
       " 'Puma Smash v2 Buck Sneakers For Men',\n",
       " \"White Sneaker For Men's/Boy's Sneakers For Men\",\n",
       " 'Super Stylish & Trendy Combo Pack of 02 Pairs Sneakers ...',\n",
       " 'White Sneaker For Men Sneakers For Men',\n",
       " 'Sneakers For Men',\n",
       " 'Shark-41 Sneakers For Men',\n",
       " 'Casual Shoes Sneakers For Men',\n",
       " 'Sneakers For Men',\n",
       " 'Sneakers Sneakers For Men',\n",
       " 'Sneakers For Men',\n",
       " 'Combo Pack of 2 Casual Shoes Sneakers For Men',\n",
       " '411 Casual Sneakers For Men',\n",
       " 'Lattest Sneakers Shoe Sneakers For Men',\n",
       " 'Casual Sneakers Black Shoes For Men Sneakers For Men',\n",
       " 'Numenzo Black Sneaker For Men Sneakers For Men',\n",
       " 'Fashionable casual sneakers shoes Sneakers For Men',\n",
       " 'Sneakers For Men',\n",
       " 'Anzarun Lite Sneakers For Men',\n",
       " \"Casual , Partywear Sneakers Shoes For Men's And Boys Wh...\",\n",
       " 'Unique & Perfect Collection Combo Pack of 02 Shoes for ...',\n",
       " 'Modern Trendy Shoes Combo pack of 4 Sneakers For Men',\n",
       " 'JFWBENNY KNIT SLIP ON Sneakers For Men',\n",
       " 'Luxury Fashionable casual sneaker shoes and partywear s...',\n",
       " '516 Trendy Star Perfect Sneakers For Men',\n",
       " 'Sneakers For Men',\n",
       " 'Sneakers For Men']"
      ]
     },
     "execution_count": 156,
     "metadata": {},
     "output_type": "execute_result"
    }
   ],
   "source": [
    "for i in desc_tags:\n",
    "    description=i.text\n",
    "    desc_sneakers.append(description)\n",
    "desc_sneakers[0:100]"
   ]
  },
  {
   "cell_type": "markdown",
   "id": "620d96f6",
   "metadata": {},
   "source": [
    "# OFFER"
   ]
  },
  {
   "cell_type": "code",
   "execution_count": 157,
   "id": "bf76a095",
   "metadata": {},
   "outputs": [
    {
     "data": {
      "text/plain": [
       "[<selenium.webdriver.remote.webelement.WebElement (session=\"ef1d682c6ac85831f1aaabfd3ba89875\", element=\"88f85d5a-f394-4668-ac8d-0c53accbf5ac\")>,\n",
       " <selenium.webdriver.remote.webelement.WebElement (session=\"ef1d682c6ac85831f1aaabfd3ba89875\", element=\"48320b77-dbd6-4721-9b5b-1a06e312d68b\")>,\n",
       " <selenium.webdriver.remote.webelement.WebElement (session=\"ef1d682c6ac85831f1aaabfd3ba89875\", element=\"e41f6882-9601-4b27-acdf-57765ceeb8f4\")>,\n",
       " <selenium.webdriver.remote.webelement.WebElement (session=\"ef1d682c6ac85831f1aaabfd3ba89875\", element=\"4f52c326-6408-428a-9af5-e7625e25849c\")>,\n",
       " <selenium.webdriver.remote.webelement.WebElement (session=\"ef1d682c6ac85831f1aaabfd3ba89875\", element=\"ee35b85c-99b8-439d-8d64-90002429572d\")>,\n",
       " <selenium.webdriver.remote.webelement.WebElement (session=\"ef1d682c6ac85831f1aaabfd3ba89875\", element=\"41fd3d29-4fb5-4a69-8fc8-a6a256d41e88\")>,\n",
       " <selenium.webdriver.remote.webelement.WebElement (session=\"ef1d682c6ac85831f1aaabfd3ba89875\", element=\"11a6f34f-77b3-4636-a894-aa4b537b0a02\")>,\n",
       " <selenium.webdriver.remote.webelement.WebElement (session=\"ef1d682c6ac85831f1aaabfd3ba89875\", element=\"b86b718b-771c-439d-a4bd-adaf956bba18\")>,\n",
       " <selenium.webdriver.remote.webelement.WebElement (session=\"ef1d682c6ac85831f1aaabfd3ba89875\", element=\"74fefb06-60f1-47f7-bb4d-750101c27f63\")>,\n",
       " <selenium.webdriver.remote.webelement.WebElement (session=\"ef1d682c6ac85831f1aaabfd3ba89875\", element=\"e161c5c8-b10a-4294-9f72-66d6236611c8\")>,\n",
       " <selenium.webdriver.remote.webelement.WebElement (session=\"ef1d682c6ac85831f1aaabfd3ba89875\", element=\"842cc91e-863d-4530-80a6-3657fcfff3a0\")>,\n",
       " <selenium.webdriver.remote.webelement.WebElement (session=\"ef1d682c6ac85831f1aaabfd3ba89875\", element=\"42118096-b817-4e9e-b7b2-cfec921ca10d\")>,\n",
       " <selenium.webdriver.remote.webelement.WebElement (session=\"ef1d682c6ac85831f1aaabfd3ba89875\", element=\"35e9500d-a4b6-4346-90be-5ca69ca473d9\")>,\n",
       " <selenium.webdriver.remote.webelement.WebElement (session=\"ef1d682c6ac85831f1aaabfd3ba89875\", element=\"63e33e24-c53f-43fd-bda6-4e9fecef159d\")>,\n",
       " <selenium.webdriver.remote.webelement.WebElement (session=\"ef1d682c6ac85831f1aaabfd3ba89875\", element=\"6c6d21e1-a13f-4d22-8a2c-4d2b49464436\")>,\n",
       " <selenium.webdriver.remote.webelement.WebElement (session=\"ef1d682c6ac85831f1aaabfd3ba89875\", element=\"37197439-8930-44cb-a237-04f677e52d2f\")>,\n",
       " <selenium.webdriver.remote.webelement.WebElement (session=\"ef1d682c6ac85831f1aaabfd3ba89875\", element=\"8130831a-3e7b-4586-80ae-039b51225a26\")>,\n",
       " <selenium.webdriver.remote.webelement.WebElement (session=\"ef1d682c6ac85831f1aaabfd3ba89875\", element=\"715c91e4-5379-47b9-bb06-6119e23dedfb\")>,\n",
       " <selenium.webdriver.remote.webelement.WebElement (session=\"ef1d682c6ac85831f1aaabfd3ba89875\", element=\"dcc62099-65c1-47df-bbbd-c36aa514744e\")>,\n",
       " <selenium.webdriver.remote.webelement.WebElement (session=\"ef1d682c6ac85831f1aaabfd3ba89875\", element=\"ecec7f62-4d0a-402b-ade0-4c35d5f0231c\")>,\n",
       " <selenium.webdriver.remote.webelement.WebElement (session=\"ef1d682c6ac85831f1aaabfd3ba89875\", element=\"8bf84dca-63b5-4346-9ef2-92f6b3dcb6e7\")>,\n",
       " <selenium.webdriver.remote.webelement.WebElement (session=\"ef1d682c6ac85831f1aaabfd3ba89875\", element=\"8fdf9a63-af38-41f0-afa4-e95e56994cd2\")>,\n",
       " <selenium.webdriver.remote.webelement.WebElement (session=\"ef1d682c6ac85831f1aaabfd3ba89875\", element=\"fc77e59d-e086-4e2e-ac39-022f54b7a572\")>,\n",
       " <selenium.webdriver.remote.webelement.WebElement (session=\"ef1d682c6ac85831f1aaabfd3ba89875\", element=\"aa43e55f-1bd5-4527-adc8-8f5b20efc21c\")>,\n",
       " <selenium.webdriver.remote.webelement.WebElement (session=\"ef1d682c6ac85831f1aaabfd3ba89875\", element=\"505beeac-6da2-47c2-996e-ca5ff944fa44\")>,\n",
       " <selenium.webdriver.remote.webelement.WebElement (session=\"ef1d682c6ac85831f1aaabfd3ba89875\", element=\"ab7c64b9-7d0c-49b1-afc8-35a64fd307b1\")>,\n",
       " <selenium.webdriver.remote.webelement.WebElement (session=\"ef1d682c6ac85831f1aaabfd3ba89875\", element=\"d9f3fde1-7110-43c1-98c4-33fb2091bb95\")>,\n",
       " <selenium.webdriver.remote.webelement.WebElement (session=\"ef1d682c6ac85831f1aaabfd3ba89875\", element=\"5861daed-2189-443d-80da-3c70d12dfc5c\")>,\n",
       " <selenium.webdriver.remote.webelement.WebElement (session=\"ef1d682c6ac85831f1aaabfd3ba89875\", element=\"4cc230d7-b7b6-4187-b2aa-44a92fab463f\")>,\n",
       " <selenium.webdriver.remote.webelement.WebElement (session=\"ef1d682c6ac85831f1aaabfd3ba89875\", element=\"9c721bbb-f911-4492-bf25-94ca924d9b9d\")>,\n",
       " <selenium.webdriver.remote.webelement.WebElement (session=\"ef1d682c6ac85831f1aaabfd3ba89875\", element=\"875425b2-231c-4e15-91ea-389a33dbb736\")>,\n",
       " <selenium.webdriver.remote.webelement.WebElement (session=\"ef1d682c6ac85831f1aaabfd3ba89875\", element=\"dee2ef2e-bdc9-41d1-a2f7-450e993f1bbc\")>,\n",
       " <selenium.webdriver.remote.webelement.WebElement (session=\"ef1d682c6ac85831f1aaabfd3ba89875\", element=\"df90a74e-2601-4a1b-b386-bd56c0e5397a\")>,\n",
       " <selenium.webdriver.remote.webelement.WebElement (session=\"ef1d682c6ac85831f1aaabfd3ba89875\", element=\"9c284e14-8b09-4856-935c-8337fc8a3152\")>,\n",
       " <selenium.webdriver.remote.webelement.WebElement (session=\"ef1d682c6ac85831f1aaabfd3ba89875\", element=\"977f75ec-43b6-4c8a-8b2b-5fd96dd675ec\")>,\n",
       " <selenium.webdriver.remote.webelement.WebElement (session=\"ef1d682c6ac85831f1aaabfd3ba89875\", element=\"2e9f1be8-d589-444e-b0a3-5cfa78fcb689\")>,\n",
       " <selenium.webdriver.remote.webelement.WebElement (session=\"ef1d682c6ac85831f1aaabfd3ba89875\", element=\"0fef7136-93fd-4d46-9175-d673658c2698\")>,\n",
       " <selenium.webdriver.remote.webelement.WebElement (session=\"ef1d682c6ac85831f1aaabfd3ba89875\", element=\"26e61ae6-020f-42e7-b3f7-208871cdcc90\")>,\n",
       " <selenium.webdriver.remote.webelement.WebElement (session=\"ef1d682c6ac85831f1aaabfd3ba89875\", element=\"a2deff0f-9f86-48ed-b601-477ddbf17c5a\")>,\n",
       " <selenium.webdriver.remote.webelement.WebElement (session=\"ef1d682c6ac85831f1aaabfd3ba89875\", element=\"c87ac775-7e7e-4c43-9bf7-886d600053e4\")>]"
      ]
     },
     "execution_count": 157,
     "metadata": {},
     "output_type": "execute_result"
    }
   ],
   "source": [
    "offer_tags=driver.find_elements_by_xpath(\"//div[@class='_3Ay6Sb']\")\n",
    "offer_tags[0:100]"
   ]
  },
  {
   "cell_type": "code",
   "execution_count": 158,
   "id": "8d10e168",
   "metadata": {},
   "outputs": [
    {
     "data": {
      "text/plain": [
       "['60% off',\n",
       " '45% off',\n",
       " '75% off',\n",
       " '76% off',\n",
       " '40% off',\n",
       " '62% off',\n",
       " '37% off',\n",
       " '50% off',\n",
       " '66% off',\n",
       " '66% off',\n",
       " '63% off',\n",
       " '75% off',\n",
       " '45% off',\n",
       " '55% off',\n",
       " '66% off',\n",
       " '45% off',\n",
       " '60% off',\n",
       " '63% off',\n",
       " '31% off',\n",
       " '70% off',\n",
       " '56% off',\n",
       " '57% off',\n",
       " '75% off',\n",
       " '60% off',\n",
       " '76% off',\n",
       " '55% off',\n",
       " '54% off',\n",
       " '40% off',\n",
       " '61% off',\n",
       " '82% off',\n",
       " '52% off',\n",
       " '40% off',\n",
       " '47% off',\n",
       " '71% off',\n",
       " '40% off',\n",
       " '60% off',\n",
       " '60% off',\n",
       " '62% off',\n",
       " '80% off',\n",
       " '45% off']"
      ]
     },
     "execution_count": 158,
     "metadata": {},
     "output_type": "execute_result"
    }
   ],
   "source": [
    "for i in offer_tags:\n",
    "    offer=i.text\n",
    "    offer_sneakers.append(offer)\n",
    "offer_sneakers[0:100]"
   ]
  },
  {
   "cell_type": "markdown",
   "id": "efc76216",
   "metadata": {},
   "source": [
    "Q7. Go to the link - https://www.myntra.com/shoes \n",
    "Set Price filter to “Rs. 6649 to Rs. 13099” , Color filter to “Black”, as shown in the below image. \n",
    " \n",
    "  \n",
    " \n",
    "And then scrape First 100 shoes data you get. The data should include “Brand” of the shoes , Short Shoe description, price of the shoe as shown in the below image. \n",
    " \n",
    " \n",
    " \n",
    " \n",
    "Note: Applying the filter and scraping the data, everything should be done through code only and there should not be any manual step. \n"
   ]
  },
  {
   "cell_type": "code",
   "execution_count": 160,
   "id": "df574e1c",
   "metadata": {},
   "outputs": [
    {
     "name": "stdout",
     "output_type": "stream",
     "text": [
      "Requirement already satisfied: selenium in c:\\users\\pravat\\anaconda3\\lib\\site-packages (4.1.0)\n",
      "Requirement already satisfied: trio~=0.17 in c:\\users\\pravat\\anaconda3\\lib\\site-packages (from selenium) (0.19.0)\n",
      "Requirement already satisfied: urllib3[secure]~=1.26 in c:\\users\\pravat\\anaconda3\\lib\\site-packages (from selenium) (1.26.4)\n",
      "Requirement already satisfied: trio-websocket~=0.9 in c:\\users\\pravat\\anaconda3\\lib\\site-packages (from selenium) (0.9.2)\n",
      "Requirement already satisfied: cffi>=1.14 in c:\\users\\pravat\\anaconda3\\lib\\site-packages (from trio~=0.17->selenium) (1.14.5)\n",
      "Requirement already satisfied: outcome in c:\\users\\pravat\\anaconda3\\lib\\site-packages (from trio~=0.17->selenium) (1.1.0)\n",
      "Requirement already satisfied: async-generator>=1.9 in c:\\users\\pravat\\anaconda3\\lib\\site-packages (from trio~=0.17->selenium) (1.10)\n",
      "Requirement already satisfied: sniffio in c:\\users\\pravat\\anaconda3\\lib\\site-packages (from trio~=0.17->selenium) (1.2.0)\n",
      "Requirement already satisfied: idna in c:\\users\\pravat\\anaconda3\\lib\\site-packages (from trio~=0.17->selenium) (2.10)\n",
      "Requirement already satisfied: attrs>=19.2.0 in c:\\users\\pravat\\anaconda3\\lib\\site-packages (from trio~=0.17->selenium) (20.3.0)\n",
      "Requirement already satisfied: sortedcontainers in c:\\users\\pravat\\anaconda3\\lib\\site-packages (from trio~=0.17->selenium) (2.3.0)\n",
      "Requirement already satisfied: pycparser in c:\\users\\pravat\\anaconda3\\lib\\site-packages (from cffi>=1.14->trio~=0.17->selenium) (2.20)\n",
      "Requirement already satisfied: wsproto>=0.14 in c:\\users\\pravat\\anaconda3\\lib\\site-packages (from trio-websocket~=0.9->selenium) (1.0.0)\n",
      "Requirement already satisfied: pyOpenSSL>=0.14 in c:\\users\\pravat\\anaconda3\\lib\\site-packages (from urllib3[secure]~=1.26->selenium) (20.0.1)\n",
      "Requirement already satisfied: certifi in c:\\users\\pravat\\anaconda3\\lib\\site-packages (from urllib3[secure]~=1.26->selenium) (2020.12.5)\n",
      "Requirement already satisfied: cryptography>=1.3.4 in c:\\users\\pravat\\anaconda3\\lib\\site-packages (from urllib3[secure]~=1.26->selenium) (3.4.7)\n",
      "Requirement already satisfied: six>=1.5.2 in c:\\users\\pravat\\anaconda3\\lib\\site-packages (from pyOpenSSL>=0.14->urllib3[secure]~=1.26->selenium) (1.15.0)\n",
      "Requirement already satisfied: h11<1,>=0.9.0 in c:\\users\\pravat\\anaconda3\\lib\\site-packages (from wsproto>=0.14->trio-websocket~=0.9->selenium) (0.12.0)\n"
     ]
    }
   ],
   "source": [
    "! pip install selenium"
   ]
  },
  {
   "cell_type": "code",
   "execution_count": 161,
   "id": "0a50e551",
   "metadata": {},
   "outputs": [],
   "source": [
    "import selenium \n",
    "import pandas as pd\n",
    "from selenium import webdriver\n",
    "import warnings\n",
    "warnings.filterwarnings(\"ignore\")"
   ]
  },
  {
   "cell_type": "code",
   "execution_count": 163,
   "id": "f6e3aa64",
   "metadata": {},
   "outputs": [],
   "source": [
    "driver=webdriver.Chrome(r\"C:/Users/pravat/Downloads/chromedriver_win32/chromedriver.exe\")\n",
    "warnings.filterwarnings(\"ignore\")"
   ]
  },
  {
   "cell_type": "code",
   "execution_count": 164,
   "id": "b19337a2",
   "metadata": {},
   "outputs": [],
   "source": [
    "driver.get('https://www.myntra.com/shoes/')"
   ]
  },
  {
   "cell_type": "code",
   "execution_count": 165,
   "id": "91de0f3a",
   "metadata": {},
   "outputs": [],
   "source": [
    "url=\"https://www.myntra.com/shoes?f=Color%3ABlack_36454f&rf=Price%3A6137.0_12025.0_6137.0%20TO%2012025.0\""
   ]
  },
  {
   "cell_type": "code",
   "execution_count": 166,
   "id": "53c91ab4",
   "metadata": {},
   "outputs": [],
   "source": [
    "driver.get(url)"
   ]
  },
  {
   "cell_type": "markdown",
   "id": "5d9045f1",
   "metadata": {},
   "source": [
    "# BRAND"
   ]
  },
  {
   "cell_type": "code",
   "execution_count": 167,
   "id": "72ed8596",
   "metadata": {},
   "outputs": [],
   "source": [
    "brand_shoes=[]\n",
    "desc_shoes=[]\n",
    "price_shoes=[]"
   ]
  },
  {
   "cell_type": "code",
   "execution_count": 168,
   "id": "ca0740d6",
   "metadata": {},
   "outputs": [
    {
     "data": {
      "text/plain": [
       "[<selenium.webdriver.remote.webelement.WebElement (session=\"4401ab3cebc88170704cc54570ed4ea3\", element=\"e8f83352-2c0c-408f-bb4a-77364eed1d68\")>,\n",
       " <selenium.webdriver.remote.webelement.WebElement (session=\"4401ab3cebc88170704cc54570ed4ea3\", element=\"0dbfcad5-971e-45d2-9364-805bd5dad04f\")>,\n",
       " <selenium.webdriver.remote.webelement.WebElement (session=\"4401ab3cebc88170704cc54570ed4ea3\", element=\"04edafb0-2d34-4d16-a93e-77faef03809f\")>,\n",
       " <selenium.webdriver.remote.webelement.WebElement (session=\"4401ab3cebc88170704cc54570ed4ea3\", element=\"26dc9550-554f-4914-8846-4f3668a41dc9\")>,\n",
       " <selenium.webdriver.remote.webelement.WebElement (session=\"4401ab3cebc88170704cc54570ed4ea3\", element=\"eb3256fc-b79d-4e4b-ae46-d9f8c27c7ab2\")>,\n",
       " <selenium.webdriver.remote.webelement.WebElement (session=\"4401ab3cebc88170704cc54570ed4ea3\", element=\"20d02f06-8f67-4cc1-a5cb-c49d983a1ae8\")>,\n",
       " <selenium.webdriver.remote.webelement.WebElement (session=\"4401ab3cebc88170704cc54570ed4ea3\", element=\"ee82dba2-557c-43a3-b026-f4e7cd5f3005\")>,\n",
       " <selenium.webdriver.remote.webelement.WebElement (session=\"4401ab3cebc88170704cc54570ed4ea3\", element=\"e3635b27-0cf8-4cba-9e5f-bb075f52a388\")>,\n",
       " <selenium.webdriver.remote.webelement.WebElement (session=\"4401ab3cebc88170704cc54570ed4ea3\", element=\"49e25434-f7a3-4484-922a-ee28f8449f56\")>,\n",
       " <selenium.webdriver.remote.webelement.WebElement (session=\"4401ab3cebc88170704cc54570ed4ea3\", element=\"3bc426ce-01ed-433e-b80f-aa98a82e1d10\")>,\n",
       " <selenium.webdriver.remote.webelement.WebElement (session=\"4401ab3cebc88170704cc54570ed4ea3\", element=\"31827b5f-ba07-45ea-bfbb-79f84e2333bc\")>,\n",
       " <selenium.webdriver.remote.webelement.WebElement (session=\"4401ab3cebc88170704cc54570ed4ea3\", element=\"a7883e1a-77c2-443e-9d01-717ff422ffa1\")>,\n",
       " <selenium.webdriver.remote.webelement.WebElement (session=\"4401ab3cebc88170704cc54570ed4ea3\", element=\"50d7f835-b971-4e1e-9330-2c5391fbb1a1\")>,\n",
       " <selenium.webdriver.remote.webelement.WebElement (session=\"4401ab3cebc88170704cc54570ed4ea3\", element=\"67da0bef-6131-467d-bae3-8108b12c7098\")>,\n",
       " <selenium.webdriver.remote.webelement.WebElement (session=\"4401ab3cebc88170704cc54570ed4ea3\", element=\"8bd3c141-b910-475c-96b6-2faf54cc6842\")>,\n",
       " <selenium.webdriver.remote.webelement.WebElement (session=\"4401ab3cebc88170704cc54570ed4ea3\", element=\"ad378972-08a1-4147-9dd4-179a02a01a1a\")>,\n",
       " <selenium.webdriver.remote.webelement.WebElement (session=\"4401ab3cebc88170704cc54570ed4ea3\", element=\"094320be-5edd-45c4-8d77-075924954393\")>,\n",
       " <selenium.webdriver.remote.webelement.WebElement (session=\"4401ab3cebc88170704cc54570ed4ea3\", element=\"708d8527-344e-48f1-bcea-7cb240f9f57c\")>,\n",
       " <selenium.webdriver.remote.webelement.WebElement (session=\"4401ab3cebc88170704cc54570ed4ea3\", element=\"f1fd4f51-02a4-4237-8200-014ba2447425\")>,\n",
       " <selenium.webdriver.remote.webelement.WebElement (session=\"4401ab3cebc88170704cc54570ed4ea3\", element=\"346833c8-e475-45ba-83c9-6f218c68e746\")>,\n",
       " <selenium.webdriver.remote.webelement.WebElement (session=\"4401ab3cebc88170704cc54570ed4ea3\", element=\"24b7bbf8-ee21-4e84-8629-bc193e1bd121\")>,\n",
       " <selenium.webdriver.remote.webelement.WebElement (session=\"4401ab3cebc88170704cc54570ed4ea3\", element=\"fe3445fa-e115-4464-93d3-80a5103bf62f\")>,\n",
       " <selenium.webdriver.remote.webelement.WebElement (session=\"4401ab3cebc88170704cc54570ed4ea3\", element=\"caa37ddf-8842-4ef5-96e0-ce3cec49b0cf\")>,\n",
       " <selenium.webdriver.remote.webelement.WebElement (session=\"4401ab3cebc88170704cc54570ed4ea3\", element=\"45a70cbe-a910-47aa-91de-bab6ed56d28d\")>,\n",
       " <selenium.webdriver.remote.webelement.WebElement (session=\"4401ab3cebc88170704cc54570ed4ea3\", element=\"cb9ce09a-fe03-4008-837e-8d16c52ac04f\")>,\n",
       " <selenium.webdriver.remote.webelement.WebElement (session=\"4401ab3cebc88170704cc54570ed4ea3\", element=\"e8724804-b8b4-4b12-bf1d-f2d226dfb3d7\")>,\n",
       " <selenium.webdriver.remote.webelement.WebElement (session=\"4401ab3cebc88170704cc54570ed4ea3\", element=\"ff8292fc-53fa-4d45-9e21-f3c700b6304f\")>,\n",
       " <selenium.webdriver.remote.webelement.WebElement (session=\"4401ab3cebc88170704cc54570ed4ea3\", element=\"5398dc56-1851-4674-867e-adabc257eb82\")>,\n",
       " <selenium.webdriver.remote.webelement.WebElement (session=\"4401ab3cebc88170704cc54570ed4ea3\", element=\"e53ec737-b872-4866-99a4-2d8aa2e64dce\")>,\n",
       " <selenium.webdriver.remote.webelement.WebElement (session=\"4401ab3cebc88170704cc54570ed4ea3\", element=\"5f7ae179-6f30-46eb-b9f4-06a0936c503c\")>,\n",
       " <selenium.webdriver.remote.webelement.WebElement (session=\"4401ab3cebc88170704cc54570ed4ea3\", element=\"4b84835f-e982-41aa-a3b6-72b2b84ea458\")>,\n",
       " <selenium.webdriver.remote.webelement.WebElement (session=\"4401ab3cebc88170704cc54570ed4ea3\", element=\"a11dfafe-7baf-47be-92cc-d1eef3d876c1\")>,\n",
       " <selenium.webdriver.remote.webelement.WebElement (session=\"4401ab3cebc88170704cc54570ed4ea3\", element=\"53ac67c3-fac9-4ec0-a822-a4017e832cb5\")>,\n",
       " <selenium.webdriver.remote.webelement.WebElement (session=\"4401ab3cebc88170704cc54570ed4ea3\", element=\"2f148edb-b4d3-4f6d-b787-8863eb0fda14\")>,\n",
       " <selenium.webdriver.remote.webelement.WebElement (session=\"4401ab3cebc88170704cc54570ed4ea3\", element=\"f9dc3075-d3d2-4ae6-b27c-cb11ef0d92ea\")>,\n",
       " <selenium.webdriver.remote.webelement.WebElement (session=\"4401ab3cebc88170704cc54570ed4ea3\", element=\"50e3e941-f7aa-4b57-b227-e46601bd7184\")>,\n",
       " <selenium.webdriver.remote.webelement.WebElement (session=\"4401ab3cebc88170704cc54570ed4ea3\", element=\"12d25401-a84d-4ff1-88c9-51e79f096615\")>,\n",
       " <selenium.webdriver.remote.webelement.WebElement (session=\"4401ab3cebc88170704cc54570ed4ea3\", element=\"31921853-ba82-4f95-893f-e06702662f7c\")>,\n",
       " <selenium.webdriver.remote.webelement.WebElement (session=\"4401ab3cebc88170704cc54570ed4ea3\", element=\"6910b5d0-de83-4b0e-9196-3d3159c25eb4\")>,\n",
       " <selenium.webdriver.remote.webelement.WebElement (session=\"4401ab3cebc88170704cc54570ed4ea3\", element=\"6662b631-d3bf-4ccd-9913-346db3be4d1e\")>,\n",
       " <selenium.webdriver.remote.webelement.WebElement (session=\"4401ab3cebc88170704cc54570ed4ea3\", element=\"679e2b4f-581f-4ef4-92ce-2853c66b66ab\")>,\n",
       " <selenium.webdriver.remote.webelement.WebElement (session=\"4401ab3cebc88170704cc54570ed4ea3\", element=\"07666a4c-4179-493b-b127-e340d196f14c\")>,\n",
       " <selenium.webdriver.remote.webelement.WebElement (session=\"4401ab3cebc88170704cc54570ed4ea3\", element=\"999a0012-2a08-4c48-95cb-1743e69e6806\")>,\n",
       " <selenium.webdriver.remote.webelement.WebElement (session=\"4401ab3cebc88170704cc54570ed4ea3\", element=\"895e5592-d85f-4638-a3ee-56eed8a84670\")>,\n",
       " <selenium.webdriver.remote.webelement.WebElement (session=\"4401ab3cebc88170704cc54570ed4ea3\", element=\"840a0489-f7b0-407a-aa2e-b071184c0517\")>,\n",
       " <selenium.webdriver.remote.webelement.WebElement (session=\"4401ab3cebc88170704cc54570ed4ea3\", element=\"72a0a9c6-af47-45e2-8025-1bb3dae7bd6e\")>,\n",
       " <selenium.webdriver.remote.webelement.WebElement (session=\"4401ab3cebc88170704cc54570ed4ea3\", element=\"ac0f0746-9766-4d53-90f7-3b1c19d0bfaf\")>,\n",
       " <selenium.webdriver.remote.webelement.WebElement (session=\"4401ab3cebc88170704cc54570ed4ea3\", element=\"a9fff5f1-8ddc-4f77-9228-4265ec8ef17d\")>,\n",
       " <selenium.webdriver.remote.webelement.WebElement (session=\"4401ab3cebc88170704cc54570ed4ea3\", element=\"171d3d13-7289-421f-a1c8-b0050bcf6cce\")>,\n",
       " <selenium.webdriver.remote.webelement.WebElement (session=\"4401ab3cebc88170704cc54570ed4ea3\", element=\"14f4b66d-2c78-439f-95fc-738afddd15ac\")>]"
      ]
     },
     "execution_count": 168,
     "metadata": {},
     "output_type": "execute_result"
    }
   ],
   "source": [
    "brand_tags=driver.find_elements_by_xpath(\"//h3[@class='product-brand']\")\n",
    "brand_tags[0:100]"
   ]
  },
  {
   "cell_type": "code",
   "execution_count": 169,
   "id": "77264d0b",
   "metadata": {},
   "outputs": [
    {
     "data": {
      "text/plain": [
       "['ASICS',\n",
       " 'Puma',\n",
       " 'ADIDAS',\n",
       " 'Puma',\n",
       " 'Nike',\n",
       " 'Puma',\n",
       " 'FORCLAZ By Decathlon',\n",
       " 'ASICS',\n",
       " 'Hush Puppies',\n",
       " 'Puma',\n",
       " 'Hush Puppies',\n",
       " 'Hush Puppies',\n",
       " 'Hush Puppies',\n",
       " 'Xtep',\n",
       " 'UNDER ARMOUR',\n",
       " 'Hush Puppies',\n",
       " 'Heel & Buckle London',\n",
       " 'Saint G',\n",
       " 'Bugatti',\n",
       " 'ASICS',\n",
       " 'Puma',\n",
       " 'ASICS',\n",
       " 'Saint G',\n",
       " 'Skechers',\n",
       " 'Hush Puppies',\n",
       " 'Hush Puppies',\n",
       " 'Saint G',\n",
       " 'Skechers',\n",
       " 'Bugatti',\n",
       " 'Ruosh',\n",
       " 'Saint G',\n",
       " 'Geox',\n",
       " 'Pavers England',\n",
       " 'DAVINCHI',\n",
       " 'DAVINCHI',\n",
       " 'Cole Haan',\n",
       " 'ASICS',\n",
       " 'Saint G',\n",
       " 'Bugatti',\n",
       " 'H&M',\n",
       " 'Hush Puppies',\n",
       " 'RARE RABBIT',\n",
       " 'J.FONTINI',\n",
       " 'ASICS',\n",
       " 'MANGO',\n",
       " 'Geox',\n",
       " 'Clarks',\n",
       " 'DAVINCHI',\n",
       " 'Heel & Buckle London',\n",
       " 'H&M']"
      ]
     },
     "execution_count": 169,
     "metadata": {},
     "output_type": "execute_result"
    }
   ],
   "source": [
    "for i in brand_tags:\n",
    "    brand=i.text\n",
    "    brand_shoes.append(brand)\n",
    "brand_shoes[0:100]"
   ]
  },
  {
   "cell_type": "markdown",
   "id": "008b317a",
   "metadata": {},
   "source": [
    "# PRICE"
   ]
  },
  {
   "cell_type": "code",
   "execution_count": 170,
   "id": "43dbfb29",
   "metadata": {},
   "outputs": [
    {
     "data": {
      "text/plain": [
       "[<selenium.webdriver.remote.webelement.WebElement (session=\"4401ab3cebc88170704cc54570ed4ea3\", element=\"d32e26f4-769a-4b2d-bf70-62a8464fb82c\")>,\n",
       " <selenium.webdriver.remote.webelement.WebElement (session=\"4401ab3cebc88170704cc54570ed4ea3\", element=\"a91bfba4-57df-49f8-8374-78210cd56974\")>,\n",
       " <selenium.webdriver.remote.webelement.WebElement (session=\"4401ab3cebc88170704cc54570ed4ea3\", element=\"42dd7bb3-9a90-45d2-8328-52f2214f6eaf\")>,\n",
       " <selenium.webdriver.remote.webelement.WebElement (session=\"4401ab3cebc88170704cc54570ed4ea3\", element=\"f61365fb-b933-48ad-bc4c-c5b3b57fd671\")>,\n",
       " <selenium.webdriver.remote.webelement.WebElement (session=\"4401ab3cebc88170704cc54570ed4ea3\", element=\"42604ff1-a959-4046-97a0-5a597eb7a90d\")>,\n",
       " <selenium.webdriver.remote.webelement.WebElement (session=\"4401ab3cebc88170704cc54570ed4ea3\", element=\"cbc1ab6f-a25c-4c89-97b1-abde8bb75f3b\")>,\n",
       " <selenium.webdriver.remote.webelement.WebElement (session=\"4401ab3cebc88170704cc54570ed4ea3\", element=\"722e2354-51a3-4a08-b708-432c7b7656a3\")>,\n",
       " <selenium.webdriver.remote.webelement.WebElement (session=\"4401ab3cebc88170704cc54570ed4ea3\", element=\"ebe70732-53ed-4994-8b54-f76536e7be04\")>,\n",
       " <selenium.webdriver.remote.webelement.WebElement (session=\"4401ab3cebc88170704cc54570ed4ea3\", element=\"c3482b1b-394c-49f4-be1e-963f419863a4\")>,\n",
       " <selenium.webdriver.remote.webelement.WebElement (session=\"4401ab3cebc88170704cc54570ed4ea3\", element=\"9b9324bb-7af3-4522-a6a7-2067e5108e36\")>,\n",
       " <selenium.webdriver.remote.webelement.WebElement (session=\"4401ab3cebc88170704cc54570ed4ea3\", element=\"0773e77c-fc46-4a47-af91-838a0c1789f9\")>,\n",
       " <selenium.webdriver.remote.webelement.WebElement (session=\"4401ab3cebc88170704cc54570ed4ea3\", element=\"c31f99d8-b177-4be1-840b-a3ed61a4132e\")>,\n",
       " <selenium.webdriver.remote.webelement.WebElement (session=\"4401ab3cebc88170704cc54570ed4ea3\", element=\"d0c45c10-1bec-4042-a588-537cf1dd90ba\")>,\n",
       " <selenium.webdriver.remote.webelement.WebElement (session=\"4401ab3cebc88170704cc54570ed4ea3\", element=\"4975c30d-e53d-48ea-a651-307db1aa8da8\")>,\n",
       " <selenium.webdriver.remote.webelement.WebElement (session=\"4401ab3cebc88170704cc54570ed4ea3\", element=\"51f4f927-d25e-4548-b5b5-4198b12b66b8\")>,\n",
       " <selenium.webdriver.remote.webelement.WebElement (session=\"4401ab3cebc88170704cc54570ed4ea3\", element=\"54b5c6f4-c3d5-4f2b-8127-871543729c48\")>,\n",
       " <selenium.webdriver.remote.webelement.WebElement (session=\"4401ab3cebc88170704cc54570ed4ea3\", element=\"ea893a56-cc3f-4e8a-b4b2-83981c1f0c0e\")>,\n",
       " <selenium.webdriver.remote.webelement.WebElement (session=\"4401ab3cebc88170704cc54570ed4ea3\", element=\"39858ac1-9865-4051-bbef-f8378c4ddf36\")>,\n",
       " <selenium.webdriver.remote.webelement.WebElement (session=\"4401ab3cebc88170704cc54570ed4ea3\", element=\"584358d7-cec6-42c4-9fc1-cd80de282bf3\")>,\n",
       " <selenium.webdriver.remote.webelement.WebElement (session=\"4401ab3cebc88170704cc54570ed4ea3\", element=\"76b3d77b-697e-4fa7-ba64-f82ca87b822a\")>,\n",
       " <selenium.webdriver.remote.webelement.WebElement (session=\"4401ab3cebc88170704cc54570ed4ea3\", element=\"a9cca068-386b-40c9-ac42-ceb63334f2b2\")>,\n",
       " <selenium.webdriver.remote.webelement.WebElement (session=\"4401ab3cebc88170704cc54570ed4ea3\", element=\"be140129-dd67-4f98-ba58-8573727e692a\")>,\n",
       " <selenium.webdriver.remote.webelement.WebElement (session=\"4401ab3cebc88170704cc54570ed4ea3\", element=\"1739b665-5f64-4604-b0ff-be5ae4810059\")>,\n",
       " <selenium.webdriver.remote.webelement.WebElement (session=\"4401ab3cebc88170704cc54570ed4ea3\", element=\"fa6bc981-74d8-482d-87c2-ebf633bb2419\")>,\n",
       " <selenium.webdriver.remote.webelement.WebElement (session=\"4401ab3cebc88170704cc54570ed4ea3\", element=\"c4107998-f4c0-4634-a031-3211d8f14e51\")>,\n",
       " <selenium.webdriver.remote.webelement.WebElement (session=\"4401ab3cebc88170704cc54570ed4ea3\", element=\"d002ac9c-27c9-46e3-b75c-8c2f7ed856d6\")>,\n",
       " <selenium.webdriver.remote.webelement.WebElement (session=\"4401ab3cebc88170704cc54570ed4ea3\", element=\"6869f6a3-8ae0-4686-853a-4c9a78422553\")>,\n",
       " <selenium.webdriver.remote.webelement.WebElement (session=\"4401ab3cebc88170704cc54570ed4ea3\", element=\"770c2a62-265e-41a1-914a-812ee7078832\")>,\n",
       " <selenium.webdriver.remote.webelement.WebElement (session=\"4401ab3cebc88170704cc54570ed4ea3\", element=\"37dd069e-6c73-47e6-8e51-96ce710cdc26\")>,\n",
       " <selenium.webdriver.remote.webelement.WebElement (session=\"4401ab3cebc88170704cc54570ed4ea3\", element=\"794fead8-3552-4243-8634-98452cc44909\")>,\n",
       " <selenium.webdriver.remote.webelement.WebElement (session=\"4401ab3cebc88170704cc54570ed4ea3\", element=\"51a5f57d-1130-468d-91c6-bc8edeee6cc4\")>,\n",
       " <selenium.webdriver.remote.webelement.WebElement (session=\"4401ab3cebc88170704cc54570ed4ea3\", element=\"aa6bf93c-7ad8-4872-9d99-f813b8f28387\")>,\n",
       " <selenium.webdriver.remote.webelement.WebElement (session=\"4401ab3cebc88170704cc54570ed4ea3\", element=\"a881fbcc-a771-44bc-9ffa-ac9d64b835b6\")>,\n",
       " <selenium.webdriver.remote.webelement.WebElement (session=\"4401ab3cebc88170704cc54570ed4ea3\", element=\"2f42ad1c-7814-4a08-a2cf-724db91ea1dd\")>,\n",
       " <selenium.webdriver.remote.webelement.WebElement (session=\"4401ab3cebc88170704cc54570ed4ea3\", element=\"1bf932c7-5558-447c-ae12-a0cb7265f371\")>,\n",
       " <selenium.webdriver.remote.webelement.WebElement (session=\"4401ab3cebc88170704cc54570ed4ea3\", element=\"bf82eb9a-1024-41f4-a4f2-6dd39cc2e106\")>,\n",
       " <selenium.webdriver.remote.webelement.WebElement (session=\"4401ab3cebc88170704cc54570ed4ea3\", element=\"d27a063c-4a41-4a3c-baa6-c478de3a195c\")>,\n",
       " <selenium.webdriver.remote.webelement.WebElement (session=\"4401ab3cebc88170704cc54570ed4ea3\", element=\"530a7c67-a368-4d99-bbbf-a728e35efd1c\")>,\n",
       " <selenium.webdriver.remote.webelement.WebElement (session=\"4401ab3cebc88170704cc54570ed4ea3\", element=\"25f094a9-e88c-4594-a7a4-3e6783128d3d\")>,\n",
       " <selenium.webdriver.remote.webelement.WebElement (session=\"4401ab3cebc88170704cc54570ed4ea3\", element=\"40b056d5-70cb-413a-bb1d-19245067433e\")>,\n",
       " <selenium.webdriver.remote.webelement.WebElement (session=\"4401ab3cebc88170704cc54570ed4ea3\", element=\"197e96c3-67fa-4ee9-92c2-9e4e904dc74f\")>,\n",
       " <selenium.webdriver.remote.webelement.WebElement (session=\"4401ab3cebc88170704cc54570ed4ea3\", element=\"4f463522-563a-4a17-8437-cc0ade920605\")>,\n",
       " <selenium.webdriver.remote.webelement.WebElement (session=\"4401ab3cebc88170704cc54570ed4ea3\", element=\"90c52dc5-2f98-4552-ada4-b2af41d2cbcb\")>,\n",
       " <selenium.webdriver.remote.webelement.WebElement (session=\"4401ab3cebc88170704cc54570ed4ea3\", element=\"f4470025-6ee1-4c51-b93e-79f1938d42a2\")>,\n",
       " <selenium.webdriver.remote.webelement.WebElement (session=\"4401ab3cebc88170704cc54570ed4ea3\", element=\"1a56cf4d-ebff-4052-b430-8270a87d04b8\")>,\n",
       " <selenium.webdriver.remote.webelement.WebElement (session=\"4401ab3cebc88170704cc54570ed4ea3\", element=\"4e5bb5a8-a93a-4d62-9b09-6ac6cddb5e36\")>,\n",
       " <selenium.webdriver.remote.webelement.WebElement (session=\"4401ab3cebc88170704cc54570ed4ea3\", element=\"5cbf2f59-f7bb-4410-a78c-d889c0c41a72\")>,\n",
       " <selenium.webdriver.remote.webelement.WebElement (session=\"4401ab3cebc88170704cc54570ed4ea3\", element=\"aa653570-21bb-4289-92ef-2bb7735110c7\")>,\n",
       " <selenium.webdriver.remote.webelement.WebElement (session=\"4401ab3cebc88170704cc54570ed4ea3\", element=\"4356d37a-197a-4c84-a6a7-db0b97c7a643\")>,\n",
       " <selenium.webdriver.remote.webelement.WebElement (session=\"4401ab3cebc88170704cc54570ed4ea3\", element=\"7575e5f8-84f2-471f-9825-d270aeddd848\")>]"
      ]
     },
     "execution_count": 170,
     "metadata": {},
     "output_type": "execute_result"
    }
   ],
   "source": [
    "price_tags=driver.find_elements_by_xpath(\"//div[@class='product-price']\")\n",
    "price_tags[0:100]"
   ]
  },
  {
   "cell_type": "code",
   "execution_count": 171,
   "id": "92b1c248",
   "metadata": {},
   "outputs": [
    {
     "data": {
      "text/plain": [
       "['Rs. 10499Rs. 14999(30% OFF)',\n",
       " 'Rs. 8249Rs. 14999(45% OFF)',\n",
       " 'Rs. 7599',\n",
       " 'Rs. 6499Rs. 12999(50% OFF)',\n",
       " 'Rs. 8295',\n",
       " 'Rs. 6499Rs. 12999(50% OFF)',\n",
       " 'Rs. 6999',\n",
       " 'Rs. 7999',\n",
       " 'Rs. 6299Rs. 6999(10% OFF)',\n",
       " 'Rs. 7799Rs. 12999(40% OFF)',\n",
       " 'Rs. 8099Rs. 8999(10% OFF)',\n",
       " 'Rs. 8999Rs. 9999(10% OFF)',\n",
       " 'Rs. 8999Rs. 9999(10% OFF)',\n",
       " 'Rs. 6999',\n",
       " 'Rs. 7999',\n",
       " 'Rs. 8999Rs. 9999(10% OFF)',\n",
       " 'Rs. 6293Rs. 8990(30% OFF)',\n",
       " 'Rs. 11900Rs. 13900(Rs. 2000 OFF)',\n",
       " 'Rs. 11999',\n",
       " 'Rs. 7999',\n",
       " 'Rs. 6499Rs. 12999(50% OFF)',\n",
       " 'Rs. 6999',\n",
       " 'Rs. 9810Rs. 10900(Rs. 1090 OFF)',\n",
       " 'Rs. 6499',\n",
       " 'Rs. 7999Rs. 9999(20% OFF)',\n",
       " 'Rs. 8999Rs. 9999(10% OFF)',\n",
       " 'Rs. 10350Rs. 11500(Rs. 1150 OFF)',\n",
       " 'Rs. 6499',\n",
       " 'Rs. 9999',\n",
       " 'Rs. 6990',\n",
       " 'Rs. 9800Rs. 13900(Rs. 4100 OFF)',\n",
       " 'Rs. 11999',\n",
       " 'Rs. 8999',\n",
       " 'Rs. 8990',\n",
       " 'Rs. 8990',\n",
       " 'Rs. 10399Rs. 12999(20% OFF)',\n",
       " 'Rs. 8999Rs. 9999(10% OFF)',\n",
       " 'Rs. 6900Rs. 8900(Rs. 2000 OFF)',\n",
       " 'Rs. 8799Rs. 10999(20% OFF)',\n",
       " 'Rs. 6999',\n",
       " 'Rs. 6299Rs. 6999(10% OFF)',\n",
       " 'Rs. 6499Rs. 9999(35% OFF)',\n",
       " 'Rs. 7990',\n",
       " 'Rs. 7999',\n",
       " 'Rs. 6791Rs. 7990(15% OFF)',\n",
       " 'Rs. 9999',\n",
       " 'Rs. 7999',\n",
       " 'Rs. 7990',\n",
       " 'Rs. 7693Rs. 10990(30% OFF)',\n",
       " 'Rs. 6999']"
      ]
     },
     "execution_count": 171,
     "metadata": {},
     "output_type": "execute_result"
    }
   ],
   "source": [
    "for i in price_tags:\n",
    "    price=i.text\n",
    "    price_shoes.append(price)\n",
    "price_shoes[0:100]"
   ]
  },
  {
   "cell_type": "markdown",
   "id": "d48e9695",
   "metadata": {},
   "source": [
    "# DESCRIPTION"
   ]
  },
  {
   "cell_type": "code",
   "execution_count": 172,
   "id": "d52929c8",
   "metadata": {},
   "outputs": [
    {
     "data": {
      "text/plain": [
       "[<selenium.webdriver.remote.webelement.WebElement (session=\"4401ab3cebc88170704cc54570ed4ea3\", element=\"45b516e1-09b7-43e5-a4de-accfcf688bca\")>,\n",
       " <selenium.webdriver.remote.webelement.WebElement (session=\"4401ab3cebc88170704cc54570ed4ea3\", element=\"0ff64c64-621b-4b91-a51f-b8cc25c3e269\")>,\n",
       " <selenium.webdriver.remote.webelement.WebElement (session=\"4401ab3cebc88170704cc54570ed4ea3\", element=\"930352ab-af0a-4c41-b8e7-dbdb47431e5f\")>,\n",
       " <selenium.webdriver.remote.webelement.WebElement (session=\"4401ab3cebc88170704cc54570ed4ea3\", element=\"04eb141f-ec64-4837-909b-53ed313833c1\")>,\n",
       " <selenium.webdriver.remote.webelement.WebElement (session=\"4401ab3cebc88170704cc54570ed4ea3\", element=\"9634a447-d17e-4407-b3bb-6605947c8adb\")>,\n",
       " <selenium.webdriver.remote.webelement.WebElement (session=\"4401ab3cebc88170704cc54570ed4ea3\", element=\"8230068b-a185-4a2f-a288-c0cc84ba7d6c\")>,\n",
       " <selenium.webdriver.remote.webelement.WebElement (session=\"4401ab3cebc88170704cc54570ed4ea3\", element=\"11ff2a46-cdcb-4efc-8605-fcdc7f6b4c82\")>,\n",
       " <selenium.webdriver.remote.webelement.WebElement (session=\"4401ab3cebc88170704cc54570ed4ea3\", element=\"24292b78-7b6a-4361-ba11-3fbcd79e290c\")>,\n",
       " <selenium.webdriver.remote.webelement.WebElement (session=\"4401ab3cebc88170704cc54570ed4ea3\", element=\"febfbb95-4849-4aab-8c9d-5f93c2146710\")>,\n",
       " <selenium.webdriver.remote.webelement.WebElement (session=\"4401ab3cebc88170704cc54570ed4ea3\", element=\"ccf240ad-6040-4246-b0fe-7712267f976d\")>,\n",
       " <selenium.webdriver.remote.webelement.WebElement (session=\"4401ab3cebc88170704cc54570ed4ea3\", element=\"c8036d40-94a8-4c60-bd52-fc5bd89f37c6\")>,\n",
       " <selenium.webdriver.remote.webelement.WebElement (session=\"4401ab3cebc88170704cc54570ed4ea3\", element=\"076e0ace-07ff-4d24-8db0-4c340da1c7da\")>,\n",
       " <selenium.webdriver.remote.webelement.WebElement (session=\"4401ab3cebc88170704cc54570ed4ea3\", element=\"8c573aab-3228-411a-99dd-89f1ff0000cf\")>,\n",
       " <selenium.webdriver.remote.webelement.WebElement (session=\"4401ab3cebc88170704cc54570ed4ea3\", element=\"c01f587a-fbf2-4c91-9dc9-efe64bdddda7\")>,\n",
       " <selenium.webdriver.remote.webelement.WebElement (session=\"4401ab3cebc88170704cc54570ed4ea3\", element=\"1c2bf8bf-7d8b-49ae-b2c7-2ad64045d7ed\")>,\n",
       " <selenium.webdriver.remote.webelement.WebElement (session=\"4401ab3cebc88170704cc54570ed4ea3\", element=\"f5c7e40c-d86b-493d-8cdc-963747b2e2c9\")>,\n",
       " <selenium.webdriver.remote.webelement.WebElement (session=\"4401ab3cebc88170704cc54570ed4ea3\", element=\"a03a403a-01a6-4aaa-ab75-0c8f37de975a\")>,\n",
       " <selenium.webdriver.remote.webelement.WebElement (session=\"4401ab3cebc88170704cc54570ed4ea3\", element=\"8bd7e0b0-b7fd-45b9-87f3-09f1a2f0cb5f\")>,\n",
       " <selenium.webdriver.remote.webelement.WebElement (session=\"4401ab3cebc88170704cc54570ed4ea3\", element=\"a003d669-e35f-4f0c-a6e3-9379748c5efe\")>,\n",
       " <selenium.webdriver.remote.webelement.WebElement (session=\"4401ab3cebc88170704cc54570ed4ea3\", element=\"ac57a2b7-fe1c-4c33-8272-8da634166ab0\")>,\n",
       " <selenium.webdriver.remote.webelement.WebElement (session=\"4401ab3cebc88170704cc54570ed4ea3\", element=\"83109ca5-707c-4bab-9ae5-be2e3bbfb1f3\")>,\n",
       " <selenium.webdriver.remote.webelement.WebElement (session=\"4401ab3cebc88170704cc54570ed4ea3\", element=\"6ecef47c-d614-470d-b061-2ff4f48a11d9\")>,\n",
       " <selenium.webdriver.remote.webelement.WebElement (session=\"4401ab3cebc88170704cc54570ed4ea3\", element=\"87cd5a13-8d8f-42f1-9ca9-0103d67279b2\")>,\n",
       " <selenium.webdriver.remote.webelement.WebElement (session=\"4401ab3cebc88170704cc54570ed4ea3\", element=\"9d8257fa-790d-4017-a975-c91139713b40\")>,\n",
       " <selenium.webdriver.remote.webelement.WebElement (session=\"4401ab3cebc88170704cc54570ed4ea3\", element=\"2c9bb822-0eac-4910-bf31-17880d737269\")>,\n",
       " <selenium.webdriver.remote.webelement.WebElement (session=\"4401ab3cebc88170704cc54570ed4ea3\", element=\"42dd0ad5-a477-40ed-8587-662ed41d0ef2\")>,\n",
       " <selenium.webdriver.remote.webelement.WebElement (session=\"4401ab3cebc88170704cc54570ed4ea3\", element=\"d1f44268-f3f2-4236-9838-93f0e2c06691\")>,\n",
       " <selenium.webdriver.remote.webelement.WebElement (session=\"4401ab3cebc88170704cc54570ed4ea3\", element=\"aae58034-7152-4cf9-8aea-8fcbaf2e6b1e\")>,\n",
       " <selenium.webdriver.remote.webelement.WebElement (session=\"4401ab3cebc88170704cc54570ed4ea3\", element=\"284a11c4-99a0-4945-918b-cc3df7c41089\")>,\n",
       " <selenium.webdriver.remote.webelement.WebElement (session=\"4401ab3cebc88170704cc54570ed4ea3\", element=\"535458d0-9435-4f4d-93f7-bfe02ee2509c\")>,\n",
       " <selenium.webdriver.remote.webelement.WebElement (session=\"4401ab3cebc88170704cc54570ed4ea3\", element=\"e8d284f2-60c0-42af-8065-9165b82921d0\")>,\n",
       " <selenium.webdriver.remote.webelement.WebElement (session=\"4401ab3cebc88170704cc54570ed4ea3\", element=\"b09d388c-2e04-47a9-9757-da9ce10e5c9a\")>,\n",
       " <selenium.webdriver.remote.webelement.WebElement (session=\"4401ab3cebc88170704cc54570ed4ea3\", element=\"f54e8835-d00c-4329-995b-261833071787\")>,\n",
       " <selenium.webdriver.remote.webelement.WebElement (session=\"4401ab3cebc88170704cc54570ed4ea3\", element=\"c5fd2472-8f5e-4090-8faa-e7f656924957\")>,\n",
       " <selenium.webdriver.remote.webelement.WebElement (session=\"4401ab3cebc88170704cc54570ed4ea3\", element=\"ed86ca91-1241-440a-a61e-e3296c5bedfe\")>,\n",
       " <selenium.webdriver.remote.webelement.WebElement (session=\"4401ab3cebc88170704cc54570ed4ea3\", element=\"3b6853f6-7cf8-4409-a7ee-aa52a6118469\")>,\n",
       " <selenium.webdriver.remote.webelement.WebElement (session=\"4401ab3cebc88170704cc54570ed4ea3\", element=\"da5828e2-aa98-4780-b6b7-b8e7001b0ca8\")>,\n",
       " <selenium.webdriver.remote.webelement.WebElement (session=\"4401ab3cebc88170704cc54570ed4ea3\", element=\"ab58c209-cfac-4ac9-b65d-88a5517205e2\")>,\n",
       " <selenium.webdriver.remote.webelement.WebElement (session=\"4401ab3cebc88170704cc54570ed4ea3\", element=\"c1df25a8-ca35-4acd-aad1-86e96855eb3b\")>,\n",
       " <selenium.webdriver.remote.webelement.WebElement (session=\"4401ab3cebc88170704cc54570ed4ea3\", element=\"bccda6ea-6c64-4ef5-aac2-ca5cc4b4022b\")>,\n",
       " <selenium.webdriver.remote.webelement.WebElement (session=\"4401ab3cebc88170704cc54570ed4ea3\", element=\"82421c20-7f5f-448e-8a9f-95eceddf437d\")>,\n",
       " <selenium.webdriver.remote.webelement.WebElement (session=\"4401ab3cebc88170704cc54570ed4ea3\", element=\"97a9c9c2-1505-48a6-a455-5e5600f507d1\")>,\n",
       " <selenium.webdriver.remote.webelement.WebElement (session=\"4401ab3cebc88170704cc54570ed4ea3\", element=\"0e0ab0b1-928b-4fe9-8c70-8e30100c85ad\")>,\n",
       " <selenium.webdriver.remote.webelement.WebElement (session=\"4401ab3cebc88170704cc54570ed4ea3\", element=\"7c0021d7-5bc5-4132-8f71-20daa289903b\")>,\n",
       " <selenium.webdriver.remote.webelement.WebElement (session=\"4401ab3cebc88170704cc54570ed4ea3\", element=\"8d5c36ba-fc5c-4a4b-9487-d7e132b46b82\")>,\n",
       " <selenium.webdriver.remote.webelement.WebElement (session=\"4401ab3cebc88170704cc54570ed4ea3\", element=\"352c934e-7d16-40ee-89b4-b939ce3f22b0\")>,\n",
       " <selenium.webdriver.remote.webelement.WebElement (session=\"4401ab3cebc88170704cc54570ed4ea3\", element=\"d3d918d9-17ca-4acb-a784-08b49c9ee4bd\")>,\n",
       " <selenium.webdriver.remote.webelement.WebElement (session=\"4401ab3cebc88170704cc54570ed4ea3\", element=\"70d8dde1-464d-4c2d-aa11-706c3de004e3\")>,\n",
       " <selenium.webdriver.remote.webelement.WebElement (session=\"4401ab3cebc88170704cc54570ed4ea3\", element=\"abd1e405-4886-4084-a35c-8f36370beb1e\")>,\n",
       " <selenium.webdriver.remote.webelement.WebElement (session=\"4401ab3cebc88170704cc54570ed4ea3\", element=\"7417947b-a112-4c2f-9cc0-3ad87f71be64\")>]"
      ]
     },
     "execution_count": 172,
     "metadata": {},
     "output_type": "execute_result"
    }
   ],
   "source": [
    "desc_tags=driver.find_elements_by_xpath(\"//h4[@class='product-product']\")\n",
    "desc_tags[0:100]"
   ]
  },
  {
   "cell_type": "code",
   "execution_count": 173,
   "id": "f32be331",
   "metadata": {},
   "outputs": [
    {
     "data": {
      "text/plain": [
       "['Men GEL-KAYANO 27 Shoes',\n",
       " 'Men Deviate Nitro Running Shoe',\n",
       " 'Women Running Shoes',\n",
       " 'Men Running Shoes',\n",
       " 'Men Waffle One SE Sneakers',\n",
       " 'Women Eternity NITRO Shoes',\n",
       " 'TREKKING 100 Boots',\n",
       " 'Men Black Running Sports Shoes',\n",
       " 'Men Leather Slip-On Sneakers',\n",
       " 'Men Magnify Nitro Running',\n",
       " 'Men Solid Leather Formal Slip-Ons',\n",
       " 'Men Solid Leather Formal Derbys',\n",
       " 'Men Formal Derbys',\n",
       " 'Men Running Shoes',\n",
       " 'Women Charged Vantage ClrShft',\n",
       " 'Men Solid Formal Slip-Ons',\n",
       " 'Men Leather Loafers',\n",
       " 'Women Leather Heeled Boots',\n",
       " 'Men Textured Leather High-Top Flat Boots',\n",
       " 'Men Running Shoes',\n",
       " 'Women Magnify Nitro Shoes',\n",
       " 'Men GT-800 Running Shoes',\n",
       " 'Men Mid-Top Chelsea Boots',\n",
       " 'Men TR Ultra Sneakers',\n",
       " 'Men Leather Slip-On Sneakers',\n",
       " 'Men Solid Leather Formal Slip-Ons',\n",
       " 'Suede Block Heeled Boots',\n",
       " 'Women BILLION SUBTLE Sneakers',\n",
       " 'Leather Block Heeled Boots',\n",
       " 'Men Leather Slip-On Shoes',\n",
       " 'Women High-Top Heeled Boots',\n",
       " 'Men Leather Flat Boots',\n",
       " 'Men Solid Leather Formal Debys',\n",
       " 'Ustraa black',\n",
       " 'Men Textured Leather Formal Oxfords',\n",
       " 'Men Wingtip Oxford Sneakers',\n",
       " 'Men Colourblocked PU Sneakers',\n",
       " 'Women Leather Heeled Boots',\n",
       " 'Men Sneakers',\n",
       " 'Leather Chelsea Boots',\n",
       " 'Men Leather Formal Derbys',\n",
       " 'Men Leather Formal Slip-Ons',\n",
       " 'Men Textured Leather Loafers',\n",
       " 'Skycourt Sneakers',\n",
       " 'Women Mid Top Chunky Flat Boot',\n",
       " 'Men Leather Formal Derbys',\n",
       " 'Men Solid Leather Formal Loafers',\n",
       " 'Men Solid Leather Formal Derbys',\n",
       " 'Men Solid Leather Formal Penny Loafers',\n",
       " 'Chunky Leather Chelsea Boots']"
      ]
     },
     "execution_count": 173,
     "metadata": {},
     "output_type": "execute_result"
    }
   ],
   "source": [
    "for i in desc_tags:\n",
    "    desc=i.text\n",
    "    desc_shoes.append(desc)\n",
    "desc_shoes[0:100]"
   ]
  },
  {
   "cell_type": "markdown",
   "id": "aa3fb01f",
   "metadata": {},
   "source": [
    "Q8: Go to webpage https://www.amazon.in/ \n",
    "Enter “Laptop” in the search field and then click the search icon. \n",
    "Then set CPU Type filter to “Intel Core i7” and “Intel Core i9” as shown in the below image: \n",
    " \n",
    "  \n",
    " \n",
    "After setting the filters scrape first 10 laptops data. You have to scrape 3 attributes for each laptop: \n",
    "1.\tTitle \n",
    "2.\tRatings \n",
    "3.\tPrice \n",
    "As shown in the below image as the tick marked attributes. \n",
    " \n",
    " \n",
    " \n",
    " \n",
    "Note: All the steps required during scraping should be done through code only and not manually\n"
   ]
  },
  {
   "cell_type": "code",
   "execution_count": 174,
   "id": "f512d914",
   "metadata": {},
   "outputs": [
    {
     "name": "stdout",
     "output_type": "stream",
     "text": [
      "Requirement already satisfied: selenium in c:\\users\\pravat\\anaconda3\\lib\\site-packages (4.1.0)\n",
      "Requirement already satisfied: trio~=0.17 in c:\\users\\pravat\\anaconda3\\lib\\site-packages (from selenium) (0.19.0)\n",
      "Requirement already satisfied: urllib3[secure]~=1.26 in c:\\users\\pravat\\anaconda3\\lib\\site-packages (from selenium) (1.26.4)\n",
      "Requirement already satisfied: trio-websocket~=0.9 in c:\\users\\pravat\\anaconda3\\lib\\site-packages (from selenium) (0.9.2)\n",
      "Requirement already satisfied: async-generator>=1.9 in c:\\users\\pravat\\anaconda3\\lib\\site-packages (from trio~=0.17->selenium) (1.10)\n",
      "Requirement already satisfied: idna in c:\\users\\pravat\\anaconda3\\lib\\site-packages (from trio~=0.17->selenium) (2.10)\n",
      "Requirement already satisfied: cffi>=1.14 in c:\\users\\pravat\\anaconda3\\lib\\site-packages (from trio~=0.17->selenium) (1.14.5)\n",
      "Requirement already satisfied: sniffio in c:\\users\\pravat\\anaconda3\\lib\\site-packages (from trio~=0.17->selenium) (1.2.0)\n",
      "Requirement already satisfied: sortedcontainers in c:\\users\\pravat\\anaconda3\\lib\\site-packages (from trio~=0.17->selenium) (2.3.0)\n",
      "Requirement already satisfied: outcome in c:\\users\\pravat\\anaconda3\\lib\\site-packages (from trio~=0.17->selenium) (1.1.0)\n",
      "Requirement already satisfied: attrs>=19.2.0 in c:\\users\\pravat\\anaconda3\\lib\\site-packages (from trio~=0.17->selenium) (20.3.0)\n",
      "Requirement already satisfied: pycparser in c:\\users\\pravat\\anaconda3\\lib\\site-packages (from cffi>=1.14->trio~=0.17->selenium) (2.20)\n",
      "Requirement already satisfied: wsproto>=0.14 in c:\\users\\pravat\\anaconda3\\lib\\site-packages (from trio-websocket~=0.9->selenium) (1.0.0)\n",
      "Requirement already satisfied: certifi in c:\\users\\pravat\\anaconda3\\lib\\site-packages (from urllib3[secure]~=1.26->selenium) (2020.12.5)\n",
      "Requirement already satisfied: cryptography>=1.3.4 in c:\\users\\pravat\\anaconda3\\lib\\site-packages (from urllib3[secure]~=1.26->selenium) (3.4.7)\n",
      "Requirement already satisfied: pyOpenSSL>=0.14 in c:\\users\\pravat\\anaconda3\\lib\\site-packages (from urllib3[secure]~=1.26->selenium) (20.0.1)\n",
      "Requirement already satisfied: six>=1.5.2 in c:\\users\\pravat\\anaconda3\\lib\\site-packages (from pyOpenSSL>=0.14->urllib3[secure]~=1.26->selenium) (1.15.0)\n",
      "Requirement already satisfied: h11<1,>=0.9.0 in c:\\users\\pravat\\anaconda3\\lib\\site-packages (from wsproto>=0.14->trio-websocket~=0.9->selenium) (0.12.0)\n"
     ]
    }
   ],
   "source": [
    "! pip install selenium"
   ]
  },
  {
   "cell_type": "code",
   "execution_count": 191,
   "id": "313dfb5d",
   "metadata": {},
   "outputs": [],
   "source": [
    "import selenium \n",
    "import pandas as pd\n",
    "from selenium import webdriver\n",
    "import warnings\n",
    "warnings.filterwarnings(\"ignore\")"
   ]
  },
  {
   "cell_type": "code",
   "execution_count": 192,
   "id": "09d489f8",
   "metadata": {},
   "outputs": [],
   "source": [
    "driver=webdriver.Chrome(r\"C:/Users/pravat/Downloads/chromedriver_win32/chromedriver.exe\")\n",
    "warnings.filterwarnings(\"ignore\")"
   ]
  },
  {
   "cell_type": "code",
   "execution_count": 193,
   "id": "ac983e9c",
   "metadata": {},
   "outputs": [],
   "source": [
    "driver.get('https://www.amazon.in/')"
   ]
  },
  {
   "cell_type": "code",
   "execution_count": 194,
   "id": "0d8d1d3e",
   "metadata": {},
   "outputs": [],
   "source": [
    "search_product = driver.find_element_by_id(\"twotabsearchtextbox\")\n",
    "search_product.send_keys(\"Laptop\")\n"
   ]
  },
  {
   "cell_type": "code",
   "execution_count": 195,
   "id": "0c8ae473",
   "metadata": {},
   "outputs": [],
   "source": [
    "search_product = driver.find_element_by_xpath(\"//div[@class='nav-search-submit nav-sprite']\")\n",
    "search_product.click()"
   ]
  },
  {
   "cell_type": "code",
   "execution_count": 196,
   "id": "716c99cb",
   "metadata": {},
   "outputs": [],
   "source": [
    "url=\"https://www.amazon.in/s?k=Laptop+corei7+and+core+i9&rh=n%3A1375424031&ref=nb_sb_noss\""
   ]
  },
  {
   "cell_type": "code",
   "execution_count": 197,
   "id": "e1efdd72",
   "metadata": {},
   "outputs": [],
   "source": [
    "driver.get(url)"
   ]
  },
  {
   "cell_type": "code",
   "execution_count": 198,
   "id": "2e390463",
   "metadata": {},
   "outputs": [],
   "source": [
    "rating_laptop=[]\n",
    "product_desc=[]\n",
    "price_laptop=[]"
   ]
  },
  {
   "cell_type": "code",
   "execution_count": 199,
   "id": "84532286",
   "metadata": {},
   "outputs": [
    {
     "data": {
      "text/plain": [
       "[<selenium.webdriver.remote.webelement.WebElement (session=\"e061edf9a86e7b4808ce2f1c2c1148b9\", element=\"8aafda0f-d715-4eaa-9d7b-746167748cd2\")>,\n",
       " <selenium.webdriver.remote.webelement.WebElement (session=\"e061edf9a86e7b4808ce2f1c2c1148b9\", element=\"c996b1d7-b460-47bf-9fe4-3a7cfa4680d2\")>,\n",
       " <selenium.webdriver.remote.webelement.WebElement (session=\"e061edf9a86e7b4808ce2f1c2c1148b9\", element=\"9cc0e520-d821-4da2-b881-ed7c9a3a810a\")>,\n",
       " <selenium.webdriver.remote.webelement.WebElement (session=\"e061edf9a86e7b4808ce2f1c2c1148b9\", element=\"7c7abd24-1803-446b-986a-bcb933cc0756\")>,\n",
       " <selenium.webdriver.remote.webelement.WebElement (session=\"e061edf9a86e7b4808ce2f1c2c1148b9\", element=\"c723c89b-c2e6-4207-994e-568248bb9634\")>,\n",
       " <selenium.webdriver.remote.webelement.WebElement (session=\"e061edf9a86e7b4808ce2f1c2c1148b9\", element=\"d39d6ef0-ef9c-4641-8cea-23c65215331e\")>,\n",
       " <selenium.webdriver.remote.webelement.WebElement (session=\"e061edf9a86e7b4808ce2f1c2c1148b9\", element=\"696a3632-99ee-4553-a37e-251e09842b3c\")>,\n",
       " <selenium.webdriver.remote.webelement.WebElement (session=\"e061edf9a86e7b4808ce2f1c2c1148b9\", element=\"cd38a730-dfa2-47da-bbae-d2c34c43b6e7\")>,\n",
       " <selenium.webdriver.remote.webelement.WebElement (session=\"e061edf9a86e7b4808ce2f1c2c1148b9\", element=\"80d44b83-4d9e-4ce4-bb5d-6b70b2bc2d6e\")>,\n",
       " <selenium.webdriver.remote.webelement.WebElement (session=\"e061edf9a86e7b4808ce2f1c2c1148b9\", element=\"682d7e93-a902-456a-b616-c502128e20d0\")>,\n",
       " <selenium.webdriver.remote.webelement.WebElement (session=\"e061edf9a86e7b4808ce2f1c2c1148b9\", element=\"be2ee416-c9e5-4016-811f-3c89d3213aff\")>,\n",
       " <selenium.webdriver.remote.webelement.WebElement (session=\"e061edf9a86e7b4808ce2f1c2c1148b9\", element=\"7e4f7008-54d3-4b50-a118-c26db5e7c276\")>,\n",
       " <selenium.webdriver.remote.webelement.WebElement (session=\"e061edf9a86e7b4808ce2f1c2c1148b9\", element=\"2d91444b-ffd2-46f8-b301-50cbea0b791b\")>,\n",
       " <selenium.webdriver.remote.webelement.WebElement (session=\"e061edf9a86e7b4808ce2f1c2c1148b9\", element=\"f89d7103-4caf-46c6-b7c9-7a66c2988415\")>,\n",
       " <selenium.webdriver.remote.webelement.WebElement (session=\"e061edf9a86e7b4808ce2f1c2c1148b9\", element=\"199ed0d3-2f97-4539-a724-986c4a152e32\")>,\n",
       " <selenium.webdriver.remote.webelement.WebElement (session=\"e061edf9a86e7b4808ce2f1c2c1148b9\", element=\"b670dba8-5187-4602-b140-026d26dd219a\")>,\n",
       " <selenium.webdriver.remote.webelement.WebElement (session=\"e061edf9a86e7b4808ce2f1c2c1148b9\", element=\"31347a9f-b6d4-410a-af9e-2dd6b5064dac\")>,\n",
       " <selenium.webdriver.remote.webelement.WebElement (session=\"e061edf9a86e7b4808ce2f1c2c1148b9\", element=\"6a487a00-1836-4f72-b2a0-f97d8aa1ebca\")>,\n",
       " <selenium.webdriver.remote.webelement.WebElement (session=\"e061edf9a86e7b4808ce2f1c2c1148b9\", element=\"fb3fb61b-827b-4d13-b748-2212a58dc3f7\")>,\n",
       " <selenium.webdriver.remote.webelement.WebElement (session=\"e061edf9a86e7b4808ce2f1c2c1148b9\", element=\"e655f2df-4114-462c-b38a-7a28e54b23ae\")>,\n",
       " <selenium.webdriver.remote.webelement.WebElement (session=\"e061edf9a86e7b4808ce2f1c2c1148b9\", element=\"54611d6b-1417-411a-b304-82a0cf51c1e2\")>,\n",
       " <selenium.webdriver.remote.webelement.WebElement (session=\"e061edf9a86e7b4808ce2f1c2c1148b9\", element=\"e224e928-2cec-4bf4-b4d5-9d6511b76f72\")>,\n",
       " <selenium.webdriver.remote.webelement.WebElement (session=\"e061edf9a86e7b4808ce2f1c2c1148b9\", element=\"39759250-c454-4d6c-bcdf-61608aeb0805\")>,\n",
       " <selenium.webdriver.remote.webelement.WebElement (session=\"e061edf9a86e7b4808ce2f1c2c1148b9\", element=\"b6ed6e70-7e44-4373-8a62-683731fe48bb\")>,\n",
       " <selenium.webdriver.remote.webelement.WebElement (session=\"e061edf9a86e7b4808ce2f1c2c1148b9\", element=\"7e554769-b898-4802-8ba4-c9bb7a917026\")>,\n",
       " <selenium.webdriver.remote.webelement.WebElement (session=\"e061edf9a86e7b4808ce2f1c2c1148b9\", element=\"617af124-9c2a-4c49-a836-281f12f85150\")>,\n",
       " <selenium.webdriver.remote.webelement.WebElement (session=\"e061edf9a86e7b4808ce2f1c2c1148b9\", element=\"f7eb3a2d-d561-47dd-8809-d8c9ece35bff\")>,\n",
       " <selenium.webdriver.remote.webelement.WebElement (session=\"e061edf9a86e7b4808ce2f1c2c1148b9\", element=\"4b59c09f-c513-47a2-86fa-c3f16c468eff\")>]"
      ]
     },
     "execution_count": 199,
     "metadata": {},
     "output_type": "execute_result"
    }
   ],
   "source": [
    "desc_tags=driver.find_elements_by_xpath(\"//h2[@class='a-size-mini a-spacing-none a-color-base s-line-clamp-2']\")\n",
    "desc_tags[0:100]"
   ]
  },
  {
   "cell_type": "code",
   "execution_count": 200,
   "id": "8c75c37a",
   "metadata": {},
   "outputs": [
    {
     "data": {
      "text/plain": [
       "['HP Pavilion Gaming(2021) 10th Gen Intel Core i7 15.6-inch(39.6 cm) FHD IPS 144Hz Gaming Laptop (16GB/512GB SSD + 32GB Intel Optane/NVIDIA GTX 1650Ti 4GB/Win 10/MS Office/Shadow Black), 15-DK1511TX',\n",
       " 'Acer Nitro 5 AN515-57 Gaming Laptop | Intel Core i7-11800H |NVIDIA GeForce RTX 3050 Ti Laptop Graphics |15.6\" FHD 144Hz IPS Display |16GB DDR4 |256GB SSD+1TB HDD |Killer Wi-Fi 6 |RGB Backlit Keyboard',\n",
       " 'Mi Notebook Horizon Edition 14 Intel Core i7-10510U 10th Gen Thin and Light Laptop(8GB/512GB SSD/Windows 10/Nvidia MX350 2GB Graphics/Grey/1.35Kg)(Without Webcam) XMA1904-AF',\n",
       " 'ASUS ZenBook 14e (2021), 14.0-inch (35.56 cms) FHD Intel Core i7-1165G7 11th Gen, Thin and Light Laptop (16GB/1TB SSD/Office 2019/Windows 10/2GB NVIDIA MX450 Graphics/Grey/1.29 kg), UX435EG-KK701TS',\n",
       " 'Mi Notebook Ultra 3.2K resolution display Intel Core i7-11370H 11th Gen 15.6-inch(39.62 cm) Thin and Light laptop (16GB/512GB SSD/Iris Xe Graphics/Win 10/MS Office/Backlit KB/Fingerprint sensor/1.7Kg)',\n",
       " 'Lenovo Legion 5 11th Gen Intel Core i7 15.6\"(39.62cm) FHD IPS Gaming Laptop (16GB/512GB SSD/NVIDIA RTX 3050 4GB/120Hz Refresh Rate/Windows 10/MS Office/Backlit Keyboard/Phantom Blue/2.4Kg), 82JK007WIN',\n",
       " 'HP Pavilion (2021) Intel 11th Gen Core i7 14 inches FHD Screen Thin & Light Laptop, 16 GB RAM, 1TB SSD, Iris Xe Graphics, Windows 10, MS Office, Backlit Keyboard, 1.41kg (14-dv0058TU)',\n",
       " 'ASUS TUF Dash F15 (2021), 15.6-inch (39.62 cms) FHD 144Hz, Intel Core i7-11370H 11th Gen, RTX 3050 4GB Graphics Gaming Laptop (16GB RAM/512GB SSD/Windows 10/Gray/2 kg), FX516PC-HN063T',\n",
       " 'Lenovo IdeaPad Gaming 3 11th Gen Intel Core i7-11370H 15.6\" (39.63cm) FHD IPS Gaming Laptop (8GB/512GB SSD/Windows 10/NVIDIA RTX 3050 4GB/120Hz Refresh Display/Shadow Black/2.25Kg), 82K1004EIN',\n",
       " 'Mi Notebook Pro QHD+ IPS Anti Glare Display Intel Core i7-11370H 11th Gen 14-inch(35.56 cms) Thin and Light Laptop (16GB/512GB SSD/Iris Xe Graphics/Win 10/Backlit KB/Fingerprint Sensor/1.4 Kg)',\n",
       " 'MSI GF75 Intel Core i7-10750H, 17.3 inches FHD IPS-Level 144Hz Panel Thin Gaming Laptop (8GB/512GB NVMe SSD/Windows 10 Home/NVIDIA GTX1650 4GB GDDR6/Black/2.2Kg), 10SC-087IN (9S7-17F612-087)',\n",
       " 'ASUS TUF Dash F15 (2021), 15.6-inch (39.62 cms) FHD 144Hz, Intel Core i7-11370H 11th Gen, RTX 3050 4GB Graphics Gaming Laptop (16GB RAM/512GB SSD/Windows 10/White/2 kg), FX516PC-HN062T',\n",
       " 'Fujitsu UH-X 11th Gen Intel i7 Core 13.3 inches FHD IPS 400Nits Thin and Light Business Laptop (16GB/512GB SSD/Windows 10/Office/Iris Xe Graphics/Backlit Kb/ Fingerprint Reader/Black/0.878kg), 4ZR1D67596',\n",
       " '(Renewed) HP Intel Core i7 6700HQ 15.6-Inch (39.62 cms) 1920 X 1080 Laptop (128 GB/2 TB SSD/Windows/Intel HD Graphics & Nvidia 1000m/Grey/2.7 Kg), Zbook 15',\n",
       " 'ASUS TUF Gaming F15 (2021), 15.6-inch (39.62 cms) FHD 144Hz, Intel Core i7-11800H 11th Gen, GeForce RTX 3050 4GB Graphics, Gaming Laptop (8GB/512GB SSD/Windows 10/Eclipse Gray/2.3 Kg), FX566HC-HN093T',\n",
       " 'Lenovo ThinkBook 15 Intel 11th Gen Core i7 15.6\"(39.62 cm)FHD IPS 300 nits Antiglare 100% sRGB Thin & Light Laptop(16GB/1TB HDD+128GB SSD/Windows 10/MS Office/3 Yr Onsite Warranty/1.7 Kg) 20VEA0HBIH',\n",
       " 'HP Pavilion 13, 11th Gen Intel Core i7, 13.3-inch(33.8 cm) FHD,IPS, Micro-Edge Laptop (16GB RAM/ 1TB SSD/ Win 10/ FPR/Audio B&O/Alexa Built-in/MS Office/ Ceramic White/ 1.24 Kg) -13-bb0078TU',\n",
       " 'HP Pavilion (2021) Intel 11th Gen Core i5 14 inches FHD Screen Thin & Light Laptop, 16GB RAM, 512GB SSD, Iris Xe Graphics, Windows 11, MS Office, Backlit Keyboard, 1.41kg, Natural Silver (14-dv0054TU)',\n",
       " 'MSI GF75 Intel i7-10750H 17.3 inches FHD IPS-Level 144Hz Panel Thin Gaming Laptop (16GB/512GB NVMe SSD/Windows 10 Home/Nvidia RTX3050 Ti 4GB GDDR6/Black/2.2Kg), 10UD-086IN',\n",
       " 'ASUS TUF Gaming F15 (2021), 15.6-inch (39.62 cms) FHD 240Hz/3ms, Intel Core i9-11900H 11th Gen, RTX 3060 6GB Graphics Gaming Laptop (16GB/1TB SSD/Office 2019/Windows 10/Black/2.3 kg), FX506HM-AZ099TS',\n",
       " 'Lenovo IdeaPad Slim 5 Pro 11th Gen Intel Core i5 14\"(35.56cm) QHD IPS 300Nits Thin & Light Laptop (16GB/512GB SSD/Windows 10 Home/MS Office/Backlit Keyboard/3Yr Warranty/Storm Grey/1.38Kg), 82L3009LIN',\n",
       " 'Lenovo Yoga 7i 11th Gen Intel Core i7-1165G7 14 inches FHD IPS 2-in-1 Touchscreen Business Laptop (16GB/512GB SSD/Windows 10/MS Office/Digital Pen/Fingerprint Reader/Slate Grey/1.43Kg), 82BH004HIN',\n",
       " 'Dell 14 (2021) i7-1195G7 2in1 Touch Screen Laptop, 16GB, 512GB SSD, Win 10 + MS Office, 14.0\" (35.56 cms) FHD Display, Backlit KB, FPR + Active Pen, Platinum Silver (Inspiron 5410, D560596WIN9S)',\n",
       " 'Lenovo ThinkBook Yoga 14s Intel Core i7 11th Gen 14\"(35.56cm) FHD IPS 300 nits 100% sRGB Dolby Vision 2-in-1 Touchscreen Laptop (16GB RAM/512GB SSD/Windows 10/MS Office/Active Pen/1.50 kg) 20WEA01EIH',\n",
       " 'Acer Aspire 5 A515-56 Thin and Light Laptop | 15.6\" Full HD IPS Display | 11th Generation Intel Core i5-1135G7 Processor | 8GB DDR4 |256GB SSD | 1TB HDD|Backlit KB| WiFi 6| Windows 10 Home | MS Office',\n",
       " 'ASUS TUF Dash F15 (2021), 15.6\" (39.62 cms) FHD 144Hz, Intel Core i7-11370H 11th Gen, RTX 3050 Ti 4GB Graphics, Gaming Laptop (16GB/1TB SSD/Office 2019/Windows 10/Eclipse Gray/2 kg), FX516PE-HN088TS',\n",
       " 'Lenovo IdeaPad Gaming 3 AMD Ryzen 5 4600H 39.62 cm (15.6-inch) Full HD IPS Laptop (8GB/512GB SSD/Windows 10/60 Hz/NVIDIA GTX 1650 4GB GDDR6 Graphics/Onyx Black/2.2Kg), 82EY00RYIN',\n",
       " 'Lenovo Legion 5 AMD Ryzen 5 4600H 15.6 inch (39.62 cms) Full HD Gaming Laptop (8GB/1TB HDD + 256GB SSD/Windows 10/120 Hz/NVIDIA GTX 1650 4GB GDDR6/Phantom Black/2.3Kg), 82B500BHIN']"
      ]
     },
     "execution_count": 200,
     "metadata": {},
     "output_type": "execute_result"
    }
   ],
   "source": [
    "for i in desc_tags:\n",
    "    desc=i.text\n",
    "    product_desc.append(desc)\n",
    "product_desc[0:100]"
   ]
  },
  {
   "cell_type": "code",
   "execution_count": 203,
   "id": "61caa997",
   "metadata": {},
   "outputs": [
    {
     "data": {
      "text/plain": [
       "[]"
      ]
     },
     "execution_count": 203,
     "metadata": {},
     "output_type": "execute_result"
    }
   ],
   "source": [
    "rating_tags=driver.find_elements_by_xpath(\"//i[@class='a--icon a-icon-popover']\")\n",
    "rating_tags[0:100]"
   ]
  },
  {
   "cell_type": "code",
   "execution_count": 204,
   "id": "1b129207",
   "metadata": {},
   "outputs": [
    {
     "data": {
      "text/plain": [
       "[]"
      ]
     },
     "execution_count": 204,
     "metadata": {},
     "output_type": "execute_result"
    }
   ],
   "source": [
    "for i in rating_tags:\n",
    "    rating=i.text\n",
    "    rating_laptop.append(rating)\n",
    "rating_laptop[0:100]"
   ]
  },
  {
   "cell_type": "code",
   "execution_count": 205,
   "id": "50cc5eed",
   "metadata": {},
   "outputs": [
    {
     "data": {
      "text/plain": [
       "[<selenium.webdriver.remote.webelement.WebElement (session=\"e061edf9a86e7b4808ce2f1c2c1148b9\", element=\"0b076885-0cc3-4a2f-9d5f-e6e6ce3815c0\")>,\n",
       " <selenium.webdriver.remote.webelement.WebElement (session=\"e061edf9a86e7b4808ce2f1c2c1148b9\", element=\"a50aaa68-ec5d-482a-b371-723cf46e356c\")>,\n",
       " <selenium.webdriver.remote.webelement.WebElement (session=\"e061edf9a86e7b4808ce2f1c2c1148b9\", element=\"117aa7f9-3f73-456b-9ae1-ca4ab6b7d81c\")>,\n",
       " <selenium.webdriver.remote.webelement.WebElement (session=\"e061edf9a86e7b4808ce2f1c2c1148b9\", element=\"0ad5dcc8-29a3-428d-9383-c6d4e8bf55d7\")>,\n",
       " <selenium.webdriver.remote.webelement.WebElement (session=\"e061edf9a86e7b4808ce2f1c2c1148b9\", element=\"1d1bfd5d-7601-42d6-bc14-e8c22ff36b7e\")>,\n",
       " <selenium.webdriver.remote.webelement.WebElement (session=\"e061edf9a86e7b4808ce2f1c2c1148b9\", element=\"fa8030f8-1bdd-4d2a-b5c8-10b72a71f8e9\")>,\n",
       " <selenium.webdriver.remote.webelement.WebElement (session=\"e061edf9a86e7b4808ce2f1c2c1148b9\", element=\"54080ff7-c54e-4043-91fc-2a1300c1dbed\")>,\n",
       " <selenium.webdriver.remote.webelement.WebElement (session=\"e061edf9a86e7b4808ce2f1c2c1148b9\", element=\"1b44f194-c274-4624-a235-33912be9fc5d\")>,\n",
       " <selenium.webdriver.remote.webelement.WebElement (session=\"e061edf9a86e7b4808ce2f1c2c1148b9\", element=\"e4d63281-8788-41d6-995f-f8a79048d54c\")>,\n",
       " <selenium.webdriver.remote.webelement.WebElement (session=\"e061edf9a86e7b4808ce2f1c2c1148b9\", element=\"d9e09518-bc4d-434e-b880-7a5615373670\")>,\n",
       " <selenium.webdriver.remote.webelement.WebElement (session=\"e061edf9a86e7b4808ce2f1c2c1148b9\", element=\"13d0f6fd-75e3-4946-af29-698111ec352d\")>,\n",
       " <selenium.webdriver.remote.webelement.WebElement (session=\"e061edf9a86e7b4808ce2f1c2c1148b9\", element=\"2a9415e3-040d-494c-b78c-d080f62ff8a1\")>,\n",
       " <selenium.webdriver.remote.webelement.WebElement (session=\"e061edf9a86e7b4808ce2f1c2c1148b9\", element=\"05e7313b-641a-4f5f-b5e6-e2faddbd41de\")>,\n",
       " <selenium.webdriver.remote.webelement.WebElement (session=\"e061edf9a86e7b4808ce2f1c2c1148b9\", element=\"0754d8a2-c77d-4d1f-98e4-85aa88eb161e\")>,\n",
       " <selenium.webdriver.remote.webelement.WebElement (session=\"e061edf9a86e7b4808ce2f1c2c1148b9\", element=\"76973520-06f5-4357-98a0-2faaf7d4af44\")>,\n",
       " <selenium.webdriver.remote.webelement.WebElement (session=\"e061edf9a86e7b4808ce2f1c2c1148b9\", element=\"04149939-be1a-4941-9b40-0d0f6ff58dc2\")>,\n",
       " <selenium.webdriver.remote.webelement.WebElement (session=\"e061edf9a86e7b4808ce2f1c2c1148b9\", element=\"5eead1d4-7ee8-42ce-b7b8-1b14ef08ddb3\")>,\n",
       " <selenium.webdriver.remote.webelement.WebElement (session=\"e061edf9a86e7b4808ce2f1c2c1148b9\", element=\"3a6836b4-f023-4c92-a395-faa26a3ade2a\")>,\n",
       " <selenium.webdriver.remote.webelement.WebElement (session=\"e061edf9a86e7b4808ce2f1c2c1148b9\", element=\"a6301c28-94fc-472d-aa7e-6f2edece7128\")>,\n",
       " <selenium.webdriver.remote.webelement.WebElement (session=\"e061edf9a86e7b4808ce2f1c2c1148b9\", element=\"bc872d5c-8215-49fa-aa21-8d714da8dd3a\")>,\n",
       " <selenium.webdriver.remote.webelement.WebElement (session=\"e061edf9a86e7b4808ce2f1c2c1148b9\", element=\"a628b819-6a06-4454-9adc-d309e721d8b3\")>,\n",
       " <selenium.webdriver.remote.webelement.WebElement (session=\"e061edf9a86e7b4808ce2f1c2c1148b9\", element=\"f5465e27-5031-4260-b76b-47a20d4567b0\")>,\n",
       " <selenium.webdriver.remote.webelement.WebElement (session=\"e061edf9a86e7b4808ce2f1c2c1148b9\", element=\"0cd1cb9b-5fae-4ad4-a7c3-7cba6fbda082\")>,\n",
       " <selenium.webdriver.remote.webelement.WebElement (session=\"e061edf9a86e7b4808ce2f1c2c1148b9\", element=\"6e668f6d-b6af-4b32-8a3b-feefa246d093\")>,\n",
       " <selenium.webdriver.remote.webelement.WebElement (session=\"e061edf9a86e7b4808ce2f1c2c1148b9\", element=\"795edb09-88dc-4f78-b492-0da9234f390a\")>,\n",
       " <selenium.webdriver.remote.webelement.WebElement (session=\"e061edf9a86e7b4808ce2f1c2c1148b9\", element=\"20513f40-c322-43a8-a015-e9d55456251f\")>,\n",
       " <selenium.webdriver.remote.webelement.WebElement (session=\"e061edf9a86e7b4808ce2f1c2c1148b9\", element=\"c11e96e0-aced-4afc-80d2-17e00603f471\")>]"
      ]
     },
     "execution_count": 205,
     "metadata": {},
     "output_type": "execute_result"
    }
   ],
   "source": [
    "price_tags=driver.find_elements_by_xpath(\"//span[@class='a-price-whole']\")\n",
    "price_tags[0:100]"
   ]
  },
  {
   "cell_type": "code",
   "execution_count": 206,
   "id": "699b5b71",
   "metadata": {},
   "outputs": [
    {
     "data": {
      "text/plain": [
       "['88,999',\n",
       " '52,999',\n",
       " '1,04,990',\n",
       " '77,999',\n",
       " '1,00,990',\n",
       " '84,990',\n",
       " '89,990',\n",
       " '82,990',\n",
       " '73,999',\n",
       " '73,990',\n",
       " '95,990',\n",
       " '92,990',\n",
       " '1,67,990',\n",
       " '96,990',\n",
       " '85,990',\n",
       " '87,799',\n",
       " '66,999',\n",
       " '92,810',\n",
       " '1,48,980',\n",
       " '67,990',\n",
       " '1,03,450',\n",
       " '92,290',\n",
       " '89,990',\n",
       " '56,990',\n",
       " '1,07,990',\n",
       " '61,920',\n",
       " '62,990']"
      ]
     },
     "execution_count": 206,
     "metadata": {},
     "output_type": "execute_result"
    }
   ],
   "source": [
    "for i in price_tags:\n",
    "    price=i.text\n",
    "    price_laptop.append(price)\n",
    "price_laptop[0:100]"
   ]
  },
  {
   "cell_type": "markdown",
   "id": "9abd9681",
   "metadata": {},
   "source": [
    "#Q10: Write a python program to scrape the salary data for Data Scientist designation. \n",
    "You have to scrape Company name, Number of salaries, Average salary, Min salary, Max Salary. \n",
    "The above task will be, done as shown in the below steps: \n",
    "1. First get the webpage https://www.ambitionbox.com/ 2. Click on the salaries option as shown in the image. \n",
    "  \n",
    " \n",
    "3.\tAfter reaching to the following webpage, In place of “Search Job Profile” enters “Data Scientist” and then click on “Data Scientist”. \n",
    " \n",
    "  \n",
    " \n",
    "You have to scrape the data ticked in the above image. \n",
    "4.\tScrape the data for the first 10 companies. Scrape the company name, total salary record, average salary, minimum salary, maximum salary, experience required. \n",
    "5.\tStore the data in a dataframe. \n",
    "Note: All the steps required during scraping should be done through code only and not manually\n"
   ]
  },
  {
   "cell_type": "code",
   "execution_count": 207,
   "id": "015bbc8a",
   "metadata": {},
   "outputs": [
    {
     "name": "stdout",
     "output_type": "stream",
     "text": [
      "Requirement already satisfied: selenium in c:\\users\\pravat\\anaconda3\\lib\\site-packages (4.1.0)\n",
      "Requirement already satisfied: urllib3[secure]~=1.26 in c:\\users\\pravat\\anaconda3\\lib\\site-packages (from selenium) (1.26.4)\n",
      "Requirement already satisfied: trio-websocket~=0.9 in c:\\users\\pravat\\anaconda3\\lib\\site-packages (from selenium) (0.9.2)\n",
      "Requirement already satisfied: trio~=0.17 in c:\\users\\pravat\\anaconda3\\lib\\site-packages (from selenium) (0.19.0)\n",
      "Requirement already satisfied: outcome in c:\\users\\pravat\\anaconda3\\lib\\site-packages (from trio~=0.17->selenium) (1.1.0)\n",
      "Requirement already satisfied: attrs>=19.2.0 in c:\\users\\pravat\\anaconda3\\lib\\site-packages (from trio~=0.17->selenium) (20.3.0)\n",
      "Requirement already satisfied: cffi>=1.14 in c:\\users\\pravat\\anaconda3\\lib\\site-packages (from trio~=0.17->selenium) (1.14.5)\n",
      "Requirement already satisfied: sortedcontainers in c:\\users\\pravat\\anaconda3\\lib\\site-packages (from trio~=0.17->selenium) (2.3.0)\n",
      "Requirement already satisfied: sniffio in c:\\users\\pravat\\anaconda3\\lib\\site-packages (from trio~=0.17->selenium) (1.2.0)\n",
      "Requirement already satisfied: async-generator>=1.9 in c:\\users\\pravat\\anaconda3\\lib\\site-packages (from trio~=0.17->selenium) (1.10)\n",
      "Requirement already satisfied: idna in c:\\users\\pravat\\anaconda3\\lib\\site-packages (from trio~=0.17->selenium) (2.10)\n",
      "Requirement already satisfied: pycparser in c:\\users\\pravat\\anaconda3\\lib\\site-packages (from cffi>=1.14->trio~=0.17->selenium) (2.20)\n",
      "Requirement already satisfied: wsproto>=0.14 in c:\\users\\pravat\\anaconda3\\lib\\site-packages (from trio-websocket~=0.9->selenium) (1.0.0)\n",
      "Requirement already satisfied: pyOpenSSL>=0.14 in c:\\users\\pravat\\anaconda3\\lib\\site-packages (from urllib3[secure]~=1.26->selenium) (20.0.1)\n",
      "Requirement already satisfied: cryptography>=1.3.4 in c:\\users\\pravat\\anaconda3\\lib\\site-packages (from urllib3[secure]~=1.26->selenium) (3.4.7)\n",
      "Requirement already satisfied: certifi in c:\\users\\pravat\\anaconda3\\lib\\site-packages (from urllib3[secure]~=1.26->selenium) (2020.12.5)\n",
      "Requirement already satisfied: six>=1.5.2 in c:\\users\\pravat\\anaconda3\\lib\\site-packages (from pyOpenSSL>=0.14->urllib3[secure]~=1.26->selenium) (1.15.0)\n",
      "Requirement already satisfied: h11<1,>=0.9.0 in c:\\users\\pravat\\anaconda3\\lib\\site-packages (from wsproto>=0.14->trio-websocket~=0.9->selenium) (0.12.0)\n"
     ]
    }
   ],
   "source": [
    "! pip install selenium"
   ]
  },
  {
   "cell_type": "code",
   "execution_count": 208,
   "id": "efbc0613",
   "metadata": {},
   "outputs": [],
   "source": [
    "import selenium \n",
    "import pandas as pd\n",
    "from selenium import webdriver\n",
    "import warnings\n",
    "warnings.filterwarnings(\"ignore\")"
   ]
  },
  {
   "cell_type": "code",
   "execution_count": 209,
   "id": "991b933e",
   "metadata": {},
   "outputs": [],
   "source": [
    "driver=webdriver.Chrome(r\"C:/Users/pravat/Downloads/chromedriver_win32/chromedriver.exe\")\n",
    "warnings.filterwarnings(\"ignore\")"
   ]
  },
  {
   "cell_type": "code",
   "execution_count": 210,
   "id": "ab3cd9da",
   "metadata": {},
   "outputs": [],
   "source": [
    "driver.get('https://www.ambitionbox.com/')"
   ]
  },
  {
   "cell_type": "code",
   "execution_count": 211,
   "id": "764c2721",
   "metadata": {},
   "outputs": [],
   "source": [
    "url=\"https://www.ambitionbox.com/jobs/search?tag=data%20scientist\""
   ]
  },
  {
   "cell_type": "code",
   "execution_count": 212,
   "id": "67d14012",
   "metadata": {},
   "outputs": [],
   "source": [
    "driver.get(url)"
   ]
  },
  {
   "cell_type": "code",
   "execution_count": 213,
   "id": "23e01c3e",
   "metadata": {},
   "outputs": [],
   "source": [
    "job_title=[]\n",
    "company_names=[]\n",
    "locations_list=[]\n",
    "salary_list=[]\n",
    "minsalary_list=[]\n",
    "maxsalary_list=[]"
   ]
  },
  {
   "cell_type": "code",
   "execution_count": 214,
   "id": "f2f4e663",
   "metadata": {},
   "outputs": [
    {
     "data": {
      "text/plain": [
       "[<selenium.webdriver.remote.webelement.WebElement (session=\"d9a87622952cb3dd0ba56ec7ec55f0bd\", element=\"1b15ab47-25a8-4647-8c42-7eda0971966d\")>,\n",
       " <selenium.webdriver.remote.webelement.WebElement (session=\"d9a87622952cb3dd0ba56ec7ec55f0bd\", element=\"4cd504b6-e65b-4863-80a0-b4a6ede4a541\")>,\n",
       " <selenium.webdriver.remote.webelement.WebElement (session=\"d9a87622952cb3dd0ba56ec7ec55f0bd\", element=\"08ddea4a-3e4a-4932-a8e8-7551f7895094\")>,\n",
       " <selenium.webdriver.remote.webelement.WebElement (session=\"d9a87622952cb3dd0ba56ec7ec55f0bd\", element=\"ddfc8d2c-88bb-4366-9911-7f2962868907\")>,\n",
       " <selenium.webdriver.remote.webelement.WebElement (session=\"d9a87622952cb3dd0ba56ec7ec55f0bd\", element=\"a7006881-58fa-4445-b1b9-1c80cf2e4fbb\")>,\n",
       " <selenium.webdriver.remote.webelement.WebElement (session=\"d9a87622952cb3dd0ba56ec7ec55f0bd\", element=\"2791584d-8dbd-4056-b5fb-1e392baf61e8\")>,\n",
       " <selenium.webdriver.remote.webelement.WebElement (session=\"d9a87622952cb3dd0ba56ec7ec55f0bd\", element=\"7fc40dcb-21e8-4d98-959f-dafdd3b90047\")>,\n",
       " <selenium.webdriver.remote.webelement.WebElement (session=\"d9a87622952cb3dd0ba56ec7ec55f0bd\", element=\"5712b934-ffe9-41f8-959d-b55b08089ae7\")>,\n",
       " <selenium.webdriver.remote.webelement.WebElement (session=\"d9a87622952cb3dd0ba56ec7ec55f0bd\", element=\"b1dedc68-ef94-4112-a2d6-5a1712113801\")>,\n",
       " <selenium.webdriver.remote.webelement.WebElement (session=\"d9a87622952cb3dd0ba56ec7ec55f0bd\", element=\"1d3ddc59-6446-49a2-aaa9-a057c4045996\")>]"
      ]
     },
     "execution_count": 214,
     "metadata": {},
     "output_type": "execute_result"
    }
   ],
   "source": [
    "titles_tags=driver.find_elements_by_xpath(\"//a[@class='title noclick']\")\n",
    "titles_tags"
   ]
  },
  {
   "cell_type": "code",
   "execution_count": 215,
   "id": "eb4b2a1d",
   "metadata": {},
   "outputs": [
    {
     "data": {
      "text/plain": [
       "['Advanced Analytics Expert - Data Scientist',\n",
       " 'Manager, Clinical Data Scientist, Clinical Data Sciences',\n",
       " 'Data Scientist (Risk Analytics - Derivatives) -JP Morgan - Mumbai',\n",
       " 'Data Scientist (Risk Analytics - Derivatives)',\n",
       " 'Data Scientist: Advanced Analytics',\n",
       " 'RCP Data Scientist',\n",
       " 'Data Scientist: Advanced Analytics',\n",
       " 'Data Scientist: Advanced Analytics',\n",
       " 'Tcs Hiring For Azure ML Data Scientist',\n",
       " 'Data Scientist: Artificial Intelligence']"
      ]
     },
     "execution_count": 215,
     "metadata": {},
     "output_type": "execute_result"
    }
   ],
   "source": [
    "for i in titles_tags:\n",
    "    title=i.text\n",
    "    job_title.append(title)\n",
    "job_title"
   ]
  },
  {
   "cell_type": "code",
   "execution_count": 216,
   "id": "44e4ab39",
   "metadata": {},
   "outputs": [
    {
     "data": {
      "text/plain": [
       "[<selenium.webdriver.remote.webelement.WebElement (session=\"d9a87622952cb3dd0ba56ec7ec55f0bd\", element=\"cf19588b-0c17-404a-85e5-844c68a536a1\")>,\n",
       " <selenium.webdriver.remote.webelement.WebElement (session=\"d9a87622952cb3dd0ba56ec7ec55f0bd\", element=\"250e6855-126a-4820-904c-fd47f4757742\")>,\n",
       " <selenium.webdriver.remote.webelement.WebElement (session=\"d9a87622952cb3dd0ba56ec7ec55f0bd\", element=\"030cf772-9fa9-4941-b697-69b5f886a29b\")>,\n",
       " <selenium.webdriver.remote.webelement.WebElement (session=\"d9a87622952cb3dd0ba56ec7ec55f0bd\", element=\"20d0a202-2b26-447e-a153-e51164ae9ec8\")>,\n",
       " <selenium.webdriver.remote.webelement.WebElement (session=\"d9a87622952cb3dd0ba56ec7ec55f0bd\", element=\"ebef02d3-534b-48b8-8512-6882fc9cadbf\")>,\n",
       " <selenium.webdriver.remote.webelement.WebElement (session=\"d9a87622952cb3dd0ba56ec7ec55f0bd\", element=\"fed7d697-08b5-4634-b969-78194e4ce881\")>,\n",
       " <selenium.webdriver.remote.webelement.WebElement (session=\"d9a87622952cb3dd0ba56ec7ec55f0bd\", element=\"863d5a41-d6f6-4e94-a580-83d66f0b9abb\")>,\n",
       " <selenium.webdriver.remote.webelement.WebElement (session=\"d9a87622952cb3dd0ba56ec7ec55f0bd\", element=\"2b453d27-0e88-466a-933c-51cd0a51b351\")>,\n",
       " <selenium.webdriver.remote.webelement.WebElement (session=\"d9a87622952cb3dd0ba56ec7ec55f0bd\", element=\"32ec0f56-9c00-49c1-8b28-e0690712e957\")>,\n",
       " <selenium.webdriver.remote.webelement.WebElement (session=\"d9a87622952cb3dd0ba56ec7ec55f0bd\", element=\"902838e4-4022-4b5c-931c-a7fd4a745387\")>]"
      ]
     },
     "execution_count": 216,
     "metadata": {},
     "output_type": "execute_result"
    }
   ],
   "source": [
    "companies_tags=driver.find_elements_by_xpath(\"//p[@class='company body-medium']\")\n",
    "companies_tags"
   ]
  },
  {
   "cell_type": "code",
   "execution_count": 225,
   "id": "ada1d95d",
   "metadata": {},
   "outputs": [
    {
     "ename": "WebDriverException",
     "evalue": "Message: chrome not reachable\n  (Session info: chrome=96.0.4664.110)\nStacktrace:\nBacktrace:\n\tOrdinal0 [0x011F6903+2517251]\n\tOrdinal0 [0x0118F8E1+2095329]\n\tOrdinal0 [0x01092710+1058576]\n\tOrdinal0 [0x010876A4+1013412]\n\tOrdinal0 [0x01087EA8+1015464]\n\tOrdinal0 [0x01089695+1021589]\n\tOrdinal0 [0x01083686+996998]\n\tOrdinal0 [0x01093A60+1063520]\n\tOrdinal0 [0x010E5382+1397634]\n\tOrdinal0 [0x010D639B+1336219]\n\tOrdinal0 [0x010B27A7+1189799]\n\tOrdinal0 [0x010B3609+1193481]\n\tGetHandleVerifier [0x01385904+1577972]\n\tGetHandleVerifier [0x01430B97+2279047]\n\tGetHandleVerifier [0x01286D09+534521]\n\tGetHandleVerifier [0x01285DB9+530601]\n\tOrdinal0 [0x01194FF9+2117625]\n\tOrdinal0 [0x011998A8+2136232]\n\tOrdinal0 [0x011999E2+2136546]\n\tOrdinal0 [0x011A3541+2176321]\n\tBaseThreadInitThunk [0x774FFA29+25]\n\tRtlGetAppContainerNamedObjectPath [0x777F7A9E+286]\n\tRtlGetAppContainerNamedObjectPath [0x777F7A6E+238]\n",
     "output_type": "error",
     "traceback": [
      "\u001b[1;31m---------------------------------------------------------------------------\u001b[0m",
      "\u001b[1;31mWebDriverException\u001b[0m                        Traceback (most recent call last)",
      "\u001b[1;32m<ipython-input-225-eec7ddea1ce2>\u001b[0m in \u001b[0;36m<module>\u001b[1;34m\u001b[0m\n\u001b[0;32m      1\u001b[0m \u001b[1;32mfor\u001b[0m \u001b[0mi\u001b[0m \u001b[1;32min\u001b[0m \u001b[0mcompanies_tags\u001b[0m\u001b[1;33m:\u001b[0m\u001b[1;33m\u001b[0m\u001b[1;33m\u001b[0m\u001b[0m\n\u001b[1;32m----> 2\u001b[1;33m     \u001b[0mcompany_name\u001b[0m\u001b[1;33m=\u001b[0m\u001b[0mi\u001b[0m\u001b[1;33m.\u001b[0m\u001b[0mtext\u001b[0m\u001b[1;33m\u001b[0m\u001b[1;33m\u001b[0m\u001b[0m\n\u001b[0m\u001b[0;32m      3\u001b[0m     \u001b[0mcompany_names\u001b[0m\u001b[1;33m.\u001b[0m\u001b[0mappend\u001b[0m\u001b[1;33m(\u001b[0m\u001b[0mcompany_name\u001b[0m\u001b[1;33m)\u001b[0m\u001b[1;33m\u001b[0m\u001b[1;33m\u001b[0m\u001b[0m\n\u001b[0;32m      4\u001b[0m \u001b[0mcompany_names\u001b[0m\u001b[1;33m\u001b[0m\u001b[1;33m\u001b[0m\u001b[0m\n",
      "\u001b[1;32m~\\anaconda3\\lib\\site-packages\\selenium\\webdriver\\remote\\webelement.py\u001b[0m in \u001b[0;36mtext\u001b[1;34m(self)\u001b[0m\n\u001b[0;32m     75\u001b[0m     \u001b[1;32mdef\u001b[0m \u001b[0mtext\u001b[0m\u001b[1;33m(\u001b[0m\u001b[0mself\u001b[0m\u001b[1;33m)\u001b[0m \u001b[1;33m->\u001b[0m \u001b[0mstr\u001b[0m\u001b[1;33m:\u001b[0m\u001b[1;33m\u001b[0m\u001b[1;33m\u001b[0m\u001b[0m\n\u001b[0;32m     76\u001b[0m         \u001b[1;34m\"\"\"The text of the element.\"\"\"\u001b[0m\u001b[1;33m\u001b[0m\u001b[1;33m\u001b[0m\u001b[0m\n\u001b[1;32m---> 77\u001b[1;33m         \u001b[1;32mreturn\u001b[0m \u001b[0mself\u001b[0m\u001b[1;33m.\u001b[0m\u001b[0m_execute\u001b[0m\u001b[1;33m(\u001b[0m\u001b[0mCommand\u001b[0m\u001b[1;33m.\u001b[0m\u001b[0mGET_ELEMENT_TEXT\u001b[0m\u001b[1;33m)\u001b[0m\u001b[1;33m[\u001b[0m\u001b[1;34m'value'\u001b[0m\u001b[1;33m]\u001b[0m\u001b[1;33m\u001b[0m\u001b[1;33m\u001b[0m\u001b[0m\n\u001b[0m\u001b[0;32m     78\u001b[0m \u001b[1;33m\u001b[0m\u001b[0m\n\u001b[0;32m     79\u001b[0m     \u001b[1;32mdef\u001b[0m \u001b[0mclick\u001b[0m\u001b[1;33m(\u001b[0m\u001b[0mself\u001b[0m\u001b[1;33m)\u001b[0m \u001b[1;33m->\u001b[0m \u001b[1;32mNone\u001b[0m\u001b[1;33m:\u001b[0m\u001b[1;33m\u001b[0m\u001b[1;33m\u001b[0m\u001b[0m\n",
      "\u001b[1;32m~\\anaconda3\\lib\\site-packages\\selenium\\webdriver\\remote\\webelement.py\u001b[0m in \u001b[0;36m_execute\u001b[1;34m(self, command, params)\u001b[0m\n\u001b[0;32m    708\u001b[0m             \u001b[0mparams\u001b[0m \u001b[1;33m=\u001b[0m \u001b[1;33m{\u001b[0m\u001b[1;33m}\u001b[0m\u001b[1;33m\u001b[0m\u001b[1;33m\u001b[0m\u001b[0m\n\u001b[0;32m    709\u001b[0m         \u001b[0mparams\u001b[0m\u001b[1;33m[\u001b[0m\u001b[1;34m'id'\u001b[0m\u001b[1;33m]\u001b[0m \u001b[1;33m=\u001b[0m \u001b[0mself\u001b[0m\u001b[1;33m.\u001b[0m\u001b[0m_id\u001b[0m\u001b[1;33m\u001b[0m\u001b[1;33m\u001b[0m\u001b[0m\n\u001b[1;32m--> 710\u001b[1;33m         \u001b[1;32mreturn\u001b[0m \u001b[0mself\u001b[0m\u001b[1;33m.\u001b[0m\u001b[0m_parent\u001b[0m\u001b[1;33m.\u001b[0m\u001b[0mexecute\u001b[0m\u001b[1;33m(\u001b[0m\u001b[0mcommand\u001b[0m\u001b[1;33m,\u001b[0m \u001b[0mparams\u001b[0m\u001b[1;33m)\u001b[0m\u001b[1;33m\u001b[0m\u001b[1;33m\u001b[0m\u001b[0m\n\u001b[0m\u001b[0;32m    711\u001b[0m \u001b[1;33m\u001b[0m\u001b[0m\n\u001b[0;32m    712\u001b[0m     \u001b[1;32mdef\u001b[0m \u001b[0mfind_element\u001b[0m\u001b[1;33m(\u001b[0m\u001b[0mself\u001b[0m\u001b[1;33m,\u001b[0m \u001b[0mby\u001b[0m\u001b[1;33m=\u001b[0m\u001b[0mBy\u001b[0m\u001b[1;33m.\u001b[0m\u001b[0mID\u001b[0m\u001b[1;33m,\u001b[0m \u001b[0mvalue\u001b[0m\u001b[1;33m=\u001b[0m\u001b[1;32mNone\u001b[0m\u001b[1;33m)\u001b[0m\u001b[1;33m:\u001b[0m\u001b[1;33m\u001b[0m\u001b[1;33m\u001b[0m\u001b[0m\n",
      "\u001b[1;32m~\\anaconda3\\lib\\site-packages\\selenium\\webdriver\\remote\\webdriver.py\u001b[0m in \u001b[0;36mexecute\u001b[1;34m(self, driver_command, params)\u001b[0m\n\u001b[0;32m    422\u001b[0m         \u001b[0mresponse\u001b[0m \u001b[1;33m=\u001b[0m \u001b[0mself\u001b[0m\u001b[1;33m.\u001b[0m\u001b[0mcommand_executor\u001b[0m\u001b[1;33m.\u001b[0m\u001b[0mexecute\u001b[0m\u001b[1;33m(\u001b[0m\u001b[0mdriver_command\u001b[0m\u001b[1;33m,\u001b[0m \u001b[0mparams\u001b[0m\u001b[1;33m)\u001b[0m\u001b[1;33m\u001b[0m\u001b[1;33m\u001b[0m\u001b[0m\n\u001b[0;32m    423\u001b[0m         \u001b[1;32mif\u001b[0m \u001b[0mresponse\u001b[0m\u001b[1;33m:\u001b[0m\u001b[1;33m\u001b[0m\u001b[1;33m\u001b[0m\u001b[0m\n\u001b[1;32m--> 424\u001b[1;33m             \u001b[0mself\u001b[0m\u001b[1;33m.\u001b[0m\u001b[0merror_handler\u001b[0m\u001b[1;33m.\u001b[0m\u001b[0mcheck_response\u001b[0m\u001b[1;33m(\u001b[0m\u001b[0mresponse\u001b[0m\u001b[1;33m)\u001b[0m\u001b[1;33m\u001b[0m\u001b[1;33m\u001b[0m\u001b[0m\n\u001b[0m\u001b[0;32m    425\u001b[0m             response['value'] = self._unwrap_value(\n\u001b[0;32m    426\u001b[0m                 response.get('value', None))\n",
      "\u001b[1;32m~\\anaconda3\\lib\\site-packages\\selenium\\webdriver\\remote\\errorhandler.py\u001b[0m in \u001b[0;36mcheck_response\u001b[1;34m(self, response)\u001b[0m\n\u001b[0;32m    245\u001b[0m                 \u001b[0malert_text\u001b[0m \u001b[1;33m=\u001b[0m \u001b[0mvalue\u001b[0m\u001b[1;33m[\u001b[0m\u001b[1;34m'alert'\u001b[0m\u001b[1;33m]\u001b[0m\u001b[1;33m.\u001b[0m\u001b[0mget\u001b[0m\u001b[1;33m(\u001b[0m\u001b[1;34m'text'\u001b[0m\u001b[1;33m)\u001b[0m\u001b[1;33m\u001b[0m\u001b[1;33m\u001b[0m\u001b[0m\n\u001b[0;32m    246\u001b[0m             \u001b[1;32mraise\u001b[0m \u001b[0mexception_class\u001b[0m\u001b[1;33m(\u001b[0m\u001b[0mmessage\u001b[0m\u001b[1;33m,\u001b[0m \u001b[0mscreen\u001b[0m\u001b[1;33m,\u001b[0m \u001b[0mstacktrace\u001b[0m\u001b[1;33m,\u001b[0m \u001b[0malert_text\u001b[0m\u001b[1;33m)\u001b[0m  \u001b[1;31m# type: ignore[call-arg]  # mypy is not smart enough here\u001b[0m\u001b[1;33m\u001b[0m\u001b[1;33m\u001b[0m\u001b[0m\n\u001b[1;32m--> 247\u001b[1;33m         \u001b[1;32mraise\u001b[0m \u001b[0mexception_class\u001b[0m\u001b[1;33m(\u001b[0m\u001b[0mmessage\u001b[0m\u001b[1;33m,\u001b[0m \u001b[0mscreen\u001b[0m\u001b[1;33m,\u001b[0m \u001b[0mstacktrace\u001b[0m\u001b[1;33m)\u001b[0m\u001b[1;33m\u001b[0m\u001b[1;33m\u001b[0m\u001b[0m\n\u001b[0m\u001b[0;32m    248\u001b[0m \u001b[1;33m\u001b[0m\u001b[0m\n\u001b[0;32m    249\u001b[0m     \u001b[1;32mdef\u001b[0m \u001b[0m_value_or_default\u001b[0m\u001b[1;33m(\u001b[0m\u001b[0mself\u001b[0m\u001b[1;33m,\u001b[0m \u001b[0mobj\u001b[0m\u001b[1;33m:\u001b[0m \u001b[0mMapping\u001b[0m\u001b[1;33m[\u001b[0m\u001b[0m_KT\u001b[0m\u001b[1;33m,\u001b[0m \u001b[0m_VT\u001b[0m\u001b[1;33m]\u001b[0m\u001b[1;33m,\u001b[0m \u001b[0mkey\u001b[0m\u001b[1;33m:\u001b[0m \u001b[0m_KT\u001b[0m\u001b[1;33m,\u001b[0m \u001b[0mdefault\u001b[0m\u001b[1;33m:\u001b[0m \u001b[0m_VT\u001b[0m\u001b[1;33m)\u001b[0m \u001b[1;33m->\u001b[0m \u001b[0m_VT\u001b[0m\u001b[1;33m:\u001b[0m\u001b[1;33m\u001b[0m\u001b[1;33m\u001b[0m\u001b[0m\n",
      "\u001b[1;31mWebDriverException\u001b[0m: Message: chrome not reachable\n  (Session info: chrome=96.0.4664.110)\nStacktrace:\nBacktrace:\n\tOrdinal0 [0x011F6903+2517251]\n\tOrdinal0 [0x0118F8E1+2095329]\n\tOrdinal0 [0x01092710+1058576]\n\tOrdinal0 [0x010876A4+1013412]\n\tOrdinal0 [0x01087EA8+1015464]\n\tOrdinal0 [0x01089695+1021589]\n\tOrdinal0 [0x01083686+996998]\n\tOrdinal0 [0x01093A60+1063520]\n\tOrdinal0 [0x010E5382+1397634]\n\tOrdinal0 [0x010D639B+1336219]\n\tOrdinal0 [0x010B27A7+1189799]\n\tOrdinal0 [0x010B3609+1193481]\n\tGetHandleVerifier [0x01385904+1577972]\n\tGetHandleVerifier [0x01430B97+2279047]\n\tGetHandleVerifier [0x01286D09+534521]\n\tGetHandleVerifier [0x01285DB9+530601]\n\tOrdinal0 [0x01194FF9+2117625]\n\tOrdinal0 [0x011998A8+2136232]\n\tOrdinal0 [0x011999E2+2136546]\n\tOrdinal0 [0x011A3541+2176321]\n\tBaseThreadInitThunk [0x774FFA29+25]\n\tRtlGetAppContainerNamedObjectPath [0x777F7A9E+286]\n\tRtlGetAppContainerNamedObjectPath [0x777F7A6E+238]\n"
     ]
    }
   ],
   "source": [
    "for i in companies_tags:\n",
    "    company_name=i.text\n",
    "    company_names.append(company_name)\n",
    "company_names"
   ]
  },
  {
   "cell_type": "code",
   "execution_count": null,
   "id": "760a46c5",
   "metadata": {},
   "outputs": [],
   "source": [
    "avgsalary_tags=driver.find_elements_by_xpath(\"//span[@class='avgCtc']\")\n",
    "avgsalary_tags"
   ]
  },
  {
   "cell_type": "code",
   "execution_count": null,
   "id": "3d3e7ae8",
   "metadata": {},
   "outputs": [],
   "source": [
    "for i in avgsalary_tags:\n",
    "    salary=i.text\n",
    "    salary_list.append(salary)\n",
    "salary_list"
   ]
  },
  {
   "cell_type": "code",
   "execution_count": null,
   "id": "ffe4bdc3",
   "metadata": {},
   "outputs": [],
   "source": [
    "minsalary_tags=driver.find_elements_by_xpath(\"//span[@class='card_text']\")\n",
    "minsalary_tags"
   ]
  },
  {
   "cell_type": "code",
   "execution_count": null,
   "id": "f10fa1fd",
   "metadata": {},
   "outputs": [],
   "source": [
    "for i in minsalary_tags:\n",
    "    minsalary=i.text\n",
    "    minsalary_list.append(minsalary)\n",
    "minsalary_list"
   ]
  },
  {
   "cell_type": "code",
   "execution_count": null,
   "id": "9fe0d994",
   "metadata": {},
   "outputs": [],
   "source": [
    "maxsalary_tags=driver.find_elements_by_xpath(\"//span[@class='card_text']/i\")\n",
    "maxsalary_tags"
   ]
  },
  {
   "cell_type": "code",
   "execution_count": 226,
   "id": "d5a5977c",
   "metadata": {},
   "outputs": [
    {
     "data": {
      "text/plain": [
       "[]"
      ]
     },
     "execution_count": 226,
     "metadata": {},
     "output_type": "execute_result"
    }
   ],
   "source": [
    "for i in maxsalary_tags:\n",
    "    maxsalary=i.text\n",
    "    maxsalary_list.append(maxsalary)\n",
    "maxsalary_list"
   ]
  },
  {
   "cell_type": "code",
   "execution_count": null,
   "id": "432f9552",
   "metadata": {},
   "outputs": [],
   "source": []
  }
 ],
 "metadata": {
  "kernelspec": {
   "display_name": "Python 3",
   "language": "python",
   "name": "python3"
  },
  "language_info": {
   "codemirror_mode": {
    "name": "ipython",
    "version": 3
   },
   "file_extension": ".py",
   "mimetype": "text/x-python",
   "name": "python",
   "nbconvert_exporter": "python",
   "pygments_lexer": "ipython3",
   "version": "3.8.8"
  }
 },
 "nbformat": 4,
 "nbformat_minor": 5
}
