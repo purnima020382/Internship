{
 "cells": [
  {
   "cell_type": "markdown",
   "id": "d6062415",
   "metadata": {},
   "source": [
    "# Q11.Write a python program to find the factorial of a number. "
   ]
  },
  {
   "cell_type": "code",
   "execution_count": 1,
   "id": "a90303d7",
   "metadata": {},
   "outputs": [
    {
     "name": "stdout",
     "output_type": "stream",
     "text": [
      "Enter a number: 4\n",
      "The factorial of 4 is 24\n"
     ]
    }
   ],
   "source": [
    "num = int(input(\"Enter a number: \"))    \n",
    "factorial = 1    \n",
    "if num < 0:    \n",
    "    print(\" Factorial number does not exist for negative numbers\")    \n",
    "elif num == 0:    \n",
    "    print(\"The factorial of 0 is 1\")    \n",
    "else:    \n",
    "    for i in range(1,num + 1):    \n",
    "        factorial = factorial*i    \n",
    "print(\"The factorial of\",num,\"is\",factorial)    \n"
   ]
  },
  {
   "cell_type": "markdown",
   "id": "c97e57ca",
   "metadata": {},
   "source": [
    "# Q 12.\tWrite a python program to find whether a number is prime or composite. "
   ]
  },
  {
   "cell_type": "code",
   "execution_count": 6,
   "id": "cd998366",
   "metadata": {},
   "outputs": [
    {
     "name": "stdout",
     "output_type": "stream",
     "text": [
      "Enter The Number4\n",
      "4 is a composite number\n"
     ]
    }
   ],
   "source": [
    "x = int(input(\"Enter The Number\"))\n",
    "\n",
    "if x > 1:\n",
    "    for i in range(2,int(x/2)+1):\n",
    "        if (x % i == 0):\n",
    "            print(x, \"is a composite number\")\n",
    "            break\n",
    "    else:\n",
    "        print(x,\"is a Prime number\")    \n",
    "else:\n",
    "    print(number,\"is not a prime number\")\n"
   ]
  },
  {
   "cell_type": "markdown",
   "id": "25ff4be6",
   "metadata": {},
   "source": [
    "# Q 13.Write a python program to check whether a given string is palindrome or not. \n"
   ]
  },
  {
   "cell_type": "code",
   "execution_count": 12,
   "id": "c08223ac",
   "metadata": {},
   "outputs": [
    {
     "name": "stdout",
     "output_type": "stream",
     "text": [
      "Enter string:nun\n",
      "The string is a palindrome\n"
     ]
    }
   ],
   "source": [
    "string=input(\"Enter string:\")\n",
    "if(string==string[::-1]):\n",
    "    print(\"The string is a palindrome\")\n",
    "else:\n",
    "    print(\"The string isn't a palindrome\")\n"
   ]
  },
  {
   "cell_type": "markdown",
   "id": "f52b083f",
   "metadata": {},
   "source": [
    "# Q 14.Write a Python program to get the third side of right-angled triangle from two given sides"
   ]
  },
  {
   "cell_type": "code",
   "execution_count": 5,
   "id": "50f8bd4a",
   "metadata": {},
   "outputs": [],
   "source": [
    "import math"
   ]
  },
  {
   "cell_type": "code",
   "execution_count": 6,
   "id": "a9455089",
   "metadata": {},
   "outputs": [
    {
     "name": "stdout",
     "output_type": "stream",
     "text": [
      "Enter base: 4\n",
      "Enter height: 5\n",
      "Enter angle: 7\n",
      "Hypotenuse = 6.4031242374328485\n"
     ]
    }
   ],
   "source": [
    "a = float(input(\"Enter base: \"))\n",
    "b = float(input(\"Enter height: \"))\n",
    "x = float(input(\"Enter angle: \"))\n",
    "\n",
    "c = math.sqrt(a ** 2 + b ** 2)\n",
    "\n",
    "print(\"Hypotenuse =\", c)"
   ]
  },
  {
   "cell_type": "markdown",
   "id": "fa94d824",
   "metadata": {},
   "source": [
    "# Q 15 Write a python program to print the frequency of each of the characters present in a given string. "
   ]
  },
  {
   "cell_type": "code",
   "execution_count": 5,
   "id": "655ccf44",
   "metadata": {},
   "outputs": [
    {
     "name": "stdout",
     "output_type": "stream",
     "text": [
      "frequency of each character in 'Jamshedpur' is :\n",
      " {'J': 1, 'a': 1, 'm': 1, 's': 1, 'h': 1, 'e': 1, 'd': 1, 'p': 1, 'u': 1, 'r': 1}\n"
     ]
    }
   ],
   "source": [
    "input_string = \"Jamshedpur\"\n",
    "frequencies = {} \n",
    "  \n",
    "for char in input_string: \n",
    "    if char in frequencies: \n",
    "        frequencies[char] += 1\n",
    "    else: \n",
    "        frequencies[char] = 1\n",
    "print (\"frequency of each character in '{}' is :\\n {}\".format(input_string, str(frequencies)))\n",
    "\n"
   ]
  },
  {
   "cell_type": "code",
   "execution_count": null,
   "id": "ec324ca6",
   "metadata": {},
   "outputs": [],
   "source": []
  }
 ],
 "metadata": {
  "kernelspec": {
   "display_name": "Python 3",
   "language": "python",
   "name": "python3"
  },
  "language_info": {
   "codemirror_mode": {
    "name": "ipython",
    "version": 3
   },
   "file_extension": ".py",
   "mimetype": "text/x-python",
   "name": "python",
   "nbconvert_exporter": "python",
   "pygments_lexer": "ipython3",
   "version": "3.8.8"
  }
 },
 "nbformat": 4,
 "nbformat_minor": 5
}
